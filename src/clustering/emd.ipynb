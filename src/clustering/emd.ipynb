{
 "cells": [
  {
   "cell_type": "code",
   "execution_count": 1,
   "metadata": {},
   "outputs": [
    {
     "name": "stdout",
     "output_type": "stream",
     "text": [
      "ROOT /Users/stianismar/Dropbox/gitProsjekter/master-thesis/src\n",
      "appended\n",
      "appended\n",
      "ROOT /Users/stianismar/Dropbox/gitProsjekter/master-thesis/src\n",
      "/Users/stianismar/Dropbox/gitProsjekter/master-thesis/src\n",
      "ROOT /Users/stianismar/Dropbox/gitProsjekter/master-thesis/src\n",
      "ROOT /Users/stianismar/Dropbox/gitProsjekter/master-thesis/src\n"
     ]
    }
   ],
   "source": [
    "from scipy.stats import kurtosis, skew\n",
    "from scipy import signal\n",
    "from numpy import load\n",
    "import numpy as np\n",
    "import pandas as pd\n",
    "from sklearn.preprocessing import MinMaxScaler\n",
    "from sklearn.cluster import KMeans\n",
    "from scipy.signal import find_peaks\n",
    "import matplotlib.pyplot as plt\n",
    "import sys, os\n",
    "\n",
    "ROOT_PATH = os.path.abspath(\"..\").split(\"data_processing\")[0]\n",
    "print(\"ROOT\", ROOT_PATH)\n",
    "module_path = os.path.abspath(os.path.join(ROOT_PATH+\"/utils/\"))\n",
    "if module_path not in sys.path:\n",
    "    print(\"appended\")\n",
    "    sys.path.append(module_path)\n",
    "\n",
    "import functions as f\n",
    "\n",
    "module_path = os.path.abspath(os.path.join(ROOT_PATH+\"/data_processing/\"))\n",
    "if module_path not in sys.path:\n",
    "    print(\"appended\")\n",
    "    sys.path.append(module_path)\n",
    "    \n",
    "import wt_data\n",
    "\n",
    "import ff_transform\n",
    "import envelope\n",
    "import explore_fft_time_data"
   ]
  },
  {
   "cell_type": "code",
   "execution_count": null,
   "metadata": {},
   "outputs": [],
   "source": [
    "from PyEMD import EEMD\n",
    "import numpy as np\n",
    "import pylab as plt\n",
    "\n",
    "# Define signal\n",
    "t = np.linspace(0, 1, 200)\n",
    "\n",
    "sin = lambda x,p: np.sin(2*np.pi*x*t+p)\n",
    "S = 3*sin(18,0.2)*(t-0.2)**2\n",
    "S += 5*sin(11,2.7)\n",
    "S += 3*sin(14,1.6)\n",
    "S += 1*np.sin(4*2*np.pi*(t-0.8)**2)\n",
    "S += t**2.1 -t\n",
    "\n",
    "# Assign EEMD to `eemd` variable\n",
    "eemd = EEMD()\n",
    "\n",
    "# Say we want detect extrema using parabolic method\n",
    "emd = eemd.EMD\n",
    "emd.extrema_detection=\"parabol\"\n",
    "\n",
    "# Execute EEMD on S\n",
    "eIMFs = eemd.eemd(S, t)\n",
    "nIMFs = eIMFs.shape[0]\n",
    "\n",
    "# Plot results\n",
    "plt.figure(figsize=(12,9))\n",
    "plt.subplot(nIMFs+1, 1, 1)\n",
    "plt.plot(t, S, 'r')\n",
    "\n",
    "for n in range(nIMFs):\n",
    "    plt.subplot(nIMFs+1, 1, n+2)\n",
    "    plt.plot(t, eIMFs[n], 'g')\n",
    "    plt.ylabel(\"eIMF %i\" %(n+1))\n",
    "    plt.locator_params(axis='y', nbins=5)\n",
    "\n",
    "plt.xlabel(\"Time [s]\")\n",
    "plt.tight_layout()\n",
    "plt.savefig('eemd_example', dpi=120)\n",
    "plt.show()"
   ]
  },
  {
   "cell_type": "code",
   "execution_count": null,
   "metadata": {},
   "outputs": [],
   "source": [
    "vib_9500_10000 = load('../../sensor_data/all_enveloped_wt04_9500_10000.npz')\n",
    "vib_9500_10000 = vib_9500_10000['arr_0']"
   ]
  },
  {
   "cell_type": "code",
   "execution_count": null,
   "metadata": {},
   "outputs": [],
   "source": [
    "times_wt4 = load('../../sensor_data/intervals_times_wt04.npz')"
   ]
  },
  {
   "cell_type": "code",
   "execution_count": null,
   "metadata": {},
   "outputs": [],
   "source": [
    "times_wt4 = times_wt4['arr_0']"
   ]
  },
  {
   "cell_type": "code",
   "execution_count": null,
   "metadata": {},
   "outputs": [],
   "source": [
    "print(vib_9500_10000[0].shape)\n",
    "times_wt4[0].shape"
   ]
  },
  {
   "cell_type": "code",
   "execution_count": null,
   "metadata": {},
   "outputs": [],
   "source": [
    "from PyEMD import EEMD\n",
    "import numpy as np\n",
    "import pylab as plt\n",
    "\n",
    "# Define signal\n",
    "t = np.linspace(0, 1, 200)\n",
    "\n",
    "sin = lambda x,p: np.sin(2*np.pi*x*t+p)\n",
    "S = 3*sin(18,0.2)*(t-0.2)**2\n",
    "S += 5*sin(11,2.7)\n",
    "S += 3*sin(14,1.6)\n",
    "S += 1*np.sin(4*2*np.pi*(t-0.8)**2)\n",
    "S += t**2.1 -t\n",
    "\n",
    "# Assign EEMD to `eemd` variable\n",
    "eemd = EEMD()\n",
    "\n",
    "# Say we want detect extrema using parabolic method\n",
    "emd = eemd.EMD\n",
    "emd.extrema_detection=\"parabol\"\n",
    "\n",
    "# Execute EEMD on S\n",
    "eIMFs = eemd.eemd(vib_9500_10000[0], times_wt4[0])\n",
    "nIMFs = eIMFs.shape[0]\n",
    "\n",
    "# Plot results\n",
    "plt.figure(figsize=(12,9))\n",
    "plt.subplot(nIMFs+1, 1, 1)\n",
    "plt.plot(t, vib_9500_10000[0], 'r')\n",
    "\n",
    "for n in range(nIMFs):\n",
    "    plt.subplot(nIMFs+1, 1, n+2)\n",
    "    plt.plot(t, eIMFs[n], 'g')\n",
    "    plt.ylabel(\"eIMF %i\" %(n+1))\n",
    "    plt.locator_params(axis='y', nbins=5)\n",
    "\n",
    "plt.xlabel(\"Time [s]\")\n",
    "plt.tight_layout()\n",
    "plt.savefig('eemd_example', dpi=120)\n",
    "plt.show()"
   ]
  }
 ],
 "metadata": {
  "kernelspec": {
   "display_name": "master-thesis",
   "language": "python",
   "name": "master-thesis"
  },
  "language_info": {
   "codemirror_mode": {
    "name": "ipython",
    "version": 3
   },
   "file_extension": ".py",
   "mimetype": "text/x-python",
   "name": "python",
   "nbconvert_exporter": "python",
   "pygments_lexer": "ipython3",
   "version": "3.7.6"
  }
 },
 "nbformat": 4,
 "nbformat_minor": 2
}
