{
 "cells": [
  {
   "cell_type": "markdown",
   "metadata": {},
   "source": [
    "# Plotting FFT data\n",
    "### This notebook contains the following:\n",
    "\n",
    "    1. One function (load_interval) for loading FFT WT data for a given component\n",
    "    2. One function (plot_2d_bins) for plotting the RMS bin values in 2D\n",
    "    3. Two function (print3d_with_poly_collection & print3d_with_axes3d) for plotting frequency (x), amplitide (z) and interval (y) in 3D. Only the first one is used."
   ]
  },
  {
   "cell_type": "code",
   "execution_count": 1,
   "metadata": {},
   "outputs": [
    {
     "name": "stdout",
     "output_type": "stream",
     "text": [
      "/Users/stianismar/Dropbox/gitProsjekter/master-thesis/venv/bin/python\r\n"
     ]
    },
    {
     "data": {
      "text/plain": [
       "'/Users/stianismar/Dropbox/gitProsjekter/master-thesis/venv/bin/python'"
      ]
     },
     "execution_count": 1,
     "metadata": {},
     "output_type": "execute_result"
    }
   ],
   "source": [
    "!which python\n",
    "import sys\n",
    "sys.executable"
   ]
  },
  {
   "cell_type": "code",
   "execution_count": 2,
   "metadata": {},
   "outputs": [
    {
     "name": "stdout",
     "output_type": "stream",
     "text": [
      "ROOT /Users/stianismar/Dropbox/gitProsjekter/master-thesis/src\n",
      "appended\n",
      "/Users/stianismar/Dropbox/gitProsjekter/master-thesis/src\n"
     ]
    }
   ],
   "source": [
    "import numpy as np\n",
    "import wt_data\n",
    "import ff_transform\n",
    "from matplotlib.collections import PolyCollection\n",
    "from mpl_toolkits.mplot3d import Axes3D\n",
    "import matplotlib.pyplot as plt\n",
    "import random"
   ]
  },
  {
   "cell_type": "markdown",
   "metadata": {},
   "source": [
    " ## __load_interval__ loads all the intervals for one turbine (GEARBOX)\n",
    "This feature has the name 'GbxHssRr;0,0102;m/s2'."
   ]
  },
  {
   "cell_type": "code",
   "execution_count": 3,
   "metadata": {},
   "outputs": [],
   "source": [
    "'''\n",
    "wt_name is either 'WTG01', 'WTG02', 'WTG03', or 'WTG04'\n",
    "\n",
    "'''\n",
    "def load_interval(wt_name, BINS,SENSOR_NAME, load_minimal=False):\n",
    "    wt_instance = wt_data.load_instance(wt_name, load_minimal=False)\n",
    "    print(f\"This is the amount of intervals: {len(wt_instance.ten_second_intervals)}\")\n",
    "    \n",
    "    y = []\n",
    "    x = []\n",
    "    z = []\n",
    "    \n",
    "    \n",
    "    two_d_plot = d = [[] for x in range(BINS)]\n",
    "    \n",
    "    i = 0\n",
    "    for interval in wt_instance.ten_second_intervals:\n",
    "        ts = interval.sensor_df['TimeStamp']  # Have this as the y-axis to see how the RMS/frequencies develop\n",
    "        try:\n",
    "            vibration_signal = interval.sensor_df[SENSOR_NAME]\n",
    "        except:\n",
    "            continue\n",
    "\n",
    "\n",
    "        y_repeated = np.repeat(i, 50)  # Repeat this y value n times to use as the y value for the corresponding x (frequency) and z (magnitude)\n",
    "        y.append(y_repeated)\n",
    "        i = i + 1\n",
    "\n",
    "        comp_type = 'gearbox'\n",
    "        fast = ff_transform.FastFourierTransform(vibration_signal, ts, comp_type)\n",
    "        fft, time, centroid, rms, rms_bins, bin_freq = fast.fft_transform_time(calc_rms_for_bins=True,\n",
    "                                                                     plot=False,\n",
    "                                                                     bins=BINS,\n",
    "                                                                     plot_vertical_lines=False)\n",
    "        N = fast.s.size\n",
    "        T = fast.t[1] - fast.t[0]\n",
    "        f = np.linspace(0, 1 / T, N, )\n",
    "        f = f[:N // 2]\n",
    "\n",
    "        z.append(rms_bins)\n",
    "        x.append(bin_freq)\n",
    "        \n",
    "        for i, rms_amplitude in enumerate(rms_bins):\n",
    "            two_d_plot[i].append(rms_amplitude)\n",
    "        \n",
    "        \n",
    "    x = np.array(x)\n",
    "    y = np.array(y)\n",
    "    z = np.array(z)\n",
    "    return x,y,z, two_d_plot"
   ]
  },
  {
   "cell_type": "markdown",
   "metadata": {},
   "source": [
    "## 2D plotting function"
   ]
  },
  {
   "cell_type": "code",
   "execution_count": 4,
   "metadata": {},
   "outputs": [],
   "source": [
    "# Plotting 2d bins\n",
    "def plot_2d_bins(bin_values):\n",
    "    num_intervals = len(bin_values[0])\n",
    "    #fig = plt.figure()\n",
    "    fig, axs = plt.subplots(10,5, figsize=(15,20), facecolor='w', edgecolor='k',dpi=200)\n",
    "    # fig.subplots_adjust(hspace = .5, wspace=.001)\n",
    "    # plt.subplots_adjust(top=0.96)\n",
    "\n",
    "    axs = axs.ravel()\n",
    "    plt.suptitle('RMS development for each interval')\n",
    "    for j, binn in enumerate(bin_values):\n",
    "        \n",
    "        # Fitting a polynomial to each bin plot: \n",
    "        # get x and y vectors\n",
    "        y = binn\n",
    "        x = np.arange(0,len(binn))\n",
    "        \n",
    "        # calculate polynomial\n",
    "        z = np.polyfit(x, y, 5)\n",
    "        f = np.poly1d(z)\n",
    "\n",
    "        # calculate new x's and y's\n",
    "        x_new = np.linspace(x[0], x[-1], 50)\n",
    "        y_new = f(x_new)\n",
    "        \n",
    "        axs[j].plot(binn) # Plotting the RMS\n",
    "        axs[j].plot(x_new, y_new,color='orange') # Plotting the fitted line on top of that\n",
    "        axs[j].autoscale(enable=True, axis='y', tight=None)\n",
    "        axs[j].set_title(f\"Bin {j+1}. Freq. range:\")\n",
    "        axs[j].margins(0)\n",
    "\n",
    "    fig.tight_layout() \n",
    "    plt.show()"
   ]
  },
  {
   "cell_type": "markdown",
   "metadata": {},
   "source": [
    "## Creating a 3d plot using PolyCollection"
   ]
  },
  {
   "cell_type": "code",
   "execution_count": 5,
   "metadata": {},
   "outputs": [],
   "source": [
    "'''\n",
    "    Create a 3d-plot using the poly collection module from matplotlib.\n",
    "'''\n",
    "from matplotlib import cm, pyplot as plt\n",
    "\n",
    "def print3d_with_poly_collection(x,y,z,color_alt,cm_style='Blues',filter = False):\n",
    "\n",
    "    if filter == True:\n",
    "        z = filter_RMS_spikes(x,y,z)\n",
    "    '''\n",
    "    \n",
    "    # Filter away the crazy high values (normalized amplitude > 10)\n",
    "    remove_index = []\n",
    "    for i, interval in enumerate(z):\n",
    "        for j, amp in enumerate(interval):\n",
    "            if (amp > 10):\n",
    "                remove_index.append(i)\n",
    "                print(f\"index appended from interval: {i}\")\n",
    "    \n",
    "    # Remove the indexes:\n",
    "    x = np.delete(x, remove_index)\n",
    "    y = np.delete(y, remove_index)\n",
    "    z = np.delete(z, remove_index)\n",
    "    \n",
    "    '''\n",
    "    \n",
    "    \n",
    "    fig = plt.figure(figsize=(15,6))\n",
    "    ax = fig.add_subplot(111, projection='3d')\n",
    "    \n",
    "    # Get the numpy arrays on the correct shape\n",
    "    freq_data = x.T\n",
    "    amp_data = z.T\n",
    "    rad_data = np.linspace(0,amp_data.shape[1],amp_data.shape[1])\n",
    "    \n",
    "    verts = []\n",
    "\n",
    "    for irad in range(len(rad_data)):\n",
    "        # I'm adding a zero amplitude at the beginning and the end to get a nice\n",
    "        # flat bottom on the polygons\n",
    "        xs = np.concatenate([[freq_data[0,irad]], freq_data[:,irad], [freq_data[-1,irad]]])\n",
    "        ys = np.concatenate([[0],amp_data[:,irad],[0]])\n",
    "        verts.append(list(zip(xs, ys)))\n",
    "\n",
    "    # Colors:\n",
    "    \n",
    "    if color_alt == 'color_alt1':\n",
    "        # ALT_1:\n",
    "        col = []\n",
    "        for i in range(freq_data.shape[1]):\n",
    "            a = [0, random.uniform(0, 0.1),random.uniform(0.5, 1.0)]\n",
    "            col.append(a)\n",
    "        poly = PolyCollection(verts, facecolors = col)\n",
    "\n",
    "    \n",
    "    elif color_alt == 'color_alt2':\n",
    "        # ALT_2\n",
    "        cmap = cm.get_cmap(cm_style)\n",
    "        col = [cmap(x) for x in np.random.rand(amp_data.shape[1])]\n",
    "        poly = PolyCollection(verts, facecolors = col)\n",
    "    \n",
    "    else:\n",
    "        poly = PolyCollection(verts)\n",
    "\n",
    "\n",
    "    # facecolors = col\n",
    "    # facecolors = ['r', 'g', 'c', 'y','r', 'g', 'c', 'y','r', 'g', 'c']\n",
    "    poly.set_alpha(0.7)\n",
    "    # poly.set_cmap('blues')\n",
    "\n",
    "    # The zdir keyword makes it plot the \"z\" vertex dimension (radius)\n",
    "    # along the y axis. The zs keyword sets each polygon at the\n",
    "    # correct radius value.\n",
    "    ax.add_collection3d(poly, zs=rad_data, zdir='y')\n",
    "\n",
    "    ax.set_xlim3d(freq_data.min(), freq_data.max())\n",
    "    ax.set_xlabel('Frequency')\n",
    "    ax.set_ylim3d(rad_data.min(), rad_data.max())\n",
    "    ax.set_ylabel('Radius')\n",
    "    # ax.set_zlim3d(amp_data.min(), amp_data.max())\n",
    "    ax.set_zlim3d(amp_data.min(), 8)\n",
    "    ax.set_zlabel('Amplitude')\n",
    "    plt.show()"
   ]
  },
  {
   "cell_type": "markdown",
   "metadata": {},
   "source": [
    "## Creating surface 3d plots with axes3d"
   ]
  },
  {
   "cell_type": "code",
   "execution_count": 6,
   "metadata": {},
   "outputs": [],
   "source": [
    "import numpy as np\n",
    "import matplotlib.pyplot as plt\n",
    "from matplotlib import cm\n",
    "\n",
    "def print3d_with_axes3d(x,y,z,cm_style='Blues'):\n",
    "    X = np.array(x)\n",
    "    Y = np.array(y)\n",
    "    Z = np.array(z)\n",
    "    \n",
    "    X = X.T\n",
    "    Y = Y.T\n",
    "    Z = Z.T\n",
    "    \n",
    "    fig = plt.figure()\n",
    "    ax = fig.gca(projection='3d')\n",
    "    cmap = cm.get_cmap(cm_style)\n",
    "    surf = ax.plot_surface(X, Y, Z, cmap=cmap,\n",
    "                           linewidth=0, antialiased=False)\n",
    "    plt.title(\"Frequency development over intervals for WT\")\n",
    "    plt.show()"
   ]
  },
  {
   "cell_type": "markdown",
   "metadata": {},
   "source": [
    "## Running the functions\n",
    "Loading up the WT's"
   ]
  },
  {
   "cell_type": "markdown",
   "metadata": {},
   "source": [
    "**WTG01**"
   ]
  },
  {
   "cell_type": "code",
   "execution_count": null,
   "metadata": {},
   "outputs": [
    {
     "name": "stdout",
     "output_type": "stream",
     "text": [
      "\n",
      "Loading WTG01...\r"
     ]
    }
   ],
   "source": [
    "WIND_TURBINE = 'WTG01'\n",
    "SENSOR_NAME = 'GbxHssRr;0,0102;m/s2'\n",
    "BINS = 50\n",
    "\n",
    "freqs_wt01, interval_nums_wt01, rms_amplitudes_wt01,two_d_plot_tw01 = load_interval(WIND_TURBINE,\n",
    "                                                                    BINS,\n",
    "                                                     SENSOR_NAME,\n",
    "                                                     load_minimal=False)\n",
    "print(freqs_wt01.shape)\n",
    "print(rms_amplitudes_wt01.shape)\n",
    "print(interval_nums_wt01.shape)\n"
   ]
  },
  {
   "cell_type": "markdown",
   "metadata": {},
   "source": [
    "**WTG02**"
   ]
  },
  {
   "cell_type": "code",
   "execution_count": null,
   "metadata": {},
   "outputs": [],
   "source": [
    "WIND_TURBINE = 'WTG02'\n",
    "SENSOR_NAME = 'GbxHssRr;0,0102;m/s2'\n",
    "BINS = 50\n",
    "\n",
    "freqs_wt02, interval_nums_wt02, rms_amplitudes_wt02,two_d_plot_tw02 = load_interval(WIND_TURBINE,\n",
    "                                                                    BINS,\n",
    "                                                     SENSOR_NAME,\n",
    "                                                     load_minimal=False)\n",
    "print(freqs_wt02.shape)\n",
    "print(rms_amplitudes_wt02.shape)\n",
    "print(interval_nums_wt02.shape)\n"
   ]
  },
  {
   "cell_type": "markdown",
   "metadata": {},
   "source": [
    "**WTG03**"
   ]
  },
  {
   "cell_type": "code",
   "execution_count": null,
   "metadata": {},
   "outputs": [],
   "source": [
    "WIND_TURBINE = 'WTG03'\n",
    "SENSOR_NAME = 'GbxHssRr;0,0102;m/s2'\n",
    "BINS = 50\n",
    "\n",
    "freqs_wt03, interval_nums_wt03, rms_amplitudes_wt03,two_d_plot_tw03 = load_interval(WIND_TURBINE,\n",
    "                                                                    BINS,\n",
    "                                                     SENSOR_NAME,\n",
    "                                                     load_minimal=False)\n",
    "print(freqs_wt03.shape)\n",
    "print(rms_amplitudes_wt03.shape)\n",
    "print(interval_nums_wt03.shape)\n"
   ]
  },
  {
   "cell_type": "markdown",
   "metadata": {},
   "source": [
    "**WTG04**"
   ]
  },
  {
   "cell_type": "code",
   "execution_count": null,
   "metadata": {},
   "outputs": [],
   "source": [
    "WIND_TURBINE = 'WTG04'\n",
    "SENSOR_NAME = 'GbxHssRr;0,0102;m/s2'\n",
    "BINS = 50\n",
    "\n",
    "freqs_wt04, interval_nums_wt04, rms_amplitudes_wt04,two_d_plot_tw04 = load_interval(WIND_TURBINE,\n",
    "                                                                    BINS,\n",
    "                                                     SENSOR_NAME,\n",
    "                                                     load_minimal=False)\n",
    "print(freqs_wt04.shape)\n",
    "print(rms_amplitudes_wt04.shape)\n",
    "print(interval_nums_wt04.shape)\n"
   ]
  },
  {
   "cell_type": "markdown",
   "metadata": {},
   "source": [
    "### Playing around with different colours"
   ]
  },
  {
   "cell_type": "code",
   "execution_count": null,
   "metadata": {},
   "outputs": [],
   "source": [
    "'''print3d_with_poly_collection( freqs_wt01, interval_nums_wt01, rms_amplitudes_wt01,'color_alt2','Blues' )\n",
    "print3d_with_poly_collection( freqs_wt01, interval_nums_wt01, rms_amplitudes_wt01,'color_alt2','bone' )\n",
    "\n",
    "print3d_with_poly_collection( freqs_wt01, interval_nums_wt01, rms_amplitudes_wt01,'color_alt2','YlGnBu' )\n",
    "print3d_with_poly_collection( freqs_wt01, interval_nums_wt01, rms_amplitudes_wt01,'color_alt2','Accent' )\n",
    "print3d_with_poly_collection( freqs_wt01, interval_nums_wt01, rms_amplitudes_wt01,'color_alt1' )\n",
    "print3d_with_poly_collection( freqs_wt01, interval_nums_wt01, rms_amplitudes_wt01,'color_alt3' )\n",
    "'''"
   ]
  },
  {
   "cell_type": "code",
   "execution_count": null,
   "metadata": {},
   "outputs": [],
   "source": [
    "'''print3d_with_axes3d( freqs_wt01, interval_nums_wt01, rms_amplitudes_wt01)\n",
    "print3d_with_axes3d( freqs_wt01, interval_nums_wt01, rms_amplitudes_wt01, cm_style='viridis')\n",
    "\n",
    "print3d_with_axes3d( freqs_wt01, interval_nums_wt01, rms_amplitudes_wt01, cm_style='Paired')\n",
    "\n",
    "print3d_with_axes3d( freqs_wt01, interval_nums_wt01, rms_amplitudes_wt01, cm_style='ocean')\n",
    "print3d_with_axes3d( freqs_wt01, interval_nums_wt01, rms_amplitudes_wt01, cm_style='gist_heat')\n",
    "'''"
   ]
  },
  {
   "cell_type": "code",
   "execution_count": null,
   "metadata": {},
   "outputs": [],
   "source": [
    "'''print3d_with_poly_collection( freqs_wt02, interval_nums_wt02, rms_amplitudes_wt02,'color_alt2','Blues' )\n",
    "# print3d_with_poly_collection( freqs_wt02, interval_nums_wt02, rms_amplitudes_wt02,'color_alt3' )\n",
    "'''"
   ]
  },
  {
   "cell_type": "code",
   "execution_count": null,
   "metadata": {},
   "outputs": [],
   "source": [
    "'''\n",
    "print3d_with_poly_collection( freqs_wt03, interval_nums_wt03, rms_amplitudes_wt03,'color_alt2','Blues' )\n",
    "# print3d_with_poly_collection( freqs_wt02, interval_nums_wt02, rms_amplitudes_wt02,'color_alt3' )\n",
    "'''"
   ]
  },
  {
   "cell_type": "code",
   "execution_count": null,
   "metadata": {
    "scrolled": true
   },
   "outputs": [],
   "source": [
    "'''\n",
    "print3d_with_poly_collection( freqs_wt04, interval_nums_wt04, rms_amplitudes_wt04,'color_alt2','Blues' )\n",
    "print3d_with_poly_collection( freqs_wt02, interval_nums_wt02, rms_amplitudes_wt02,'color_alt3' )\n",
    "'''"
   ]
  },
  {
   "cell_type": "markdown",
   "metadata": {},
   "source": [
    "# Plotting 2D: Study the development of the bins"
   ]
  },
  {
   "cell_type": "code",
   "execution_count": null,
   "metadata": {
    "scrolled": true
   },
   "outputs": [],
   "source": [
    "print('plot_2d_bins(two_d_plot_tw01)')\n",
    "plot_2d_bins(two_d_plot_tw01)\n",
    "print(\" \")\n",
    "print('plot_2d_bins(two_d_plot_tw02)')\n",
    "plot_2d_bins(two_d_plot_tw02)\n",
    "print(\" \")\n",
    "print('plot_2d_bins(two_d_plot_tw03)')\n",
    "plot_2d_bins(two_d_plot_tw03)\n",
    "print(\" \")\n",
    "print('plot_2d_bins(two_d_plot_tw04)')\n",
    "plot_2d_bins(two_d_plot_tw04)"
   ]
  },
  {
   "cell_type": "markdown",
   "metadata": {},
   "source": [
    "# Plotting 3D: Comparison"
   ]
  },
  {
   "cell_type": "code",
   "execution_count": null,
   "metadata": {},
   "outputs": [],
   "source": [
    "print3d_with_poly_collection( freqs_wt01, interval_nums_wt01, rms_amplitudes_wt01,'color_alt2','Blues',False )\n",
    "print3d_with_poly_collection( freqs_wt02, interval_nums_wt02, rms_amplitudes_wt02,'color_alt2','Blues', False )\n",
    "print3d_with_poly_collection( freqs_wt03, interval_nums_wt03, rms_amplitudes_wt03,'color_alt2','Blues', False )\n",
    "print3d_with_poly_collection( freqs_wt04, interval_nums_wt04, rms_amplitudes_wt04,'color_alt2','Blues', False )"
   ]
  },
  {
   "cell_type": "code",
   "execution_count": null,
   "metadata": {
    "scrolled": false
   },
   "outputs": [],
   "source": [
    "print3d_with_poly_collection( freqs_wt01, interval_nums_wt01, rms_amplitudes_wt01,'color_alt2','Blues',True )\n",
    "print3d_with_poly_collection( freqs_wt02, interval_nums_wt02, rms_amplitudes_wt02,'color_alt2','Blues',True )\n",
    "print3d_with_poly_collection( freqs_wt03, interval_nums_wt03, rms_amplitudes_wt03,'color_alt2','Blues', True )\n",
    "print3d_with_poly_collection( freqs_wt04, interval_nums_wt04, rms_amplitudes_wt04,'color_alt2','Blues', True )"
   ]
  },
  {
   "cell_type": "markdown",
   "metadata": {},
   "source": [
    "# Filtering the data (removing the high spikes > 10)\n",
    "\n",
    "    - Loop through the bins before plotting, find the ones that have amplitude above 10 and get the index. Remove this from x,y,z arrrays\n",
    "    - Why does 2 and 3 look so different? Does it have the same resolution etc.?"
   ]
  },
  {
   "cell_type": "code",
   "execution_count": null,
   "metadata": {},
   "outputs": [],
   "source": [
    "# Remove spikes that seem unnaturally large (by inspection). From the 3D plots,\n",
    "# one can see that the spikes show up \"randomly\". They are therefore filtered away\n",
    "def filter_RMS_spikes(x,y,z):\n",
    "    for i, array in enumerate(z):\n",
    "        for j, rms_val in enumerate(array):\n",
    "            if rms_val > 10:\n",
    "                # divide it by 2\n",
    "                z[i][j] = rms_val/2\n",
    "                print(f\"Previous value: {rms_val}. New value: {z[i][j]}\")\n",
    "                \n",
    "    return z"
   ]
  }
 ],
 "metadata": {
  "kernelspec": {
   "display_name": "master-thesis",
   "language": "python",
   "name": "master-thesis"
  },
  "language_info": {
   "codemirror_mode": {
    "name": "ipython",
    "version": 3
   },
   "file_extension": ".py",
   "mimetype": "text/x-python",
   "name": "python",
   "nbconvert_exporter": "python",
   "pygments_lexer": "ipython3",
   "version": "3.7.6"
  }
 },
 "nbformat": 4,
 "nbformat_minor": 4
}
