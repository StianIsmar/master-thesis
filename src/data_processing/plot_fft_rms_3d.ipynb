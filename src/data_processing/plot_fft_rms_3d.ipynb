{
 "cells": [
  {
   "cell_type": "markdown",
   "metadata": {},
   "source": [
    "# Plotting FFT data"
   ]
  },
  {
   "cell_type": "code",
   "execution_count": 1,
   "metadata": {},
   "outputs": [
    {
     "name": "stdout",
     "output_type": "stream",
     "text": [
      "/Users/stianismar/Dropbox/gitProsjekter/master-thesis/venv/bin/python\r\n"
     ]
    },
    {
     "data": {
      "text/plain": [
       "'/Users/stianismar/Dropbox/gitProsjekter/master-thesis/venv/bin/python'"
      ]
     },
     "execution_count": 1,
     "metadata": {},
     "output_type": "execute_result"
    }
   ],
   "source": [
    "!which python\n",
    "import sys\n",
    "sys.executable"
   ]
  },
  {
   "cell_type": "code",
   "execution_count": 8,
   "metadata": {},
   "outputs": [],
   "source": [
    "import numpy as np\n",
    "import wt_data\n",
    "import ff_transform\n",
    "from matplotlib.collections import PolyCollection\n",
    "import random"
   ]
  },
  {
   "cell_type": "markdown",
   "metadata": {},
   "source": [
    "# For Gearbox\n",
    "This feature has the name 'GbxHssRr;0,0102;m/s2'."
   ]
  },
  {
   "cell_type": "code",
   "execution_count": 13,
   "metadata": {},
   "outputs": [],
   "source": [
    "'''\n",
    "wt_name is either 'WTG01', 'WTG02', 'WTG03', or 'WTG04'\n",
    "\n",
    "'''\n",
    "def load_interval(wt_name, BINS,SENSOR_NAME, load_minimal=False):\n",
    "    wt_instance = wt_data.load_instance(wt_name, load_minimal=False)\n",
    "    print(f\"This is the amount of intervals: {len(wt_instance.ten_second_intervals)}\")\n",
    "    \n",
    "    y = []\n",
    "    x = []\n",
    "    z = []\n",
    "    i = 0\n",
    "    for interval in wt_instance.ten_second_intervals:\n",
    "        ts = interval.sensor_df['TimeStamp'].values  # Have this as the y-axis to see how the RMS/frequencies develop\n",
    "\n",
    "        # y_val = np.array([ts[0]])\n",
    "\n",
    "        # Have the x axis as frequency!\n",
    "        # Have the Z axis as amplitude of frequency...\n",
    "        try:\n",
    "            vibration_signal = interval.sensor_df[SENSOR_NAME]\n",
    "        except:\n",
    "            continue\n",
    "\n",
    "\n",
    "        y_repeated = np.repeat(i, 50)  # Repeat this y value n times to use as the y value for the corresponding x (frequency) and z (magnitude)\n",
    "        y.append(y_repeated)\n",
    "        i = i + 1\n",
    "\n",
    "        comp_type = 'gearbox'\n",
    "        fast = ff_transform.FastFourierTransform(vibration_signal, ts, comp_type)\n",
    "        fft, time, centroid, rms, rms_bins, bin_freq = fast.fft_transform_time(calc_rms_for_bins=True,\n",
    "                                                                     plot=False,\n",
    "                                                                     bins=BINS,\n",
    "                                                                     plot_vertical_lines=False)\n",
    "        N = fast.s.size\n",
    "        T = fast.t[1] - fast.t[0]\n",
    "        f = np.linspace(0, 1 / T, N, )\n",
    "        f = f[:N // 2]\n",
    "\n",
    "\n",
    "\n",
    "        # z_amp = np.abs(fft)[:N // 2] * 1 / N\n",
    "        z.append(rms_bins)\n",
    "\n",
    "        x.append(bin_freq)\n",
    "    x = np.array(x)\n",
    "    y = np.array(y)\n",
    "    z = np.array(z)\n",
    "    return x,y,z"
   ]
  },
  {
   "cell_type": "code",
   "execution_count": null,
   "metadata": {
    "scrolled": true
   },
   "outputs": [
    {
     "name": "stdout",
     "output_type": "stream",
     "text": [
      "\n",
      "Loading WTG01...\r"
     ]
    }
   ],
   "source": [
    "SENSOR_NAME = 'GbxHssRr;0,0102;m/s2'\n",
    "BINS = 50\n",
    "\n",
    "freqs_wt01, interval_nums_wt01, rms_amplitudes_wt01 = load_interval('WTG01',\n",
    "                                                                    BINS,\n",
    "                                                     SENSOR_NAME,\n",
    "                                                     load_minimal=False)\n",
    "\n",
    "print(freqs_wt01.shape)\n",
    "print(rms_amplitudes_wt01.shape)\n",
    "print(interval_nums_wt01.shape)\n"
   ]
  },
  {
   "cell_type": "markdown",
   "metadata": {},
   "source": [
    "**freqs_wt01, interval_nums_wt01, rms_amplitudes_wt01** can now be used to make 3d plots. The frequencies are a part of the x axis, the amplitude is the z axis and the y axis is the time "
   ]
  },
  {
   "cell_type": "markdown",
   "metadata": {},
   "source": [
    "## Creating a 3d plot using PolyCollection"
   ]
  },
  {
   "cell_type": "code",
   "execution_count": null,
   "metadata": {},
   "outputs": [],
   "source": [
    "'''\n",
    "    Create a 3d-plot using the poly collection module from matplotlib.\n",
    "'''\n",
    "\n",
    "from matplotlib import cm, pyplot as plt\n",
    "\n",
    "def print3d_with_poly_collection(x,y,z):\n",
    "    \n",
    "    # Get the numpy arrays on the correct shape\n",
    "    freq_data = x.T\n",
    "    amp_data = z.T\n",
    "    rad_data = np.linspace(0,1,amp_data.shape[1])\n",
    "    \n",
    "    \n",
    "    verts = []\n",
    "    col = []\n",
    "for i in range(freq_data.shape[1]):\n",
    "    a = [0, random.uniform(0, 0.1),random.uniform(0.5, 1.0)]\n",
    "    col.append(a)\n",
    "    \n",
    "    for irad in range(len(rad_data)):\n",
    "        # I'm adding a zero amplitude at the beginning and the end to get a nice\n",
    "        # flat bottom on the polygons\n",
    "        xs = np.concatenate([[freq_data[0,irad]], freq_data[:,irad], [freq_data[-1,irad]]])\n",
    "        ys = np.concatenate([[0],amp_data[:,irad],[0]])\n",
    "        verts.append(list(zip(xs, ys)))\n",
    "    from matplotlib import cm\n",
    "\n",
    "\n",
    "    poly = PolyCollection(verts, cmap = cm.coolwarm)\n",
    "    # facecolors = col\n",
    "\n",
    "\n",
    "    # facecolors = ['r', 'g', 'c', 'y','r', 'g', 'c', 'y','r', 'g', 'c']\n",
    "    poly.set_alpha(0.7)\n",
    "    # poly.set_cmap('blues')\n",
    "\n",
    "    fig = plt.figure()\n",
    "    ax = fig.add_subplot(111, projection='3d')\n",
    "\n",
    "    # The zdir keyword makes it plot the \"z\" vertex dimension (radius)\n",
    "    # along the y axis. The zs keyword sets each polygon at the\n",
    "    # correct radius value.\n",
    "    ax.add_collection3d(poly, zs=rad_data, zdir='y')\n",
    "\n",
    "    ax.set_xlim3d(freq_data.min(), freq_data.max())\n",
    "    ax.set_xlabel('Frequency')\n",
    "    ax.set_ylim3d(rad_data.min(), rad_data.max())\n",
    "    ax.set_ylabel('Radius')\n",
    "    ax.set_zlim3d(amp_data.min(), amp_data.max())\n",
    "    ax.set_zlabel('Amplitude')\n",
    "\n",
    "    plt.show()"
   ]
  },
  {
   "cell_type": "markdown",
   "metadata": {},
   "source": [
    "## Creating surface 3d plots with axes3d"
   ]
  },
  {
   "cell_type": "code",
   "execution_count": null,
   "metadata": {},
   "outputs": [],
   "source": [
    "import numpy as np\n",
    "import matplotlib.pyplot as plt\n",
    "from matplotlib import cm\n",
    "\n",
    "def print3d_with_axes3d(x,y,z):\n",
    "    X = np.array(x)\n",
    "    Y = np.array(y)\n",
    "    Z = np.array(z)\n",
    "    \n",
    "    X = X.T\n",
    "    Y = Y.T\n",
    "    Z = Z.T\n",
    "    \n",
    "    fig = plt.figure()\n",
    "    ax = fig.gca(projection='3d')\n",
    "    surf = ax.plot_surface(X, Y, Z, cmap=cm.viridis,\n",
    "                           linewidth=0, antialiased=False)\n",
    "    plt.title(\"Frequency development over intervals for WT\")\n",
    "    plt.show()"
   ]
  }
 ],
 "metadata": {
  "kernelspec": {
   "display_name": "master-thesis",
   "language": "python",
   "name": "master-thesis"
  },
  "language_info": {
   "codemirror_mode": {
    "name": "ipython",
    "version": 3
   },
   "file_extension": ".py",
   "mimetype": "text/x-python",
   "name": "python",
   "nbconvert_exporter": "python",
   "pygments_lexer": "ipython3",
   "version": "3.7.5"
  }
 },
 "nbformat": 4,
 "nbformat_minor": 4
}
