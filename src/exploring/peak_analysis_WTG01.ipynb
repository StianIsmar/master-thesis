{
 "cells": [
  {
   "cell_type": "code",
   "execution_count": 1,
   "metadata": {},
   "outputs": [],
   "source": [
    "%load_ext autoreload"
   ]
  },
  {
   "cell_type": "code",
   "execution_count": 2,
   "metadata": {},
   "outputs": [
    {
     "name": "stdout",
     "output_type": "stream",
     "text": [
      "ROOT /Users/mortenolsenosvik/Documents/NTNU/Master/master-thesis/src\n",
      "appended\n",
      "/Users/mortenolsenosvik/Documents/NTNU/Master/master-thesis/src\n"
     ]
    }
   ],
   "source": [
    "import sys\n",
    "import numpy as np\n",
    "import pandas as pd\n",
    "import seaborn as sns\n",
    "sns.set(color_codes=True)\n",
    "import matplotlib.pyplot as plt\n",
    "\n",
    "if not \"../data_processing\" in sys.path:\n",
    "    sys.path.append(\"../data_processing\")\n",
    "\n",
    "%autoreload\n",
    "import build_dataset"
   ]
  },
  {
   "cell_type": "code",
   "execution_count": null,
   "metadata": {},
   "outputs": [],
   "source": [
    "wt_instance = build_dataset.wt_data.load_instance(\"WTG01\",load_minimal=False)"
   ]
  },
  {
   "cell_type": "markdown",
   "metadata": {},
   "source": [
    "### To create and save the data set. Do not run if previously saved!"
   ]
  },
  {
   "cell_type": "code",
   "execution_count": 3,
   "metadata": {},
   "outputs": [
    {
     "name": "stdout",
     "output_type": "stream",
     "text": [
      "\n",
      "Loading WTG01...\n",
      "Loaded WTG01\n"
     ]
    }
   ],
   "source": [
    "wt_instance = build_dataset.wt_data.load_instance(\"WTG01\",load_minimal=False)\n",
    "df = build_dataset.create_rms_datasets_for_one_component(wt_instance, 'GbxHssRr;0,0102;m/s2', \n",
    "                                                         power_threshold=2500,plot=False, bins=50, \n",
    "                                                         plot_vertical_lines=False)\n",
    "\n",
    "build_dataset.save_dataframe_to_csv(df, 'GbxHssRr_RMS_power>2500_WTG01.csv')"
   ]
  },
  {
   "cell_type": "code",
   "execution_count": null,
   "metadata": {},
   "outputs": [],
   "source": [
    "path = '/Volumes/OsvikExtra/VibrationData/RMS_dataset/GbxHssRr_RMS_power>2500_WTG01.csv'\n",
    "data = pd.read_csv(path)\n",
    "data.head()"
   ]
  },
  {
   "cell_type": "code",
   "execution_count": null,
   "metadata": {
    "scrolled": true
   },
   "outputs": [],
   "source": [
    "x=np.arange(len(data))\n",
    "for i, name in enumerate(data.columns):\n",
    "    plt.figure(figsize=(20,10))\n",
    "    plt.title(name)\n",
    "    plt.plot(x, data.values[:,i])\n",
    "    plt.axvline(x=29, c='r', linewidth=0.5)\n",
    "    plt.axvline(x=80, c='r', linewidth=0.5)\n",
    "    plt.show()"
   ]
  },
  {
   "cell_type": "code",
   "execution_count": 53,
   "metadata": {},
   "outputs": [
    {
     "name": "stdout",
     "output_type": "stream",
     "text": [
      "AvgPower value at first peak: 2728.903564453\n",
      "AvgPower value at second peak: 2593.107421875\n"
     ]
    }
   ],
   "source": [
    "print(f\"AvgPower value at first peak: {data.iloc[29]['AvgPower']}\")\n",
    "print(f\"AvgPower value at second peak: {data.iloc[120]['AvgPower']}\")\n"
   ]
  },
  {
   "cell_type": "code",
   "execution_count": 14,
   "metadata": {},
   "outputs": [],
   "source": [
    "%autoreload\n",
    "import build_dataset"
   ]
  },
  {
   "cell_type": "code",
   "execution_count": 9,
   "metadata": {
    "scrolled": false
   },
   "outputs": [
    {
     "ename": "UnboundLocalError",
     "evalue": "local variable 'rms_bins' referenced before assignment",
     "output_type": "error",
     "traceback": [
      "\u001b[0;31m---------------------------------------------------------------------------\u001b[0m",
      "\u001b[0;31mUnboundLocalError\u001b[0m                         Traceback (most recent call last)",
      "\u001b[0;32m<ipython-input-9-24bbfe7285c1>\u001b[0m in \u001b[0;36m<module>\u001b[0;34m\u001b[0m\n\u001b[1;32m      1\u001b[0m df = build_dataset.create_rms_datasets_for_one_component(wt_instance, 'GbxHssRr;0,0102;m/s2', \n\u001b[1;32m      2\u001b[0m                                                          \u001b[0mpower_threshold\u001b[0m\u001b[0;34m=\u001b[0m\u001b[0;36m2500\u001b[0m\u001b[0;34m,\u001b[0m\u001b[0mplot\u001b[0m\u001b[0;34m=\u001b[0m\u001b[0;32mTrue\u001b[0m\u001b[0;34m,\u001b[0m \u001b[0mbins\u001b[0m\u001b[0;34m=\u001b[0m\u001b[0;36m50\u001b[0m\u001b[0;34m,\u001b[0m\u001b[0;34m\u001b[0m\u001b[0;34m\u001b[0m\u001b[0m\n\u001b[0;32m----> 3\u001b[0;31m                                                          plot_vertical_lines=True)\n\u001b[0m",
      "\u001b[0;32m~/Documents/NTNU/Master/master-thesis/src/data_processing/build_dataset.py\u001b[0m in \u001b[0;36mcreate_rms_datasets_for_one_component\u001b[0;34m(wt_instance, sensor_name, power_threshold, bins, calc_rms_for_bins, plot, plot_vertical_lines)\u001b[0m\n\u001b[1;32m    160\u001b[0m \u001b[0;34m\u001b[0m\u001b[0m\n\u001b[1;32m    161\u001b[0m     \u001b[0mdf_column_names\u001b[0m \u001b[0;34m=\u001b[0m \u001b[0;34m[\u001b[0m\u001b[0;34m'AvgPower'\u001b[0m\u001b[0;34m,\u001b[0m \u001b[0;34m'ActPower'\u001b[0m\u001b[0;34m,\u001b[0m \u001b[0;34m'WindSpeed'\u001b[0m\u001b[0;34m,\u001b[0m \u001b[0;34m'NacelleDirection'\u001b[0m\u001b[0;34m]\u001b[0m\u001b[0;34m\u001b[0m\u001b[0;34m\u001b[0m\u001b[0m\n\u001b[0;32m--> 162\u001b[0;31m     \u001b[0;32mfor\u001b[0m \u001b[0mi\u001b[0m \u001b[0;32min\u001b[0m \u001b[0mrange\u001b[0m\u001b[0;34m(\u001b[0m\u001b[0mlen\u001b[0m\u001b[0;34m(\u001b[0m\u001b[0mrms_bins\u001b[0m\u001b[0;34m)\u001b[0m\u001b[0;34m)\u001b[0m\u001b[0;34m:\u001b[0m\u001b[0;34m\u001b[0m\u001b[0;34m\u001b[0m\u001b[0m\n\u001b[0m\u001b[1;32m    163\u001b[0m         \u001b[0msignal_rms_name\u001b[0m \u001b[0;34m=\u001b[0m \u001b[0;34mf\"{sensor_name.split(';')[0]}_RMS_{i}\"\u001b[0m\u001b[0;34m\u001b[0m\u001b[0;34m\u001b[0m\u001b[0m\n\u001b[1;32m    164\u001b[0m         \u001b[0mdf_column_names\u001b[0m\u001b[0;34m.\u001b[0m\u001b[0mappend\u001b[0m\u001b[0;34m(\u001b[0m\u001b[0msignal_rms_name\u001b[0m\u001b[0;34m)\u001b[0m\u001b[0;34m\u001b[0m\u001b[0;34m\u001b[0m\u001b[0m\n",
      "\u001b[0;31mUnboundLocalError\u001b[0m: local variable 'rms_bins' referenced before assignment"
     ]
    }
   ],
   "source": [
    "df = build_dataset.create_rms_datasets_for_one_component(wt_instance, 'GbxHssRr;0,0102;m/s2', \n",
    "                                                         power_threshold=2500,plot=True, bins=50, \n",
    "                                                         plot_vertical_lines=True)"
   ]
  }
 ],
 "metadata": {
  "kernelspec": {
   "display_name": "Python 3",
   "language": "python",
   "name": "python3"
  },
  "language_info": {
   "codemirror_mode": {
    "name": "ipython",
    "version": 3
   },
   "file_extension": ".py",
   "mimetype": "text/x-python",
   "name": "python",
   "nbconvert_exporter": "python",
   "pygments_lexer": "ipython3",
   "version": "3.7.1"
  }
 },
 "nbformat": 4,
 "nbformat_minor": 2
}
