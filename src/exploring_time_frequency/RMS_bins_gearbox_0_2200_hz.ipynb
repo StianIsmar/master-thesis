{
 "cells": [
  {
   "cell_type": "markdown",
   "metadata": {},
   "source": [
    "# Gearbox in range 0 - 2200 Hz"
   ]
  },
  {
   "cell_type": "code",
   "execution_count": 9,
   "metadata": {},
   "outputs": [
    {
     "name": "stdout",
     "output_type": "stream",
     "text": [
      "ROOT /Users/stianismar/Dropbox/gitProsjekter/master-thesis/src\n"
     ]
    }
   ],
   "source": [
    "import numpy as np\n",
    "from matplotlib.collections import PolyCollection\n",
    "from mpl_toolkits.mplot3d import Axes3D\n",
    "import matplotlib.pyplot as plt\n",
    "import random\n",
    "import sys, os\n",
    "\n",
    "ROOT_PATH = os.path.abspath(\"..\").split(\"data_processing\")[0]\n",
    "print(\"ROOT\", ROOT_PATH)\n",
    "module_path = os.path.abspath(os.path.join(ROOT_PATH+\"/utils/\"))\n",
    "if module_path not in sys.path:\n",
    "    print(\"appended\")\n",
    "    sys.path.append(module_path)\n",
    "\n",
    "import functions as f\n",
    "\n",
    "module_path = os.path.abspath(os.path.join(ROOT_PATH+\"/data_processing/\"))\n",
    "if module_path not in sys.path:\n",
    "    print(\"appended\")\n",
    "    sys.path.append(module_path)\n",
    "import wt_data\n",
    "import ff_transform"
   ]
  },
  {
   "cell_type": "code",
   "execution_count": 8,
   "metadata": {},
   "outputs": [],
   "source": [
    "'''\n",
    "wt_name is either 'WTG01', 'WTG02', 'WTG03', or 'WTG04'\n",
    "\n",
    "'''\n",
    "def load_interval(wt_name, BINS,SENSOR_NAME, load_minimal=False,lower_freq_range,upper_freq_range):\n",
    "    wt_instance = wt_data.load_instance(wt_name, load_minimal=False)\n",
    "    print(f\"This is the amount of intervals: {len(wt_instance.ten_second_intervals)}\")\n",
    "    \n",
    "    y = []\n",
    "    x = []\n",
    "    z = []\n",
    "    \n",
    "    avg_powers = [] # Stores the average power for each interval\n",
    "    \n",
    "    \n",
    "    two_d_plot = d = [[] for x in range(BINS)]\n",
    "    \n",
    "    avg_rot_speeds = []\n",
    "    \n",
    "    i = 0\n",
    "    for interval in wt_instance.ten_second_intervals:\n",
    "        ts = interval.sensor_df['TimeStamp']  # Have this as the y-axis to see how the RMS/frequencies develop\n",
    "        try:\n",
    "            vibration_signal = interval.sensor_df[SENSOR_NAME]\n",
    "        except:\n",
    "            continue\n",
    "\n",
    "\n",
    "        y_repeated = np.repeat(i, 50)  # Repeat this y value n times to use as the y value for the corresponding x (frequency) and z (magnitude)\n",
    "        y.append(y_repeated)\n",
    "        i = i + 1\n",
    "\n",
    "        comp_type = 'gearbox'\n",
    "        \n",
    "        rot_data = interval.high_speed_rot_data\n",
    "        avg_rot_speed = rot_data['mean']\n",
    "        avg_rot_speeds.append(avg_rot_speed)\n",
    "        \n",
    "        \n",
    "        \n",
    "        avg_power = interval.op_df[\"PwrAvg;kW\"][0]\n",
    "        rot_data = interval.high_speed_rot_data\n",
    "        \n",
    "        fast = ff_transform.FastFourierTransform( vibration_signal, ts, comp_type)\n",
    "        fft, time, centroid, rms, rms_bins, bin_freq = fast.fft_transform_time(\n",
    "            rot_data,\n",
    "            avg_power,\n",
    "            get_rms_for_bins=True,\n",
    "            plot=False,\n",
    "            bins=BINS,\n",
    "            plot_bin_lines=False,\n",
    "            x_lim=False,\n",
    "            \n",
    "            )\n",
    "        N = fast.s.size\n",
    "        T = fast.t[1] - fast.t[0]\n",
    "        f = np.linspace(0, 1 / T, N, )\n",
    "        f = f[:N // 2]\n",
    "\n",
    "        z.append(rms_bins)\n",
    "        x.append(bin_freq)\n",
    "        avg_powers.append(interval.op_df['PwrAvg;kW'][0])\n",
    "        \n",
    "        for j, rms_amplitude in enumerate(rms_bins):\n",
    "            two_d_plot[j].append(rms_amplitude)\n",
    "        \n",
    "        \n",
    "\n",
    "        \n",
    "    x = np.array(x)\n",
    "    y = np.array(y)\n",
    "    z = np.array(z)\n",
    "    return x,y,z, two_d_plot, avg_powers, avg_rot_speeds"
   ]
  },
  {
   "cell_type": "code",
   "execution_count": null,
   "metadata": {},
   "outputs": [],
   "source": [
    "\n"
   ]
  }
 ],
 "metadata": {
  "kernelspec": {
   "display_name": "master-thesis",
   "language": "python",
   "name": "master-thesis"
  },
  "language_info": {
   "codemirror_mode": {
    "name": "ipython",
    "version": 3
   },
   "file_extension": ".py",
   "mimetype": "text/x-python",
   "name": "python",
   "nbconvert_exporter": "python",
   "pygments_lexer": "ipython3",
   "version": "3.7.6"
  }
 },
 "nbformat": 4,
 "nbformat_minor": 2
}
