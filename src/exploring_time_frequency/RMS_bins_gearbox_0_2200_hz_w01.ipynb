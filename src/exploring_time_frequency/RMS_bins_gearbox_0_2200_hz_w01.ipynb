{
 "cells": [
  {
   "cell_type": "markdown",
   "metadata": {},
   "source": [
    "# Gearbox in range 0 - 2200 Hz"
   ]
  },
  {
   "cell_type": "code",
   "execution_count": 1,
   "metadata": {},
   "outputs": [],
   "source": [
    "%load_ext autoreload"
   ]
  },
  {
   "cell_type": "code",
   "execution_count": 2,
   "metadata": {},
   "outputs": [
    {
     "name": "stdout",
     "output_type": "stream",
     "text": [
      "ROOT /Users/stianismar/Dropbox/gitProsjekter/master-thesis/src\n",
      "appended\n",
      "appended\n",
      "ROOT /Users/stianismar/Dropbox/gitProsjekter/master-thesis/src\n",
      "/Users/stianismar/Dropbox/gitProsjekter/master-thesis/src\n",
      "ROOT /Users/stianismar/Dropbox/gitProsjekter/master-thesis/src\n"
     ]
    }
   ],
   "source": [
    "import numpy as np\n",
    "from matplotlib.collections import PolyCollection\n",
    "from mpl_toolkits.mplot3d import Axes3D\n",
    "import matplotlib.pyplot as plt\n",
    "import random\n",
    "import sys, os\n",
    "\n",
    "ROOT_PATH = os.path.abspath(\"..\").split(\"data_processing\")[0]\n",
    "print(\"ROOT\", ROOT_PATH)\n",
    "module_path = os.path.abspath(os.path.join(ROOT_PATH+\"/utils/\"))\n",
    "if module_path not in sys.path:\n",
    "    print(\"appended\")\n",
    "    sys.path.append(module_path)\n",
    "\n",
    "import functions as f\n",
    "\n",
    "module_path = os.path.abspath(os.path.join(ROOT_PATH+\"/data_processing/\"))\n",
    "if module_path not in sys.path:\n",
    "    print(\"appended\")\n",
    "    sys.path.append(module_path)\n",
    "\n",
    "\n",
    "%autoreload\n",
    "import wt_data\n",
    "import ff_transform\n",
    "import explore_fft_time_data"
   ]
  },
  {
   "cell_type": "code",
   "execution_count": 3,
   "metadata": {},
   "outputs": [],
   "source": [
    "'''\n",
    "wt_name is either 'WTG01', 'WTG02', 'WTG03', or 'WTG04'\n",
    "\n",
    "'''\n",
    "def load_interval_specified_range(wt_name, BINS,SENSOR_NAME,lower_range_freq,higher_range_freq, load_minimal=False):\n",
    "    wt_instance = wt_data.load_instance(wt_name, load_minimal=False)\n",
    "    num_intervals = len(wt_instance.ten_second_intervals)\n",
    "    print(f\"This is the amount of intervals: {num_intervals}\")\n",
    "    \n",
    "    y = []\n",
    "    x = []\n",
    "    z = []\n",
    "    \n",
    "    avg_powers = [] # Stores the average power for each interval\n",
    "    \n",
    "    two_d_plot = [[] for x in range(BINS)]\n",
    "    wind_speeds = []\n",
    "    avg_rot_speeds = []\n",
    "    \n",
    "    i = 0\n",
    "    \n",
    "    bin_indexes_ranges = []\n",
    "    rms_bins_range_magnitudes = []\n",
    "    \n",
    "    for interval in wt_instance.ten_second_intervals:\n",
    "        ts = interval.sensor_df['TimeStamp']  # Have this as the y-axis to see how the RMS/frequencies develop\n",
    "        try:\n",
    "            vibration_signal = interval.sensor_df[SENSOR_NAME]\n",
    "        except:\n",
    "            continue\n",
    "            \n",
    "        y_repeated = np.repeat(i, 50)  # Repeat this y value n times to use as the y value for the corresponding x (frequency) and z (magnitude)\n",
    "        y.append(y_repeated)\n",
    "        i = i + 1\n",
    "        print(f\"Interval {i} of {num_intervals}\", end='\\r')\n",
    "\n",
    "        comp_type = 'gearbox'\n",
    "        \n",
    "        rot_data = interval.high_speed_rot_data\n",
    "        avg_rot_speed = rot_data['mean']\n",
    "        avg_rot_speeds.append(avg_rot_speed)\n",
    "        \n",
    "        avg_power = interval.op_df[\"PwrAvg;kW\"][0]\n",
    "        rot_data = interval.high_speed_rot_data\n",
    "        wind_speed = interval.op_df[\"WdSpdAct;m/s\"][0]\n",
    "\n",
    "        \n",
    "        \n",
    "        fast = ff_transform.FastFourierTransform( vibration_signal, ts, comp_type)\n",
    "        fft, time, centroid, rms, rms_bins, bin_freq = fast.fft_transform_time(\n",
    "            rot_data,\n",
    "            avg_power,\n",
    "            get_rms_for_bins=True,\n",
    "            plot=False,\n",
    "            bins=BINS,\n",
    "            plot_bin_lines=False,\n",
    "            x_lim=False,\n",
    "            frequency_lines=[],\n",
    "            horisontal_lines=[],\n",
    "            spectrum_lower_range = lower_range_freq,\n",
    "            spectrum_higher_range = higher_range_freq\n",
    "            )\n",
    "        \n",
    "        N = fast.s.size\n",
    "        T = fast.t[1] - fast.t[0]\n",
    "        f = np.linspace(0, 1 / T, N, )\n",
    "        f = f[:N // 2]\n",
    "        \n",
    "        \n",
    "        range_magnitude = fast.rms_bins_range_magnitude\n",
    "        z.append(range_magnitude)\n",
    "        x.append(fast.bin_indexes_range)\n",
    "        every_bin_freq = np.round(fast.bin_indexes_range[1]-fast.bin_indexes_range[0])\n",
    "        avg_powers.append(interval.op_df['PwrAvg;kW'][0])\n",
    "        wind_speeds.append(wind_speed)\n",
    "        \n",
    "        for j, rms_amplitude in enumerate(range_magnitude):\n",
    "            two_d_plot[j].append(rms_amplitude)\n",
    "    x = np.array(x)\n",
    "    y = np.array(y)\n",
    "    z = np.array(z)\n",
    "    \n",
    "    return x,y,z, two_d_plot, avg_powers, avg_rot_speeds, every_bin_freq, wind_speeds"
   ]
  },
  {
   "cell_type": "markdown",
   "metadata": {},
   "source": [
    "# Loading RMS values etc. GbxHssRr"
   ]
  },
  {
   "cell_type": "code",
   "execution_count": 4,
   "metadata": {},
   "outputs": [
    {
     "name": "stdout",
     "output_type": "stream",
     "text": [
      "\n",
      "Loading WTG01...\n",
      "Loaded WTG01\n",
      "This is the amount of intervals: 415\n",
      "Interval 414 of 415\r"
     ]
    }
   ],
   "source": [
    "WIND_TURBINE = 'WTG01'\n",
    "SENSOR_NAME = 'GbxHssRr;0,0102;m/s2'\n",
    "BINS = 50\n",
    "\n",
    "freqs_wt01, interval_nums_wt01, rms_amplitudes_wt01,two_d_plot_tw01, avg_powers_wt01, avg_rot_speeds1,every_bin_freq01, wind_speeds01 = load_interval_specified_range(\n",
    "    WIND_TURBINE,\n",
    "    BINS,\n",
    "    SENSOR_NAME,\n",
    "    lower_range_freq = 0,\n",
    "    higher_range_freq = 2300,\n",
    "    load_minimal=False\n",
    "    )"
   ]
  },
  {
   "cell_type": "code",
   "execution_count": 5,
   "metadata": {},
   "outputs": [
    {
     "data": {
      "text/plain": [
       "(50, 414)"
      ]
     },
     "execution_count": 5,
     "metadata": {},
     "output_type": "execute_result"
    }
   ],
   "source": [
    "tw = np.array(two_d_plot_tw01)\n",
    "tw.shape"
   ]
  },
  {
   "cell_type": "code",
   "execution_count": 6,
   "metadata": {},
   "outputs": [
    {
     "name": "stdout",
     "output_type": "stream",
     "text": [
      "(414, 50)\n",
      "(414, 50)\n",
      "(414, 50)\n",
      "(414, 50)\n",
      "414\n",
      "414\n",
      "46\n"
     ]
    }
   ],
   "source": [
    "print(freqs_wt01.shape)\n",
    "print(interval_nums_wt01.shape)\n",
    "print(rms_amplitudes_wt01.shape)\n",
    "print((np.array(two_d_plot_tw01).T).shape)\n",
    "print(len(avg_powers_wt01))\n",
    "print(len(avg_rot_speeds1))\n",
    "print(int(every_bin_freq01))"
   ]
  },
  {
   "cell_type": "code",
   "execution_count": null,
   "metadata": {
    "scrolled": true
   },
   "outputs": [
    {
     "name": "stdout",
     "output_type": "stream",
     "text": [
      "\n",
      "Loading WTG02...\n",
      "Loaded WTG02\n",
      "This is the amount of intervals: 426\n",
      "Interval 426 of 426\n",
      "Loading WTG03...\r"
     ]
    }
   ],
   "source": [
    "WIND_TURBINE = 'WTG02'\n",
    "SENSOR_NAME = 'GbxHssRr;0,0102;m/s2'\n",
    "BINS = 50\n",
    "\n",
    "freqs_wt02, interval_nums_wt02, rms_amplitudes_wt02,two_d_plot_tw02,avg_powers_wt02, avg_rot_speeds2, every_bin_freq02,wind_speeds02 = load_interval_specified_range(\n",
    "    WIND_TURBINE,\n",
    "    BINS,\n",
    "    SENSOR_NAME,\n",
    "    lower_range_freq = 0,\n",
    "    higher_range_freq = 2300,\n",
    "    load_minimal=False\n",
    "    )\n",
    "\n",
    "WIND_TURBINE = 'WTG03'\n",
    "SENSOR_NAME = 'GbxHssRr;0,0102;m/s2'\n",
    "BINS = 50\n",
    "\n",
    "freqs_wt03, interval_nums_wt03, rms_amplitudes_wt03,two_d_plot_tw03, avg_powers_wt03, avg_rot_speeds3,every_bin_freq03,wind_speeds03 = load_interval_specified_range(\n",
    "    WIND_TURBINE,\n",
    "    BINS,\n",
    "    SENSOR_NAME,\n",
    "    lower_range_freq = 0,\n",
    "    higher_range_freq = 2300,\n",
    "    load_minimal=False\n",
    "    )\n",
    "\n",
    "WIND_TURBINE = 'WTG04'\n",
    "SENSOR_NAME = 'GbxHssRr;0,0102;m/s2'\n",
    "BINS = 50\n",
    "\n",
    "freqs_wt04, interval_nums_wt04, rms_amplitudes_wt04,two_d_plot_tw04,avg_powers_wt04, avg_rot_speeds4, every_bin_freq04,wind_speeds04 = load_interval_specified_range(\n",
    "    WIND_TURBINE,\n",
    "    BINS,\n",
    "    SENSOR_NAME,\n",
    "    lower_range_freq = 0,\n",
    "    higher_range_freq = 2300,\n",
    "    load_minimal=False\n",
    ")\n",
    "    "
   ]
  },
  {
   "cell_type": "markdown",
   "metadata": {},
   "source": [
    "# Filtering away noise"
   ]
  },
  {
   "cell_type": "code",
   "execution_count": null,
   "metadata": {},
   "outputs": [],
   "source": [
    "# WT_01\n",
    "filtered_dict1 = explore_fft_time_data.filter_data(\n",
    "    avg_powers_wt01,\n",
    "    two_d_plot_tw01,\n",
    "    avg_rot_speeds1,\n",
    "    wind_speeds01,\n",
    "    rms_amplitudes_wt01\n",
    ")\n",
    "\n",
    "if filtered_dict1[\"avg_powers_filtered\"] != None:\n",
    "    avg_powers_filtered_wt01 = filtered_dict1[\"avg_powers_filtered\"]\n",
    "    RMS_per_bin_filtered_wt01 = filtered_dict1[\"RMS_per_bin_filtered\"]\n",
    "    average_rpm_filtered_wt01 = filtered_dict1[\"average_rpm_filtered\"]\n",
    "    remove_indexes_wt01 = filtered_dict1[\"remove_indexes\"]\n",
    "    filtered_wind_speeds01 = filtered_dict1[\"wind_speeds_filtered\"]\n",
    "    filtered_rms_amplitudes_wt01 = filtered_dict1[\"rms_amplitudes\"]\n",
    "\n",
    "\n",
    "# WT_02\n",
    "filtered_dict2 = explore_fft_time_data.filter_data(\n",
    "    avg_powers_wt02,\n",
    "    two_d_plot_tw02,\n",
    "    avg_rot_speeds2,\n",
    "    wind_speeds02,\n",
    "    rms_amplitudes_wt02\n",
    ")\n",
    "if filtered_dict2[\"avg_powers_filtered\"] != None:\n",
    "    avg_powers_filtered_wt02 = filtered_dict2[\"avg_powers_filtered\"]\n",
    "    RMS_per_bin_filtered_wt02 = filtered_dict2[\"RMS_per_bin_filtered\"]\n",
    "    average_rpm_filtered_wt02 = filtered_dict2[\"average_rpm_filtered\"]\n",
    "    remove_indexes_wt02 = filtered_dict2[\"remove_indexes\"]\n",
    "    filtered_wind_speeds02 = filtered_dict2[\"wind_speeds_filtered\"]\n",
    "    filtered_rms_amplitudes_wt02 = filtered_dict2[\"rms_amplitudes\"]\n",
    "\n",
    "\n",
    "# WT_03\n",
    "filtered_dict3 = explore_fft_time_data.filter_data(\n",
    "    avg_powers_wt03,\n",
    "    two_d_plot_tw03,\n",
    "    avg_rot_speeds3,\n",
    "    wind_speeds03,\n",
    "    rms_amplitudes_wt03\n",
    ")\n",
    "if filtered_dict3[\"avg_powers_filtered\"] != None:\n",
    "    avg_powers_filtered_wt03 = filtered_dict3[\"avg_powers_filtered\"]\n",
    "    RMS_per_bin_filtered_wt03 = filtered_dict3[\"RMS_per_bin_filtered\"]\n",
    "    average_rpm_filtered_wt03 = filtered_dict3[\"average_rpm_filtered\"]\n",
    "    remove_indexes_wt03 = filtered_dict3[\"remove_indexes\"]\n",
    "    filtered_wind_speeds03 = filtered_dict3[\"wind_speeds_filtered\"]\n",
    "    filtered_rms_amplitudes_wt03 = filtered_dict3[\"rms_amplitudes\"]\n",
    "# WT_04\n",
    "filtered_dict4= explore_fft_time_data.filter_data(\n",
    "    avg_powers_wt04,\n",
    "    two_d_plot_tw04,\n",
    "    avg_rot_speeds4,\n",
    "    wind_speeds04,\n",
    "    rms_amplitudes_wt04\n",
    ")\n",
    "if filtered_dict4[\"avg_powers_filtered\"] != None:\n",
    "    avg_powers_filtered_wt04 = filtered_dict4[\"avg_powers_filtered\"]\n",
    "    RMS_per_bin_filtered_wt04 = filtered_dict4[\"RMS_per_bin_filtered\"]\n",
    "    average_rpm_filtered_wt04 = filtered_dict4[\"average_rpm_filtered\"]\n",
    "    remove_indexes_wt04 = filtered_dict4[\"remove_indexes\"]\n",
    "    filtered_wind_speeds04 = filtered_dict4[\"wind_speeds_filtered\"]\n",
    "    filtered_rms_amplitudes_wt04 = filtered_dict4[\"rms_amplitudes\"]"
   ]
  },
  {
   "cell_type": "markdown",
   "metadata": {},
   "source": [
    "# RMS vs. Wind speed plot for one interval"
   ]
  },
  {
   "cell_type": "code",
   "execution_count": 54,
   "metadata": {},
   "outputs": [
    {
     "name": "stdout",
     "output_type": "stream",
     "text": [
      "(414, 50)\n",
      "(413, 50)\n"
     ]
    }
   ],
   "source": []
  },
  {
   "cell_type": "code",
   "execution_count": null,
   "metadata": {},
   "outputs": [],
   "source": [
    "def rms_wind_speed_scatter(rms_amplitudes, )"
   ]
  },
  {
   "cell_type": "markdown",
   "metadata": {},
   "source": [
    "# Frequencies vs. intervals vs. RMS GbxHssRr (3D)\n",
    "## Color gradient: Average power"
   ]
  },
  {
   "cell_type": "code",
   "execution_count": null,
   "metadata": {
    "scrolled": false
   },
   "outputs": [],
   "source": [
    "explore_fft_time_data.print3d_with_poly_collection(\"1\",\n",
    "                            'GbxHssRr',\n",
    "                             remove_indexes_wt01,\n",
    "                             freqs_wt01,\n",
    "                             interval_nums_wt01, \n",
    "                             rms_amplitudes_wt01,\n",
    "                             'color_alt4',\n",
    "                             avg_powers_filtered_wt01,\n",
    "                             'Blues',\n",
    "                             False)\n",
    "\n",
    "explore_fft_time_data.print3d_with_poly_collection(\"2\",\n",
    "                            'GbxHssRr',\n",
    "                             remove_indexes_wt02,\n",
    "                             freqs_wt02,\n",
    "                             interval_nums_wt02, \n",
    "                             rms_amplitudes_wt02,\n",
    "                             'color_alt4',\n",
    "                             avg_powers_filtered_wt02,\n",
    "                             'Blues',\n",
    "                             False)\n",
    "\n",
    "explore_fft_time_data.print3d_with_poly_collection(\"3\",\n",
    "                            'GbxHssRr',\n",
    "                             remove_indexes_wt03,\n",
    "                             freqs_wt03,\n",
    "                             interval_nums_wt03, \n",
    "                             rms_amplitudes_wt03,\n",
    "                             'color_alt4',\n",
    "                             avg_powers_filtered_wt03,\n",
    "                             'Blues',\n",
    "                             False)\n",
    "\n",
    "explore_fft_time_data.print3d_with_poly_collection(\"4\",\n",
    "                            'GbxHssRr',\n",
    "                             remove_indexes_wt04,\n",
    "                             freqs_wt04,\n",
    "                             interval_nums_wt04, \n",
    "                             rms_amplitudes_wt04,\n",
    "                             'color_alt4',\n",
    "                             avg_powers_filtered_wt04,\n",
    "                             'Blues',\n",
    "                             False)"
   ]
  },
  {
   "cell_type": "markdown",
   "metadata": {},
   "source": [
    "# Frequencies vs. intervals vs. RMS GbxHssRr (3D)\n",
    "## Color gradient: Wind speed"
   ]
  },
  {
   "cell_type": "code",
   "execution_count": null,
   "metadata": {},
   "outputs": [],
   "source": [
    "explore_fft_time_data.print3d_with_poly_collection(\"1\",\n",
    "                             remove_indexes_wt01,\n",
    "                             freqs_wt01,\n",
    "                             interval_nums_wt01, \n",
    "                             rms_amplitudes_wt01,\n",
    "                             'color_alt4',\n",
    "                             filtered_wind_speeds01,\n",
    "                             'Blues',\n",
    "                             False)\n",
    "\n",
    "explore_fft_time_data.print3d_with_poly_collection(\"2\",\n",
    "                             remove_indexes_wt02,\n",
    "                             freqs_wt02,\n",
    "                             interval_nums_wt02, \n",
    "                             rms_amplitudes_wt02,\n",
    "                             'color_alt4',\n",
    "                             filtered_wind_speeds02,\n",
    "                             'Blues',\n",
    "                             False)\n",
    "\n",
    "explore_fft_time_data.print3d_with_poly_collection(\"3\",\n",
    "                             remove_indexes_wt03,\n",
    "                             freqs_wt03,\n",
    "                             interval_nums_wt03, \n",
    "                             rms_amplitudes_wt03,\n",
    "                             'color_alt4',\n",
    "                             filtered_wind_speeds03,\n",
    "                             'Blues',\n",
    "                             False)\n",
    "\n",
    "explore_fft_time_data.print3d_with_poly_collection(\"4\",\n",
    "                             remove_indexes_wt04,\n",
    "                             freqs_wt04,\n",
    "                             interval_nums_wt04, \n",
    "                             rms_amplitudes_wt04,\n",
    "                             'color_alt4',\n",
    "                             filtered_wind_speeds04,\n",
    "                             'Blues',\n",
    "                             False)"
   ]
  },
  {
   "cell_type": "markdown",
   "metadata": {},
   "source": [
    "# Studying bin for bin\n",
    "## RMS/RPM vs. time (Scatter and regression)"
   ]
  },
  {
   "cell_type": "code",
   "execution_count": null,
   "metadata": {
    "scrolled": false
   },
   "outputs": [],
   "source": [
    "bin_steps = np.arange(0,50,5)\n",
    "steps = bin_steps[1]-bin_steps[0]\n",
    "# bin_steps = [0,5,15,20,25,]\n",
    "for step in bin_steps:    \n",
    "    explore_fft_time_data.scatter_plot_rms_rot_speed_time(np.arange(step,step + steps),\"WTG01\",two_d_plot_tw01,avg_rot_speeds1,every_bin_freq01)\n",
    "    explore_fft_time_data.scatter_plot_rms_rot_speed_time(np.arange(step, step + steps),\"WTG02\",two_d_plot_tw02,avg_rot_speeds2,every_bin_freq02)\n",
    "    explore_fft_time_data.scatter_plot_rms_rot_speed_time(np.arange(step, step  + steps),\"WTG03\",two_d_plot_tw03,avg_rot_speeds3,every_bin_freq03)\n",
    "    explore_fft_time_data.scatter_plot_rms_rot_speed_time(np.arange(step, step + steps),\"WTG04\",two_d_plot_tw04,avg_rot_speeds4,every_bin_freq04)"
   ]
  },
  {
   "cell_type": "markdown",
   "metadata": {},
   "source": [
    "## RMS vs. RPM"
   ]
  },
  {
   "cell_type": "code",
   "execution_count": null,
   "metadata": {
    "scrolled": false
   },
   "outputs": [],
   "source": [
    "import warnings\n",
    "warnings.simplefilter('ignore')\n",
    "\n",
    "plot_bin_range = np.arange(0,8)\n",
    "\n",
    "bin_steps = [0,10,20,30,40]\n",
    "for step in bin_steps:    \n",
    "\n",
    "    explore_fft_time_data.scatter_plot_rms_rot_speed(np.arange(step,step + 10),\"WTG01\",two_d_plot_tw01,avg_rot_speeds1,every_bin_freq01)\n",
    "    explore_fft_time_data.scatter_plot_rms_rot_speed(np.arange(step, step + 10),\"WTG02\",two_d_plot_tw02,avg_rot_speeds2,every_bin_freq02)\n",
    "    explore_fft_time_data.scatter_plot_rms_rot_speed(np.arange(step, step  + 10),\"WTG03\",two_d_plot_tw03,avg_rot_speeds3,every_bin_freq03)\n",
    "    explore_fft_time_data.scatter_plot_rms_rot_speed(np.arange(step, step + 10),\"WTG04\",two_d_plot_tw04,avg_rot_speeds4,every_bin_freq04)"
   ]
  },
  {
   "cell_type": "markdown",
   "metadata": {},
   "source": [
    "# RMS vs. Average power"
   ]
  },
  {
   "cell_type": "code",
   "execution_count": null,
   "metadata": {
    "scrolled": false
   },
   "outputs": [],
   "source": [
    "avg_pwr_wt_list = [avg_powers_filtered_wt01,avg_powers_filtered_wt02,\n",
    "                   avg_powers_filtered_wt03,\n",
    "                avg_powers_filtered_wt04]\n",
    "\n",
    "wt_bin_list = [RMS_per_bin_filtered_wt01,RMS_per_bin_filtered_wt02,RMS_per_bin_filtered_wt03,RMS_per_bin_filtered_wt04]\n",
    "every_bin_freq = [every_bin_freq01,every_bin_freq02,every_bin_freq03,every_bin_freq04]\n",
    "\n",
    "bin_steps = [0,10,20,30,40]\n",
    "for step in bin_steps:\n",
    "    start = step\n",
    "    end = step + 10\n",
    "    [explore_fft_time_data.scatter_plot_rms_avg_power(np.arange(start,end),elem,wt_bin_list[i],\"wt_0\"+str(i+1),every_bin_freq[i]) for i, elem in enumerate(avg_pwr_wt_list)]\n",
    "    plt.show()\n"
   ]
  },
  {
   "cell_type": "code",
   "execution_count": null,
   "metadata": {},
   "outputs": [],
   "source": []
  }
 ],
 "metadata": {
  "kernelspec": {
   "display_name": "master-thesis",
   "language": "python",
   "name": "master-thesis"
  },
  "language_info": {
   "codemirror_mode": {
    "name": "ipython",
    "version": 3
   },
   "file_extension": ".py",
   "mimetype": "text/x-python",
   "name": "python",
   "nbconvert_exporter": "python",
   "pygments_lexer": "ipython3",
   "version": "3.7.6"
  }
 },
 "nbformat": 4,
 "nbformat_minor": 2
}
