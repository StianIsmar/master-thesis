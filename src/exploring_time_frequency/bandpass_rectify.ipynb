{
 "cells": [
  {
   "cell_type": "markdown",
   "metadata": {},
   "source": [
    "# Run this cell"
   ]
  },
  {
   "cell_type": "markdown",
   "metadata": {},
   "source": [
    "#### To do:\n",
    " - Try doing HP, Rect, LP and compare to the other method. \n",
    " - What does the new frequencies mean? Can they be used to look for interesting frequencies?\n",
    " - Compare the first and last intervals. Spectral kurtosis development? Did they do that in the paper I am thinking of? "
   ]
  },
  {
   "cell_type": "code",
   "execution_count": null,
   "metadata": {},
   "outputs": [],
   "source": [
    "%load_ext autoreload"
   ]
  },
  {
   "cell_type": "code",
   "execution_count": null,
   "metadata": {},
   "outputs": [],
   "source": [
    "import numpy as np\n",
    "import pandas as pd\n",
    "from matplotlib.collections import PolyCollection\n",
    "from mpl_toolkits.mplot3d import Axes3D\n",
    "import matplotlib.pyplot as plt\n",
    "import random\n",
    "import sys, os\n",
    "from numpy import savez_compressed\n",
    "\n",
    "\n",
    "ROOT_PATH = os.path.abspath(\"..\").split(\"data_processing\")[0]\n",
    "print(\"ROOT\", ROOT_PATH)\n",
    "module_path = os.path.abspath(os.path.join(ROOT_PATH+\"/utils/\"))\n",
    "if module_path not in sys.path:\n",
    "    print(\"appended\")\n",
    "    sys.path.append(module_path)\n",
    "\n",
    "import functions as f\n",
    "\n",
    "module_path = os.path.abspath(os.path.join(ROOT_PATH+\"/data_processing/\"))\n",
    "if module_path not in sys.path:\n",
    "    print(\"appended\")\n",
    "    sys.path.append(module_path)\n",
    "\n",
    "\n",
    "%autoreload\n",
    "import wt_data\n",
    "import ff_transform\n",
    "import explore_fft_time_data"
   ]
  },
  {
   "cell_type": "markdown",
   "metadata": {},
   "source": [
    "# Run from here"
   ]
  },
  {
   "cell_type": "code",
   "execution_count": null,
   "metadata": {},
   "outputs": [],
   "source": [
    "COMPONENT_NAME = 'GbxHssRr'\n",
    "# ['GbxHssRr;0,0102;m/s2']"
   ]
  },
  {
   "cell_type": "code",
   "execution_count": null,
   "metadata": {},
   "outputs": [],
   "source": [
    "# Need only run once!\n",
    "\n",
    "def load_wt(wt_name,component_name):\n",
    "    wt_instance = wt_data.load_instance(wt_name, load_minimal=False)\n",
    "    intervals_vibrations = []\n",
    "    intervals_times = []\n",
    "    intervals_data = []\n",
    "    number_of_intervals = len(wt_instance.ten_second_intervals)\n",
    "    \n",
    "    for i, interval in enumerate(wt_instance.ten_second_intervals):\n",
    "        if (interval.sensor_df.shape[1]) == 14 and (interval.op_df[\"PwrAvg;kW\"][0] > 0):\n",
    "            rot_data = interval.high_speed_rot_data\n",
    "\n",
    "            avg_speed = rot_data['mean']\n",
    "            avg_power = interval.op_df[\"PwrAvg;kW\"][0]\n",
    "            active_power = interval.op_df[\"PwrAct;kW\"][0]\n",
    "            wind_speed = interval.op_df[\"WdSpdAct;m/s\"][0]\n",
    "            nacelle_direction = interval.op_df[\"NacDirAct;deg\"][0]\n",
    "            \n",
    "            interval_data = []\n",
    "            interval_data.append(avg_power)\n",
    "            interval_data.append(active_power)\n",
    "            interval_data.append(wind_speed)\n",
    "            interval_data.append(nacelle_direction)\n",
    "            \n",
    "            # Vibration signal and timestamps\n",
    "            vibration_signal = interval.sensor_df[component_name]\n",
    "            time_stamps = interval.sensor_df['TimeStamp']\n",
    "            time = interval.sensor_df['TimeStamp']\n",
    "\n",
    "            intervals_vibrations.append(vibration_signal)\n",
    "            intervals_times.append(time)\n",
    "            intervals_data.append(interval_data)\n",
    "            \n",
    "    df_column_names = ['AvgPower',\n",
    "                       'ActPower',\n",
    "                       'WindSpeed',\n",
    "                       'NacelleDirection']\n",
    "    \n",
    "    df_intervals_data = pd.DataFrame(intervals_data, columns=df_column_names)\n",
    "            \n",
    "    return intervals_vibrations, intervals_times, df_intervals_data\n",
    "\n",
    "\n"
   ]
  },
  {
   "cell_type": "markdown",
   "metadata": {},
   "source": [
    "# Select WT and component"
   ]
  },
  {
   "cell_type": "code",
   "execution_count": null,
   "metadata": {},
   "outputs": [],
   "source": [
    "intervals_vibrations_wt4, intervals_times_wt4, df_intervals_data_wt04 = load_wt(\"WTG04\",'GbxHssRr;0,0102;m/s2')"
   ]
  },
  {
   "cell_type": "code",
   "execution_count": null,
   "metadata": {},
   "outputs": [],
   "source": [
    "# Saving vibrations\n",
    "savez_compressed('../../sensor_data/intervals_vibrations_wt04.npz', intervals_vibrations_wt4)\n",
    "\n",
    "# Saving timestamps\n",
    "savez_compressed('../../sensor_data/intervals_times_wt04.npz', intervals_times_wt4)\n",
    "\n",
    "# Saving operating data\n",
    "df_intervals_data_wt04.to_csv('../../sensor_data/df_intervals_data_wt04.csv.gz', compression='gzip')\n",
    "\n",
    "del intervals_vibrations_wt4, intervals_times_wt4, df_intervals_data_wt04\n"
   ]
  },
  {
   "cell_type": "code",
   "execution_count": null,
   "metadata": {},
   "outputs": [],
   "source": [
    "# Load compressed data\n",
    "from numpy import load\n",
    "df_intervals_data_wt04 = pd.read_csv('../../sensor_data/df_intervals_data_wt04.csv.gz', compression='gzip')\n",
    "vib_signal_wt4 = load('../../sensor_data/intervals_vibrations_wt04.npz')\n",
    "times_wt4 = load('../../sensor_data/intervals_times_wt04.npz')"
   ]
  },
  {
   "cell_type": "code",
   "execution_count": null,
   "metadata": {},
   "outputs": [],
   "source": [
    "vib_signal_wt4 = vib_signal_wt4['arr_0']\n",
    "times_wt4 = times_wt4['arr_0']"
   ]
  },
  {
   "cell_type": "code",
   "execution_count": null,
   "metadata": {},
   "outputs": [],
   "source": [
    "print(vib_signal_wt4.shape)\n",
    "print(df_intervals_data_wt04.shape)\n",
    "print(times_wt4.shape)"
   ]
  },
  {
   "cell_type": "code",
   "execution_count": null,
   "metadata": {},
   "outputs": [],
   "source": [
    "from scipy import stats\n",
    "stats.describe(vib_signal_wt4[2])"
   ]
  },
  {
   "cell_type": "code",
   "execution_count": null,
   "metadata": {},
   "outputs": [],
   "source": [
    "def plot_vib_consecutive(down):\n",
    "    indexes = []\n",
    "    index_start=0\n",
    "    fig, ax = plt.subplots(figsize=(15,5))\n",
    "    for i, d in enumerate(down):\n",
    "        indexes.append(index_start)\n",
    "        index_end = len(d)\n",
    "        x = np.arange(index_start, index_start+index_end)\n",
    "        index_start = len(x) + index_start\n",
    "        plt.plot(x,d)\n",
    "        plt.margins(0)\n",
    "    print(len(np.linspace(0,index_start+index_end,5)))\n",
    "    plt.xticks(np.linspace(0,index_start,24),[int(round(elem)) for i,elem in enumerate(np.linspace(1,len(down)+1,24))])\n",
    "    #locs, labels = plt.xticks()\n",
    "    #ax.set_xticks(indexes)\n",
    "    #ax.set_xticklabels(np.arange(1,len(indexes)+1))\n",
    "    # plt.xticks(fontsize=7, rotation=90)\n",
    "    print((indexes[-1]))\n",
    "    plt.title(\"Gearbox HSS\")\n",
    "    plt.xlabel(\"Interval number\")\n",
    "    plt.ylabel(\"Vib Amplitude\")\n",
    "    plt.show()\n",
    "plot_vib_consecutive(vib_signal_wt4)"
   ]
  },
  {
   "cell_type": "markdown",
   "metadata": {},
   "source": [
    "# Bandpass method (Bandpass + RECT)"
   ]
  },
  {
   "cell_type": "code",
   "execution_count": null,
   "metadata": {},
   "outputs": [],
   "source": [
    "def get_sampling_freq(signal,times):\n",
    "    for i in range(len(np.array(times))):\n",
    "        times = np.array(times)\n",
    "        T = times[0] - times[1]\n",
    "        ending_time = np.array(times)[-1]\n",
    "        N = len(signal)\n",
    "        fs = N/ending_time\n",
    "        break\n",
    "    return fs, N, T, ending_time"
   ]
  },
  {
   "cell_type": "code",
   "execution_count": null,
   "metadata": {},
   "outputs": [],
   "source": [
    "def perform_fft(amplitudes, timestamps,plot=False ):\n",
    "    t = timestamps\n",
    "    sig = amplitudes\n",
    "    mean_amplitude = np.mean(sig)\n",
    "    sig = sig - mean_amplitude  # Centering around 0\n",
    "    fft = np.fft.fft(sig)\n",
    "    N = sig.size\n",
    "    T = t[1] - t[0]\n",
    "\n",
    "    f = np.linspace(0, 1 / T, N, )  # start, stop, number of. 1 / T = frequency is the biggest freq\n",
    "\n",
    "    f = f[:N // 2]\n",
    "    y = np.abs(fft)[:N // 2]\n",
    "    y_norm = np.abs(fft)[:N // 2] * 1 / N  # Normalized\n",
    "    fft_modulus_norm = y_norm\n",
    "    fft_obj = {'freq':f,'fft_norm': fft_modulus_norm}\n",
    "    return fft_obj"
   ]
  },
  {
   "cell_type": "markdown",
   "metadata": {},
   "source": [
    "## Butter bandpass"
   ]
  },
  {
   "cell_type": "code",
   "execution_count": null,
   "metadata": {},
   "outputs": [],
   "source": [
    "from scipy.signal import butter, lfilter\n",
    "\n",
    "def butter_bandpass(lowcut, highcut, fs, order=5):\n",
    "    nyq = 0.5 * fs\n",
    "    low = lowcut / nyq\n",
    "    high = highcut / nyq\n",
    "    b, a = butter(order, [low, high], btype='band')\n",
    "    return b, a\n",
    "\n",
    "def butter_bandpass_filter(data, lowcut, highcut, fs, order=5):\n",
    "    b, a = butter_bandpass(lowcut, highcut, fs, order=order)\n",
    "    y = lfilter(b, a, data)\n",
    "    return y"
   ]
  },
  {
   "cell_type": "markdown",
   "metadata": {},
   "source": [
    "## Plot_enveloping_process"
   ]
  },
  {
   "cell_type": "code",
   "execution_count": null,
   "metadata": {},
   "outputs": [],
   "source": [
    "def perform_envelope_process(timestamps, interval_signal, COMPONENT_NAME, lowcut,highcut,order = 5,plot_low=60,plot_high=800,plot=False):\n",
    "    fs, _, _ ,_ =  get_sampling_freq(interval_signal,timestamps)\n",
    "    bandpass_filtered = butter_bandpass_filter(interval_signal,lowcut, highcut, fs, order=5)\n",
    "    bandpass_filtered_rect = abs(bandpass_filtered)\n",
    "    \n",
    "    all_time_signals = [interval_signal,bandpass_filtered,bandpass_filtered_rect]\n",
    "    all_fft_spectrums = [perform_fft(sig,timestamps) for i, sig in enumerate(all_time_signals)]\n",
    "\n",
    "    if plot:\n",
    "        plot_enveloping_process(3,2,COMPONENT_NAME, all_time_signals,all_fft_spectrums, timestamps,lowcut,highcut)\n",
    "\n",
    "        df = pd.DataFrame(bandpass_filtered)\n",
    "        df['timestamp'] = timestamps\n",
    "        # df.plot.hist(bins=2000)\n",
    "        df.iloc[60:800].plot.line(x='timestamp',y=0,title=\"Zoomed in on index 60 to 800 in Filtered signal\",legend=False)\n",
    "\n",
    "        df = pd.DataFrame(bandpass_filtered_rect)\n",
    "        df['timestamp'] = timestamps\n",
    "        # df.plot.hist(bins=2000)\n",
    "        df.iloc[plot_low:plot_high].plot.line(x='timestamp',y=0,title=f\"Zoomed in on index {plot_low} to {plot_high} in the filtered, rectified signal\",legend=False)\n",
    "        plt.show()\n",
    "    return all_time_signals, all_fft_spectrums"
   ]
  },
  {
   "cell_type": "code",
   "execution_count": null,
   "metadata": {},
   "outputs": [],
   "source": [
    "def plot_enveloping_process(rows, cols, COMPONENT_NAME, all_time_signals, all_fft_spectrums, timestamps, lowcut, highcut):\n",
    "    fig, ax = plt.subplots(rows, cols,figsize=(15,7))\n",
    "    fig.suptitle(f'{COMPONENT_NAME}: Envelop signal processing ',fontsize=16, y=1.05)\n",
    "\n",
    "    # Row 1\n",
    "    ax[0,0].plot(timestamps,all_time_signals[0])\n",
    "    ax[0,0].set_title(f\"Raw vibration signal from {COMPONENT_NAME} \")\n",
    "    ax[0,1].plot(all_fft_spectrums[0]['freq'],all_fft_spectrums[0]['fft_norm'])\n",
    "    ax[0,1].set_xlabel(\"Frequency [Hz]\")\n",
    "    ax[0,1].set_title(f\"FFT of raw signal from {COMPONENT_NAME}\")\n",
    "\n",
    "    # Row 2\n",
    "    ax[1,0].plot(timestamps,all_time_signals[1])\n",
    "    ax[1,0].set_title(f'filtered signal with lower cutoff {lowcut} and higher {highcut} Hz')\n",
    "    ax[1,1].plot(all_fft_spectrums[1]['freq'],all_fft_spectrums[1]['fft_norm'])\n",
    "    ax[1,1].set_xlabel(\"Frequency [Hz]\")\n",
    "    ax[1,1].set_xlim(lowcut-500,highcut+500)\n",
    "    \n",
    "    # Row 3\n",
    "    ax[2,0].plot(timestamps,all_time_signals[2])\n",
    "    ax[2,0].set_title(f'Rectified the bandpass-filtered signal')\n",
    "    ax[2,1].plot(all_fft_spectrums[2]['freq'],all_fft_spectrums[2]['fft_norm'])\n",
    "    ax[2,1].set_xlabel(\"Frequency [Hz]\")\n",
    "    # ax[2,1].set_xlim(0,1000)    \n",
    "    \n",
    "    plt.tight_layout()\n",
    "    plt.margins(0)\n",
    "    plt.show()"
   ]
  },
  {
   "cell_type": "markdown",
   "metadata": {},
   "source": [
    "## Select lowcut and highcut"
   ]
  },
  {
   "cell_type": "code",
   "execution_count": null,
   "metadata": {
    "scrolled": false
   },
   "outputs": [],
   "source": [
    "lowcut = 5000\n",
    "highcut = 6000\n",
    "\n",
    "steps = np.arange(0,len(times_wt4), 10)\n",
    "for i,index in enumerate(steps):\n",
    "    all_time_signals, all_fft_objects = perform_envelope_process(\n",
    "        times_wt4[i],\n",
    "        vib_signal_wt4[i],\n",
    "        'GbxHssRr',\n",
    "        lowcut,\n",
    "        highcut,plot=True\n",
    "    )\n",
    "    # Do something with all_time_signals, all_fft_objects... Feature extraction/analysis of development"
   ]
  },
  {
   "cell_type": "markdown",
   "metadata": {},
   "source": [
    "### Note on filtering after highpass/lowpass: filtfilt vs. lfilt\n",
    "filtfilt runs the filter forward and backward in time across the data, which produces a zero-phase response.  No frequencies are shifted in time, only attenuated.  Filtering backwards in time requires full knowledge of the future, though, so it can't be used in \"online\" real-life applications, only for offline processing of recordings of signals.  This would be best for something like smoothing of a financial or weather data series, for instance, where you don't want any phase shift."
   ]
  },
  {
   "cell_type": "markdown",
   "metadata": {},
   "source": [
    "# Implementation of Conventional Envelope process (HP + RECT + LP)"
   ]
  },
  {
   "cell_type": "code",
   "execution_count": null,
   "metadata": {},
   "outputs": [],
   "source": [
    "def plot_real_enveloping_process(rows, cols, comp_name, raw_signal, processed_signals,timestamps, lowcut, highcut):\n",
    "    fig, ax = plt.subplots(rows, cols,figsize=(15,10))\n",
    "    fig.suptitle(f'{comp_name}: Envelop signal processing ',fontsize=16, y=1.05)\n",
    "\n",
    "    # Raw signal\n",
    "    ax[0,0].plot(timestamps,raw_signal)\n",
    "    ax[0,0].set_title(f\"Raw vibration signal from {COMPONENT_NAME} \")\n",
    "    perform_fft(raw_signal,timestamps,ax[0,1])\n",
    "    ax[0,1].set_xlabel(\"Frequency [Hz]\")\n",
    "    ax[0,1].set_title(f\"Raw signal from {COMPONENT_NAME}\")\n",
    "\n",
    "    # Raw + HP\n",
    "    ax[1,0].plot(timestamps, processed_signals[0])\n",
    "    ax[1,0].set_title(f' Highpass filter applied with cutoff at {lowcut} Hz')\n",
    "    perform_fft(processed_signals[0], timestamps, ax[1,1])\n",
    "    ax[1,1].set_xlabel(\"Frequency [Hz]\")\n",
    "    ax[1,1].set_xlim(lowcut-500,highcut+500)\n",
    "    \n",
    "    # Raw + HP + abs\n",
    "    ax[2,0].plot(timestamps, processed_signals[1])\n",
    "    ax[2,0].set_title(f'Rectified the higpass filtered signal')\n",
    "    perform_fft(processed_signals[1], timestamps, ax[2,1])\n",
    "    ax[2,1].set_xlabel(\"Frequency [Hz]\")\n",
    "    ax[2,1].set_xlim(0,1000)   \n",
    "    \n",
    "    # Raw + HP + abs + LP\n",
    "    ax[3,0].plot(timestamps, processed_signals[2])\n",
    "    ax[3,0].set_title(f' Lowpass filter applied with cutoff at {highcut} Hz')\n",
    "    perform_fft(processed_signals[2], timestamps, ax[3,1])\n",
    "    ax[3,1].set_xlabel(\"Frequency [Hz]\")\n",
    "    # ax[3,1].set_xlim(0,1000)   \n",
    "    \n",
    "    plt.tight_layout()\n",
    "    plt.margins(0)"
   ]
  },
  {
   "cell_type": "code",
   "execution_count": null,
   "metadata": {},
   "outputs": [],
   "source": [
    "def perform_real_envelope_process(timestamps, interval_signal, fs, COMPONENT_NAME, lowcut,highcut,order = 5,):\n",
    "    fs, _, _ ,_ =  get_sampling_freq(interval_signal,timestamps)\n",
    "    \n",
    "    highpass_filtered = butter_hp_filter(interval_signal,lowcut, fs, order=5)\n",
    "    highpass_filtered_rect = abs(highpass_filtered)\n",
    "    highpass_filtered_rect_lowpass = butter_lp_filter(highpass_filtered_rect, highcut, fs, order=5)\n",
    "    \n",
    "    processed_signals = [highpass_filtered,highpass_filtered_rect,highpass_filtered_rect_lowpass]\n",
    "    # Plotting\n",
    "    plot_real_enveloping_process(4,2,COMPONENT_NAME, interval_signal,processed_signals,timestamps,lowcut,highcut )\n",
    "    \n",
    "    # Plotting a selection of zoomed in plots\n",
    "    df = pd.DataFrame(interval_signal)\n",
    "    df['timestamp'] = timestamps\n",
    "    # df.plot.hist(bins=2000)\n",
    "    df.iloc[60:800].plot.line(x='timestamp',y=0,title=\"Raw signal: Zoomed in from point 60 to 800\",legend=False)\n",
    "    \n",
    "    # Plotting a selection of zoomed in plots\n",
    "    df = pd.DataFrame(highpass_filtered)\n",
    "    df['timestamp'] = timestamps\n",
    "    # df.plot.hist(bins=2000)\n",
    "    df.iloc[60:800].plot.line(x='timestamp',y=0,title=\"HP filtered signal: Zoomed in from point 60 to 800\",legend=False)\n",
    "    \n",
    "    df = pd.DataFrame(highpass_filtered_rect)\n",
    "    df['timestamp'] = timestamps\n",
    "    # df.plot.hist(bins=2000)\n",
    "    df.iloc[100:800].plot.line(x='timestamp',y=0,title=\"HP + rectified filtered signal: Zoomed in from point 60 to 800\",legend=False)\n",
    "    \n",
    "    df = pd.DataFrame(highpass_filtered_rect_lowpass)\n",
    "    df['timestamp'] = timestamps\n",
    "    # df.plot.hist(bins=2000)\n",
    "    df.iloc[100:800].plot.line(x='timestamp',y=0,title=\"HP + rectified + LP filtered signal: Zoomed in on index 60 to 800\",legend=False)\n",
    "    return interval_signal, processed_signals"
   ]
  },
  {
   "cell_type": "code",
   "execution_count": null,
   "metadata": {},
   "outputs": [],
   "source": [
    "from scipy.signal import butter, lfilter,filtfilt\n",
    "\n",
    "def butter_hp(lowcut, fs, order=5):\n",
    "    nyq = 0.5 * fs\n",
    "    w = lowcut / nyq\n",
    "    b, a = butter(order, w, btype='highpass')\n",
    "    return b, a\n",
    "\n",
    "def butter_hp_filter(data, lowcut, fs, order=5):\n",
    "    b, a = butter_hp(lowcut, fs, order=order)\n",
    "    y = filtfilt(b, a, data)\n",
    "    return y"
   ]
  },
  {
   "cell_type": "code",
   "execution_count": null,
   "metadata": {},
   "outputs": [],
   "source": [
    "# Lowpass\n",
    "\n",
    "from scipy.signal import butter, lfilter,filtfilt\n",
    "\n",
    "def butter_lp(highcut, fs, order=5):\n",
    "    nyq = 0.5 * fs\n",
    "    w = highcut / nyq\n",
    "    b, a = butter(order, w, btype='lowpass')\n",
    "    return b, a\n",
    "\n",
    "def butter_lp_filter(data, highcut, fs, order=5):\n",
    "    b, a = butter_lp(highcut, fs, order=order)\n",
    "    y = filtfilt(b, a, data)\n",
    "    return y"
   ]
  },
  {
   "cell_type": "code",
   "execution_count": null,
   "metadata": {},
   "outputs": [],
   "source": [
    "# Running functions"
   ]
  },
  {
   "cell_type": "markdown",
   "metadata": {},
   "source": [
    "## lowcut = 4000, highcut = 60000"
   ]
  },
  {
   "cell_type": "code",
   "execution_count": null,
   "metadata": {
    "scrolled": false
   },
   "outputs": [],
   "source": [
    "lowcut = 4000\n",
    "highcut =  6000\n",
    "raw, processed_signals = perform_real_envelope_process(times_wt4[0], vib_signal_wt4[0], fs,'GbxHssRr', lowcut, highcut)"
   ]
  },
  {
   "cell_type": "code",
   "execution_count": null,
   "metadata": {},
   "outputs": [],
   "source": [
    "lowcut = 5000\n",
    "highcut =  6000\n",
    "raw, processed_signals = perform_real_envelope_process(times_wt4[-1], vib_signal_wt4[-1], fs,'GbxHssRr', lowcut, highcut)"
   ]
  },
  {
   "cell_type": "code",
   "execution_count": null,
   "metadata": {},
   "outputs": [],
   "source": [
    "lowcut = 5000\n",
    "highcut =  6000\n",
    "raw, processed_signals = perform_real_envelope_process(times_wt4[0], vib_signal_wt4[0], fs,'GbxHssRr', lowcut, highcut)"
   ]
  },
  {
   "cell_type": "code",
   "execution_count": null,
   "metadata": {
    "scrolled": true
   },
   "outputs": [],
   "source": [
    "lowcut = 5000\n",
    "highcut =  6000\n",
    "raw, processed_signals = perform_real_envelope_process(times_wt4[-1], vib_signal_wt4[-1], fs,'GbxHssRr', lowcut, highcut)\n",
    "\n",
    "df  = pd.DataFrame(processed_signals[-1])\n",
    "df['Timestamps'] = times_wt4[-1]"
   ]
  },
  {
   "cell_type": "code",
   "execution_count": null,
   "metadata": {},
   "outputs": [],
   "source": [
    "df[60:800].plot(y=0,x='Timestamps',title=\"testing\",legend=False)"
   ]
  },
  {
   "cell_type": "code",
   "execution_count": null,
   "metadata": {},
   "outputs": [],
   "source": [
    "lowcut = 5000\n",
    "highcut =  6000\n",
    "raw, processed_signals = perform_real_envelope_process(times_wt4[-1], vib_signal_wt4[-1], fs,'GbxHssRr', lowcut, highcut)\n",
    "\n",
    "df  = pd.DataFrame(processed_signals[-1])\n",
    "df['Timestamps'] = times_wt4[-1]"
   ]
  }
 ],
 "metadata": {
  "kernelspec": {
   "display_name": "master-thesis",
   "language": "python",
   "name": "master-thesis"
  },
  "language_info": {
   "codemirror_mode": {
    "name": "ipython",
    "version": 3
   },
   "file_extension": ".py",
   "mimetype": "text/x-python",
   "name": "python",
   "nbconvert_exporter": "python",
   "pygments_lexer": "ipython3",
   "version": "3.7.6"
  }
 },
 "nbformat": 4,
 "nbformat_minor": 4
}
