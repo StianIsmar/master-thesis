{
 "cells": [
  {
   "cell_type": "markdown",
   "metadata": {},
   "source": [
    "# Run this cell"
   ]
  },
  {
   "cell_type": "code",
   "execution_count": 50,
   "metadata": {},
   "outputs": [
    {
     "name": "stdout",
     "output_type": "stream",
     "text": [
      "The autoreload extension is already loaded. To reload it, use:\n",
      "  %reload_ext autoreload\n"
     ]
    }
   ],
   "source": [
    "%load_ext autoreload"
   ]
  },
  {
   "cell_type": "code",
   "execution_count": 51,
   "metadata": {},
   "outputs": [
    {
     "name": "stdout",
     "output_type": "stream",
     "text": [
      "ROOT /Users/stianismar/Dropbox/gitProsjekter/master-thesis/src\n"
     ]
    }
   ],
   "source": [
    "import numpy as np\n",
    "import pandas as pd\n",
    "from matplotlib.collections import PolyCollection\n",
    "from mpl_toolkits.mplot3d import Axes3D\n",
    "import matplotlib.pyplot as plt\n",
    "import random\n",
    "import sys, os\n",
    "\n",
    "ROOT_PATH = os.path.abspath(\"..\").split(\"data_processing\")[0]\n",
    "print(\"ROOT\", ROOT_PATH)\n",
    "module_path = os.path.abspath(os.path.join(ROOT_PATH+\"/utils/\"))\n",
    "if module_path not in sys.path:\n",
    "    print(\"appended\")\n",
    "    sys.path.append(module_path)\n",
    "\n",
    "import functions as f\n",
    "\n",
    "module_path = os.path.abspath(os.path.join(ROOT_PATH+\"/data_processing/\"))\n",
    "if module_path not in sys.path:\n",
    "    print(\"appended\")\n",
    "    sys.path.append(module_path)\n",
    "\n",
    "\n",
    "%autoreload\n",
    "import wt_data\n",
    "import ff_transform\n",
    "import explore_fft_time_data"
   ]
  },
  {
   "cell_type": "markdown",
   "metadata": {},
   "source": [
    "# Run from here"
   ]
  },
  {
   "cell_type": "code",
   "execution_count": 52,
   "metadata": {},
   "outputs": [],
   "source": [
    "COMPONENT_NAME = 'GbxHssRr'"
   ]
  },
  {
   "cell_type": "code",
   "execution_count": 57,
   "metadata": {},
   "outputs": [
    {
     "data": {
      "text/plain": [
       "'\\ndef load_wt(wt_name):\\n    wt_instance = wt_data.load_instance(wt_name, load_minimal=False)\\n    down = []\\n    times = []\\n    number_of_intervals = len(wt_instance.ten_second_intervals)\\n    for i,interval in enumerate(wt_instance.ten_second_intervals):\\n        if i <= 5:\\n            vibration_signal = interval.sensor_df[\\'GbxHssRr;0,0102;m/s2\\']\\n            time = interval.sensor_df[\\'TimeStamp\\']\\n            times.append(time)\\n            # down.append((vibration_signal[::100]))\\n            down.append(vibration_signal)\\n        if i > (number_of_intervals - 5):\\n            print(\"Appending the last interval\")\\n            vibration_signal = interval.sensor_df[\\'GbxHssRr;0,0102;m/s2\\']\\n            down.append(vibration_signal)\\n\\n            time = interval.sensor_df[\\'TimeStamp\\']\\n            times.append(time)\\n    del wt_instance\\n    del interval\\n    return down, times\\n\\nvib_signal_wt4, times_wt4 = load_wt(\"WTG04\")\\n\\nfrom numpy import savez_compressed\\nsavez_compressed(\\'../../sensor_data/vib_signal_wt4.npz\\', vib_signal_wt4)\\nsavez_compressed(\\'../../sensor_data/times_wt4.npz\\', times_wt4)\\n\\ndel vib_signal_wt4, times_wt4\\n'"
      ]
     },
     "execution_count": 57,
     "metadata": {},
     "output_type": "execute_result"
    }
   ],
   "source": [
    "'''\n",
    "def load_wt(wt_name):\n",
    "    wt_instance = wt_data.load_instance(wt_name, load_minimal=False)\n",
    "    down = []\n",
    "    times = []\n",
    "    number_of_intervals = len(wt_instance.ten_second_intervals)\n",
    "    for i,interval in enumerate(wt_instance.ten_second_intervals):\n",
    "        if i <= 5:\n",
    "            vibration_signal = interval.sensor_df['GbxHssRr;0,0102;m/s2']\n",
    "            time = interval.sensor_df['TimeStamp']\n",
    "            times.append(time)\n",
    "            # down.append((vibration_signal[::100]))\n",
    "            down.append(vibration_signal)\n",
    "        if i > (number_of_intervals - 5):\n",
    "            print(\"Appending the last interval\")\n",
    "            vibration_signal = interval.sensor_df['GbxHssRr;0,0102;m/s2']\n",
    "            down.append(vibration_signal)\n",
    "\n",
    "            time = interval.sensor_df['TimeStamp']\n",
    "            times.append(time)\n",
    "    del wt_instance\n",
    "    del interval\n",
    "    return down, times\n",
    "\n",
    "vib_signal_wt4, times_wt4 = load_wt(\"WTG04\")\n",
    "\n",
    "from numpy import savez_compressed\n",
    "savez_compressed('../../sensor_data/vib_signal_wt4.npz', vib_signal_wt4)\n",
    "savez_compressed('../../sensor_data/times_wt4.npz', times_wt4)\n",
    "\n",
    "del vib_signal_wt4, times_wt4\n",
    "'''"
   ]
  },
  {
   "cell_type": "code",
   "execution_count": 54,
   "metadata": {},
   "outputs": [],
   "source": [
    "from numpy import load\n",
    "\n",
    "# Load compressed data\n",
    "vib_signal_wt4 = load('../../sensor_data/vib_signal_wt4.npz')\n",
    "times_wt4 = load('../../sensor_data/times_wt4.npz')"
   ]
  },
  {
   "cell_type": "code",
   "execution_count": 55,
   "metadata": {},
   "outputs": [],
   "source": [
    "vib_signal_wt4 = vib_signal_wt4['arr_0']\n",
    "times_wt4 = times_wt4['arr_0']"
   ]
  },
  {
   "cell_type": "code",
   "execution_count": 56,
   "metadata": {},
   "outputs": [
    {
     "name": "stdout",
     "output_type": "stream",
     "text": [
      "(10, 262144)\n",
      "(10, 262144)\n"
     ]
    }
   ],
   "source": [
    "print(vib_signal_wt4.shape)\n",
    "print(times_wt4.shape)"
   ]
  },
  {
   "cell_type": "code",
   "execution_count": null,
   "metadata": {},
   "outputs": [],
   "source": [
    "from scipy import stats\n",
    "stats.describe(vib_signal_wt4[2])"
   ]
  },
  {
   "cell_type": "code",
   "execution_count": null,
   "metadata": {},
   "outputs": [],
   "source": [
    "def plot_vib_consecutive(down):\n",
    "    indexes = []\n",
    "    index_start=0\n",
    "    fig, ax = plt.subplots(figsize=(15,5))\n",
    "    for i, d in enumerate(down):\n",
    "        indexes.append(index_start)\n",
    "        index_end = len(d)\n",
    "        x = np.arange(index_start, index_start+index_end)\n",
    "        index_start = len(x) + index_start\n",
    "        plt.plot(x,d)\n",
    "        plt.margins(0)\n",
    "    print(len(np.linspace(0,index_start+index_end,5)))\n",
    "    plt.xticks(np.linspace(0,index_start,24),[int(round(elem)) for i,elem in enumerate(np.linspace(1,len(down)+1,24))])\n",
    "    #locs, labels = plt.xticks()\n",
    "    #ax.set_xticks(indexes)\n",
    "    #ax.set_xticklabels(np.arange(1,len(indexes)+1))\n",
    "    # plt.xticks(fontsize=7, rotation=90)\n",
    "    print((indexes[-1]))\n",
    "    plt.title(\"Gearbox HSS\")\n",
    "    plt.xlabel(\"Interval number\")\n",
    "    plt.ylabel(\"Vib Amplitude\")\n",
    "    plt.show()\n",
    "plot_vib_consecutive(vib_signal_wt4)"
   ]
  },
  {
   "cell_type": "code",
   "execution_count": null,
   "metadata": {},
   "outputs": [],
   "source": [
    "def get_sampling_freq(signal,times):\n",
    "    for i in range(len(np.array(times))):\n",
    "        times = np.array(times)\n",
    "        T = times[0] - times[1]\n",
    "        ending_time = np.array(times)[-1]\n",
    "        N = len(signal)\n",
    "        fs = N/ending_time\n",
    "        break\n",
    "    return fs, N, T, ending_time\n",
    "\n",
    "fs, N, T, ending_time = get_sampling_freq(vib_signal_wt4[0],times_wt4[0])\n",
    "fs"
   ]
  },
  {
   "cell_type": "code",
   "execution_count": null,
   "metadata": {},
   "outputs": [],
   "source": [
    "def perform_fft(amplitudes, timestamps,ax ):\n",
    "    t = timestamps\n",
    "    sig = amplitudes\n",
    "    mean_amplitude = np.mean(sig)\n",
    "    sig = sig - mean_amplitude  # Centering around 0\n",
    "    fft = np.fft.fft(sig)\n",
    "    N = sig.size\n",
    "    T = t[1] - t[0]\n",
    "\n",
    "    f = np.linspace(0, 1 / T, N, )  # start, stop, number of. 1 / T = frequency is the biggest freq\n",
    "\n",
    "    f = f[:N // 2]\n",
    "    y = np.abs(fft)[:N // 2]\n",
    "    y_norm = np.abs(fft)[:N // 2] * 1 / N  # Normalized\n",
    "    fft_modulus_norm = y_norm\n",
    "    ax.plot(f,fft_modulus_norm)\n",
    "\n",
    "# perform_fft(sig, t)"
   ]
  },
  {
   "cell_type": "code",
   "execution_count": null,
   "metadata": {},
   "outputs": [],
   "source": [
    "import numpy as np\n",
    "import pandas as pd\n",
    "from scipy import signal\n",
    "import matplotlib.pyplot as plt\n",
    "def sine_generator(fs, sinefreq, duration):\n",
    "    T = duration\n",
    "    nsamples = fs * T\n",
    "    w = 2. * np.pi * sinefreq\n",
    "    t_sine = np.linspace(0, T, nsamples, endpoint=False)\n",
    "    y_sine = np.sin(w * t_sine)\n",
    "    result = pd.DataFrame({ \n",
    "        'data' : y_sine} ,index=t_sine)\n",
    "    return result\n",
    "\n",
    "def butter_highpass(cutoff, fs, order=5):\n",
    "    nyq = 0.5 * fs\n",
    "    normal_cutoff = cutoff / nyq\n",
    "    b, a = signal.butter(order, normal_cutoff, btype='high', analog=False)\n",
    "    return b, a\n",
    "\n",
    "def butter_highpass_filter(data, cutoff, fs, order=5):\n",
    "    b, a = butter_highpass(cutoff, fs, order=order)\n",
    "    y = signal.filtfilt(b, a, data)\n",
    "    return y\n",
    "\n",
    "# fps = 2000\n",
    "#sine_fq = 10 #Hz\n",
    "duration = ending_time #seconds\n",
    "#sine_5Hz = sine_generator(fps,sine_fq,duration)\n",
    "#sine_fq = 1 #Hz\n",
    "duration = ending_time #seconds\n",
    "# sine_1Hz = sine_generator(fps,sine_fq,duration)\n",
    "\n",
    "# sine = sine_5Hz + sine_1Hz\n",
    "hp_cutoff = 2000\n",
    "filtered_sine_wt4 = butter_highpass_filter(vib_signal_wt4[0],hp_cutoff,fs)\n",
    "filtered_sine_wt4"
   ]
  },
  {
   "cell_type": "markdown",
   "metadata": {},
   "source": [
    "## Butter bandpass"
   ]
  },
  {
   "cell_type": "code",
   "execution_count": null,
   "metadata": {},
   "outputs": [],
   "source": [
    "from scipy.signal import butter, lfilter\n",
    "\n",
    "def butter_bandpass(lowcut, highcut, fs, order=5):\n",
    "    nyq = 0.5 * fs\n",
    "    low = lowcut / nyq\n",
    "    high = highcut / nyq\n",
    "    b, a = butter(order, [low, high], btype='band')\n",
    "    return b, a\n",
    "\n",
    "def butter_bandpass_filter(data, lowcut, highcut, fs, order=5):\n",
    "    b, a = butter_bandpass(lowcut, highcut, fs, order=order)\n",
    "    y = lfilter(b, a, data)\n",
    "    return y"
   ]
  },
  {
   "cell_type": "markdown",
   "metadata": {},
   "source": [
    "## Plot_enveloping_process"
   ]
  },
  {
   "cell_type": "code",
   "execution_count": null,
   "metadata": {},
   "outputs": [],
   "source": [
    "def plot_enveloping_process(rows, cols, COMPONENT_NAME, raw_signal, filtred_signal, timestamps, lowcut, highcut):\n",
    "    filtred_signal\n",
    "    fig, ax = plt.subplots(rows, cols)\n",
    "    fig.suptitle(f'{COMPONENT_NAME}: Envelop signal processing ',fontsize=16, y=1.05)\n",
    "\n",
    "    ax[0,0].plot(timestamps,raw_signal)\n",
    "    ax[0,0].set_title(f\"Raw vibration signal from {COMPONENT_NAME} \")\n",
    "    perform_fft(raw_signal,timestamps,ax[0,1])\n",
    "    ax[0,1].set_xlabel(\"Frequency [Hz]\")\n",
    "    ax[0,1].set_title(f\"Raw signal from {COMPONENT_NAME}\")\n",
    "\n",
    "    ax[1,0].plot(timestamps,filtred_signal)\n",
    "    ax[1,0].set_title(f'filtered signal with lower cutoff {lowcut} and higher {highcut} Hz')\n",
    "    perform_fft(filtred_signal, timestamps, ax[1,1])\n",
    "    ax[1,1].set_xlabel(\"Frequency [Hz]\")\n",
    "    ax[1,1].set_xlim(lowcut-500,highcut+500)\n",
    "    plt.tight_layout()\n",
    "    plt.margins(0)"
   ]
  },
  {
   "cell_type": "markdown",
   "metadata": {},
   "source": [
    "## lowcut = 4000, highcut = 6000\n",
    "### First interval"
   ]
  },
  {
   "cell_type": "code",
   "execution_count": null,
   "metadata": {},
   "outputs": [],
   "source": [
    "lowcut = 4000\n",
    "highcut = 6000\n",
    "fs = fs # already defined\n",
    "bandpass1_filtered = butter_bandpass_filter(vib_signal_wt4[0],lowcut, highcut, fs, order=5)\n",
    "bandpass1_filtered\n",
    "plot_enveloping_process(2,2,COMPONENT_NAME, vib_signal_wt4[0],bandpass1_filtered,times_wt4[0],lowcut,highcut )"
   ]
  },
  {
   "cell_type": "markdown",
   "metadata": {},
   "source": [
    "### Last interval"
   ]
  },
  {
   "cell_type": "code",
   "execution_count": null,
   "metadata": {},
   "outputs": [],
   "source": [
    "lowcut = 4000\n",
    "highcut = 6000\n",
    "fs = fs # already defined\n",
    "bandpass1_filtered = butter_bandpass_filter(vib_signal_wt4[-1],lowcut, highcut, fs, order=5)\n",
    "bandpass1_filtered\n",
    "plot_enveloping_process(2,2,COMPONENT_NAME, vib_signal_wt4[-1],bandpass1_filtered,times_wt4[-1],lowcut,highcut )\n",
    "\n",
    "df = pd.DataFrame(bandpass2_filtered)\n",
    "df['timestamp'] = times_wt4[-1]\n",
    "# df.plot.hist(bins=2000)\n",
    "df.iloc[60:800].plot.line(x='timestamp',y=0,title=\"Zoomed in on index 60 to 800 in Filtered signal\",legend=False)"
   ]
  },
  {
   "cell_type": "markdown",
   "metadata": {},
   "source": [
    "### Second to last interval"
   ]
  },
  {
   "cell_type": "code",
   "execution_count": null,
   "metadata": {},
   "outputs": [],
   "source": [
    "stl_index = len(times_wt4) - 2 # Second to last\n",
    "print(vib_signal_wt4.shape)\n",
    "lowcut = 4000\n",
    "highcut = 6000\n",
    "fs = fs # already defined\n",
    "bandpass2_filtered = butter_bandpass_filter(vib_signal_wt4[stl_index],lowcut, highcut, fs, order=5)\n",
    "bandpass2_filtered\n",
    "plot_enveloping_process(2,2,COMPONENT_NAME, vib_signal_wt4[stl_index],bandpass2_filtered,times_wt4[stl_index],lowcut,highcut)\n",
    "\n",
    "df = pd.DataFrame(bandpass2_filtered)\n",
    "df['timestamp'] = times_wt4[stl_index]\n",
    "# df.plot.hist(bins=2000)\n",
    "df.iloc[100:800].plot.line(x='timestamp',y=0,title=\"Zoomed in on index 60 to 800 in Filtered signal\",legend=False)"
   ]
  },
  {
   "cell_type": "markdown",
   "metadata": {},
   "source": [
    "## lowcut = 5000, highcut = 6000"
   ]
  },
  {
   "cell_type": "markdown",
   "metadata": {},
   "source": [
    "### First interval"
   ]
  },
  {
   "cell_type": "code",
   "execution_count": null,
   "metadata": {},
   "outputs": [],
   "source": [
    "lowcut = 5000\n",
    "highcut = 6000\n",
    "fs = fs # already defined\n",
    "bandpass2_filtered = butter_bandpass_filter(vib_signal_wt4[0],lowcut, highcut, fs, order=5)\n",
    "bandpass2_filtered\n",
    "plot_enveloping_process(2,2,COMPONENT_NAME, vib_signal_wt4[0],bandpass2_filtered,times_wt4[0],lowcut,highcut )\n",
    "\n",
    "df = pd.DataFrame(bandpass2_filtered)\n",
    "df['timestamp'] = times_wt4[0]\n",
    "# df.plot.hist(bins=2000)\n",
    "df.iloc[100:800].plot.line(x='timestamp',y=0,title=\"Zoomed in on index 60 to 800 in Filtered signal\",legend=False)"
   ]
  },
  {
   "cell_type": "markdown",
   "metadata": {},
   "source": [
    "### Last interval"
   ]
  },
  {
   "cell_type": "code",
   "execution_count": null,
   "metadata": {},
   "outputs": [],
   "source": [
    "lowcut = 5000\n",
    "highcut = 6000\n",
    "fs = fs # already defined\n",
    "bandpass2_filtered = butter_bandpass_filter(vib_signal_wt4[-1],lowcut, highcut, fs, order=5)\n",
    "bandpass2_filtered\n",
    "plot_enveloping_process(2,2,COMPONENT_NAME, vib_signal_wt4[-1],bandpass2_filtered,times_wt4[-1],lowcut,highcut)\n",
    "\n",
    "df = pd.DataFrame(bandpass2_filtered)\n",
    "df['timestamp'] = times_wt4[-1]\n",
    "# df.plot.hist(bins=2000)\n",
    "df.iloc[100:800].plot.line(x='timestamp',y=0,title=\"Zoomed in on index 60 to 800 in Filtered signal\",legend=False)"
   ]
  },
  {
   "cell_type": "markdown",
   "metadata": {},
   "source": [
    "### Second to last interval Bandpass (5000, 6000 Hz)"
   ]
  },
  {
   "cell_type": "code",
   "execution_count": null,
   "metadata": {},
   "outputs": [],
   "source": [
    "stl_index = len(times_wt4) - 2 # Second to last\n",
    "print(vib_signal_wt4.shape)\n",
    "lowcut = 5000\n",
    "highcut = 6000\n",
    "fs = fs # already defined\n",
    "bandpass2_filtered = butter_bandpass_filter(vib_signal_wt4[stl_index],lowcut, highcut, fs, order=5)\n",
    "bandpass2_filtered\n",
    "plot_enveloping_process(2,2,COMPONENT_NAME, vib_signal_wt4[stl_index],bandpass2_filtered,times_wt4[stl_index],lowcut,highcut)\n",
    "\n",
    "\n",
    "df = pd.DataFrame(bandpass2_filtered)\n",
    "df['timestamp'] = times_wt4[stl_index]\n",
    "# df.plot.hist(bins=2000)\n",
    "df.iloc[100:800].plot.line(x='timestamp',y=0,title=\"Zoomed in on index 60 to 800 in Filtered signal\",legend=False)"
   ]
  },
  {
   "cell_type": "markdown",
   "metadata": {},
   "source": [
    "## Another type of filter"
   ]
  },
  {
   "cell_type": "code",
   "execution_count": null,
   "metadata": {},
   "outputs": [],
   "source": [
    "def hp_filter(amplitudes, lower_freq_limit):\n",
    "    sig = amplitudes\n",
    "    fig, (ax2) = plt.subplots(1, 1, sharex=True)\n",
    "    sos = signal.butter(10, lower_freq_limit, 'hp', fs=1000, output='sos')\n",
    "    filtered = signal.sosfilt(sos, sig)\n",
    "    ax2.plot(t, filtered)\n",
    "    ax2.set_title(f'After {lower_freq_limit} Hz high-pass filter')\n",
    "    ax2.axis([0, 1, -2, 2])\n",
    "    ax2.set_xlabel('Time [seconds]')\n",
    "v    plt.show()\n",
    "    perform_fft(filtered, t)\n",
    "\n",
    "def lp_filter(amplitudes, upper_freq_limit):\n",
    "    sig = amplitudes\n",
    "    fig, (ax2) = plt.subplots(1, 1, sharex=True)\n",
    "    sos = signal.butter(10, upper_freq_limit, 'lp', fs=1000, output='sos')\n",
    "    filtered = signal.sosfilt(sos, sig)\n",
    "    ax2.plot(t, filtered)\n",
    "    ax2.set_title(f'After {upper_freq_limit} Hz high-pass filter')\n",
    "    ax2.axis([0, 1, -2, 2])\n",
    "    ax2.set_xlabel('Time [seconds]')\n",
    "    plt.tight_layout()\n",
    "    plt.show()\n",
    "    perform_fft(filtered, t)\n",
    "\n",
    "hp_filter(sig,250)\n",
    "lp_filter(sig,50)\n"
   ]
  },
  {
   "cell_type": "code",
   "execution_count": null,
   "metadata": {},
   "outputs": [],
   "source": [
    "sos = signal.butter(10, 15, 'hp', fs=1000, output='sos')\n"
   ]
  }
 ],
 "metadata": {
  "kernelspec": {
   "display_name": "master-thesis",
   "language": "python",
   "name": "master-thesis"
  },
  "language_info": {
   "codemirror_mode": {
    "name": "ipython",
    "version": 3
   },
   "file_extension": ".py",
   "mimetype": "text/x-python",
   "name": "python",
   "nbconvert_exporter": "python",
   "pygments_lexer": "ipython3",
   "version": "3.7.6"
  }
 },
 "nbformat": 4,
 "nbformat_minor": 4
}
