{
 "cells": [
  {
   "cell_type": "code",
   "execution_count": 1,
   "metadata": {},
   "outputs": [],
   "source": [
    "%load_ext autoreload"
   ]
  },
  {
   "cell_type": "code",
   "execution_count": 2,
   "metadata": {},
   "outputs": [
    {
     "name": "stdout",
     "output_type": "stream",
     "text": [
      "ROOT /Users/mortenolsenosvik/Documents/NTNU/Master/master-thesis/src\n",
      "appended\n",
      "/Users/mortenolsenosvik/Documents/NTNU/Master/master-thesis/src\n"
     ]
    }
   ],
   "source": [
    "import sys\n",
    "import numpy as np\n",
    "import pandas as pd\n",
    "import seaborn as sns\n",
    "sns.set(color_codes=True)\n",
    "import matplotlib.pyplot as plt\n",
    "from sklearn.decomposition import PCA\n",
    "from sklearn.preprocessing import StandardScaler\n",
    "\n",
    "if not \"../data_processing\" in sys.path:\n",
    "    sys.path.append(\"../data_processing\")\n",
    "\n",
    "%autoreload\n",
    "import build_dataset"
   ]
  },
  {
   "cell_type": "code",
   "execution_count": 43,
   "metadata": {},
   "outputs": [
    {
     "data": {
      "text/html": [
       "<div>\n",
       "<style scoped>\n",
       "    .dataframe tbody tr th:only-of-type {\n",
       "        vertical-align: middle;\n",
       "    }\n",
       "\n",
       "    .dataframe tbody tr th {\n",
       "        vertical-align: top;\n",
       "    }\n",
       "\n",
       "    .dataframe thead th {\n",
       "        text-align: right;\n",
       "    }\n",
       "</style>\n",
       "<table border=\"1\" class=\"dataframe\">\n",
       "  <thead>\n",
       "    <tr style=\"text-align: right;\">\n",
       "      <th></th>\n",
       "      <th>AvgPower</th>\n",
       "      <th>ActPower</th>\n",
       "      <th>AvgRotSpeed</th>\n",
       "      <th>WindSpeed</th>\n",
       "      <th>NacelleDirection</th>\n",
       "      <th>GbxHssRr_RMS_0</th>\n",
       "      <th>GbxHssRr_RMS_1</th>\n",
       "      <th>GbxHssRr_RMS_2</th>\n",
       "      <th>GbxHssRr_RMS_3</th>\n",
       "      <th>GbxHssRr_RMS_4</th>\n",
       "      <th>...</th>\n",
       "      <th>GbxHssRr_RMS_40</th>\n",
       "      <th>GbxHssRr_RMS_41</th>\n",
       "      <th>GbxHssRr_RMS_42</th>\n",
       "      <th>GbxHssRr_RMS_43</th>\n",
       "      <th>GbxHssRr_RMS_44</th>\n",
       "      <th>GbxHssRr_RMS_45</th>\n",
       "      <th>GbxHssRr_RMS_46</th>\n",
       "      <th>GbxHssRr_RMS_47</th>\n",
       "      <th>GbxHssRr_RMS_48</th>\n",
       "      <th>GbxHssRr_RMS_49</th>\n",
       "    </tr>\n",
       "  </thead>\n",
       "  <tbody>\n",
       "    <tr>\n",
       "      <th>0</th>\n",
       "      <td>406.781433</td>\n",
       "      <td>431.200012</td>\n",
       "      <td>966.748980</td>\n",
       "      <td>5.2</td>\n",
       "      <td>208.300003</td>\n",
       "      <td>0.183803</td>\n",
       "      <td>0.578023</td>\n",
       "      <td>0.382599</td>\n",
       "      <td>0.713316</td>\n",
       "      <td>0.137359</td>\n",
       "      <td>...</td>\n",
       "      <td>0.133423</td>\n",
       "      <td>0.223895</td>\n",
       "      <td>0.186688</td>\n",
       "      <td>0.218882</td>\n",
       "      <td>0.279001</td>\n",
       "      <td>0.271950</td>\n",
       "      <td>0.138354</td>\n",
       "      <td>0.089420</td>\n",
       "      <td>0.073151</td>\n",
       "      <td>0.044012</td>\n",
       "    </tr>\n",
       "    <tr>\n",
       "      <th>1</th>\n",
       "      <td>2818.207520</td>\n",
       "      <td>3291.300049</td>\n",
       "      <td>1487.871218</td>\n",
       "      <td>14.2</td>\n",
       "      <td>226.699997</td>\n",
       "      <td>0.404392</td>\n",
       "      <td>0.258909</td>\n",
       "      <td>0.811581</td>\n",
       "      <td>0.344739</td>\n",
       "      <td>1.497359</td>\n",
       "      <td>...</td>\n",
       "      <td>1.101426</td>\n",
       "      <td>1.969857</td>\n",
       "      <td>1.778854</td>\n",
       "      <td>2.673142</td>\n",
       "      <td>3.386242</td>\n",
       "      <td>2.750154</td>\n",
       "      <td>1.419267</td>\n",
       "      <td>0.809299</td>\n",
       "      <td>0.444020</td>\n",
       "      <td>0.272188</td>\n",
       "    </tr>\n",
       "    <tr>\n",
       "      <th>2</th>\n",
       "      <td>2528.062988</td>\n",
       "      <td>2454.500000</td>\n",
       "      <td>1471.267571</td>\n",
       "      <td>10.6</td>\n",
       "      <td>231.699997</td>\n",
       "      <td>0.532580</td>\n",
       "      <td>0.244108</td>\n",
       "      <td>1.221325</td>\n",
       "      <td>0.346431</td>\n",
       "      <td>1.477624</td>\n",
       "      <td>...</td>\n",
       "      <td>1.106000</td>\n",
       "      <td>2.131452</td>\n",
       "      <td>1.824046</td>\n",
       "      <td>2.082840</td>\n",
       "      <td>2.086788</td>\n",
       "      <td>1.563331</td>\n",
       "      <td>0.788437</td>\n",
       "      <td>0.436628</td>\n",
       "      <td>0.294574</td>\n",
       "      <td>0.181487</td>\n",
       "    </tr>\n",
       "    <tr>\n",
       "      <th>3</th>\n",
       "      <td>2500.473145</td>\n",
       "      <td>1772.500000</td>\n",
       "      <td>1432.996560</td>\n",
       "      <td>8.4</td>\n",
       "      <td>284.600006</td>\n",
       "      <td>0.478452</td>\n",
       "      <td>0.210531</td>\n",
       "      <td>1.090423</td>\n",
       "      <td>0.360744</td>\n",
       "      <td>0.946055</td>\n",
       "      <td>...</td>\n",
       "      <td>0.967446</td>\n",
       "      <td>1.962500</td>\n",
       "      <td>1.463750</td>\n",
       "      <td>1.369159</td>\n",
       "      <td>1.247210</td>\n",
       "      <td>1.092017</td>\n",
       "      <td>0.519553</td>\n",
       "      <td>0.320830</td>\n",
       "      <td>0.221710</td>\n",
       "      <td>0.146560</td>\n",
       "    </tr>\n",
       "    <tr>\n",
       "      <th>4</th>\n",
       "      <td>467.837036</td>\n",
       "      <td>441.200012</td>\n",
       "      <td>1041.878054</td>\n",
       "      <td>6.2</td>\n",
       "      <td>322.100006</td>\n",
       "      <td>0.202902</td>\n",
       "      <td>2.325503</td>\n",
       "      <td>0.570255</td>\n",
       "      <td>0.546559</td>\n",
       "      <td>0.159730</td>\n",
       "      <td>...</td>\n",
       "      <td>0.149326</td>\n",
       "      <td>0.259508</td>\n",
       "      <td>0.219284</td>\n",
       "      <td>0.240134</td>\n",
       "      <td>0.273170</td>\n",
       "      <td>0.261065</td>\n",
       "      <td>0.138248</td>\n",
       "      <td>0.104824</td>\n",
       "      <td>0.079551</td>\n",
       "      <td>0.045207</td>\n",
       "    </tr>\n",
       "  </tbody>\n",
       "</table>\n",
       "<p>5 rows × 55 columns</p>\n",
       "</div>"
      ],
      "text/plain": [
       "      AvgPower     ActPower  AvgRotSpeed  WindSpeed  NacelleDirection  \\\n",
       "0   406.781433   431.200012   966.748980        5.2        208.300003   \n",
       "1  2818.207520  3291.300049  1487.871218       14.2        226.699997   \n",
       "2  2528.062988  2454.500000  1471.267571       10.6        231.699997   \n",
       "3  2500.473145  1772.500000  1432.996560        8.4        284.600006   \n",
       "4   467.837036   441.200012  1041.878054        6.2        322.100006   \n",
       "\n",
       "   GbxHssRr_RMS_0  GbxHssRr_RMS_1  GbxHssRr_RMS_2  GbxHssRr_RMS_3  \\\n",
       "0        0.183803        0.578023        0.382599        0.713316   \n",
       "1        0.404392        0.258909        0.811581        0.344739   \n",
       "2        0.532580        0.244108        1.221325        0.346431   \n",
       "3        0.478452        0.210531        1.090423        0.360744   \n",
       "4        0.202902        2.325503        0.570255        0.546559   \n",
       "\n",
       "   GbxHssRr_RMS_4  ...  GbxHssRr_RMS_40  GbxHssRr_RMS_41  GbxHssRr_RMS_42  \\\n",
       "0        0.137359  ...         0.133423         0.223895         0.186688   \n",
       "1        1.497359  ...         1.101426         1.969857         1.778854   \n",
       "2        1.477624  ...         1.106000         2.131452         1.824046   \n",
       "3        0.946055  ...         0.967446         1.962500         1.463750   \n",
       "4        0.159730  ...         0.149326         0.259508         0.219284   \n",
       "\n",
       "   GbxHssRr_RMS_43  GbxHssRr_RMS_44  GbxHssRr_RMS_45  GbxHssRr_RMS_46  \\\n",
       "0         0.218882         0.279001         0.271950         0.138354   \n",
       "1         2.673142         3.386242         2.750154         1.419267   \n",
       "2         2.082840         2.086788         1.563331         0.788437   \n",
       "3         1.369159         1.247210         1.092017         0.519553   \n",
       "4         0.240134         0.273170         0.261065         0.138248   \n",
       "\n",
       "   GbxHssRr_RMS_47  GbxHssRr_RMS_48  GbxHssRr_RMS_49  \n",
       "0         0.089420         0.073151         0.044012  \n",
       "1         0.809299         0.444020         0.272188  \n",
       "2         0.436628         0.294574         0.181487  \n",
       "3         0.320830         0.221710         0.146560  \n",
       "4         0.104824         0.079551         0.045207  \n",
       "\n",
       "[5 rows x 55 columns]"
      ]
     },
     "execution_count": 43,
     "metadata": {},
     "output_type": "execute_result"
    }
   ],
   "source": [
    "path = '/Volumes/OsvikExtra/VibrationData/RMS_dataset/GbxHssRr_RMS_power>WTG02.csv'\n",
    "data = pd.read_csv(path)\n",
    "data.head()"
   ]
  },
  {
   "cell_type": "code",
   "execution_count": 44,
   "metadata": {},
   "outputs": [],
   "source": [
    "data = data.drop(columns=['ActPower'])\n",
    "def train_test_split(df, percentage):\n",
    "    split_index = int(np.floor(df.shape[0]) * percentage)\n",
    "    train = df[:split_index]\n",
    "    test = df[split_index:].reset_index(drop=True)\n",
    "    return train, test\n",
    "\n",
    "train, test = train_test_split(data, 0.8)"
   ]
  },
  {
   "cell_type": "code",
   "execution_count": 45,
   "metadata": {},
   "outputs": [
    {
     "name": "stdout",
     "output_type": "stream",
     "text": [
      "(335, 54)\n",
      "(84, 54)\n"
     ]
    }
   ],
   "source": [
    "print(train.shape)\n",
    "print(test.shape)"
   ]
  },
  {
   "cell_type": "markdown",
   "metadata": {},
   "source": [
    "## Loss function MAE (Mean Absolute Error)"
   ]
  },
  {
   "cell_type": "code",
   "execution_count": 46,
   "metadata": {},
   "outputs": [],
   "source": [
    "def custom_mae(y_true, y_pred):\n",
    "    return np.mean(np.abs(y_pred - y_true))"
   ]
  },
  {
   "cell_type": "markdown",
   "metadata": {},
   "source": [
    "## Scale with StandardScaler"
   ]
  },
  {
   "cell_type": "code",
   "execution_count": 47,
   "metadata": {},
   "outputs": [],
   "source": [
    "scaler = StandardScaler()\n",
    "train_scaled = scaler.fit_transform(train)\n",
    "test_scaled = scaler.transform(test)"
   ]
  },
  {
   "cell_type": "markdown",
   "metadata": {},
   "source": [
    "## PCA "
   ]
  },
  {
   "cell_type": "code",
   "execution_count": 48,
   "metadata": {},
   "outputs": [
    {
     "name": "stdout",
     "output_type": "stream",
     "text": [
      "The number of components is: 21\n"
     ]
    }
   ],
   "source": [
    "'''\n",
    "The number of components required to capture 90% of the variance \n",
    "will be used\n",
    "'''\n",
    "pca = PCA(0.99) \n",
    "pca.fit(train_scaled)\n",
    "print(f'The number of components is: {pca.n_components_}')"
   ]
  },
  {
   "cell_type": "code",
   "execution_count": 49,
   "metadata": {},
   "outputs": [
    {
     "name": "stdout",
     "output_type": "stream",
     "text": [
      "The training reonstruction variance is: 0.009313422566676844\n"
     ]
    }
   ],
   "source": [
    "train_pca = pca.transform(train_scaled)\n",
    "train_pca_reconstructed = pca.inverse_transform(train_pca)\n",
    "train_reconstruction_variance = np.var(train_scaled - pca.inverse_transform(train_pca))\n",
    "print(f'The training reonstruction variance is: {train_reconstruction_variance}')"
   ]
  },
  {
   "cell_type": "code",
   "execution_count": 50,
   "metadata": {},
   "outputs": [
    {
     "name": "stdout",
     "output_type": "stream",
     "text": [
      "The testing reonstruction variance is: 0.01452632052559108\n"
     ]
    }
   ],
   "source": [
    "test_pca = pca.transform(test_scaled)\n",
    "test_pca_reconstructed = pca.inverse_transform(test_pca)\n",
    "test_reconstruction_variance = np.var(test_scaled - pca.inverse_transform(test_pca))\n",
    "print(f'The testing reonstruction variance is: {test_reconstruction_variance}')"
   ]
  },
  {
   "cell_type": "code",
   "execution_count": 51,
   "metadata": {},
   "outputs": [
    {
     "name": "stdout",
     "output_type": "stream",
     "text": [
      "MAE loss on train data using pca: 0.06829479283843377\n"
     ]
    }
   ],
   "source": [
    "train_loss = custom_mae(train_scaled, train_pca_reconstructed)\n",
    "print(f'MAE loss on train data using pca: {train_loss}')"
   ]
  },
  {
   "cell_type": "code",
   "execution_count": 52,
   "metadata": {},
   "outputs": [
    {
     "name": "stdout",
     "output_type": "stream",
     "text": [
      "MAE loss on test data using pca: 0.0871594859820424\n"
     ]
    }
   ],
   "source": [
    "test_loss = custom_mae(test_scaled, test_pca_reconstructed)\n",
    "print(f'MAE loss on test data using pca: {test_loss}')"
   ]
  },
  {
   "cell_type": "code",
   "execution_count": null,
   "metadata": {},
   "outputs": [],
   "source": []
  }
 ],
 "metadata": {
  "kernelspec": {
   "display_name": "Python 3",
   "language": "python",
   "name": "python3"
  },
  "language_info": {
   "codemirror_mode": {
    "name": "ipython",
    "version": 3
   },
   "file_extension": ".py",
   "mimetype": "text/x-python",
   "name": "python",
   "nbconvert_exporter": "python",
   "pygments_lexer": "ipython3",
   "version": "3.7.1"
  }
 },
 "nbformat": 4,
 "nbformat_minor": 2
}
