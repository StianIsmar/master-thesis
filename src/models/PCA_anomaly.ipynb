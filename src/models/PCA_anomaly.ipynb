{
 "cells": [
  {
   "cell_type": "code",
   "execution_count": 3,
   "metadata": {},
   "outputs": [],
   "source": [
    "%load_ext autoreload"
   ]
  },
  {
   "cell_type": "code",
   "execution_count": 6,
   "metadata": {},
   "outputs": [],
   "source": [
    "import sys\n",
    "import numpy as np\n",
    "import pandas as pd\n",
    "import seaborn as sns\n",
    "sns.set(color_codes=True)\n",
    "import matplotlib.pyplot as plt\n",
    "from sklearn.decomposition import PCA\n",
    "from sklearn.preprocessing import StandardScaler\n",
    "\n",
    "if not \"../data_processing\" in sys.path:\n",
    "    sys.path.append(\"../data_processing\")\n",
    "\n",
    "%autoreload\n",
    "import build_dataset"
   ]
  },
  {
   "cell_type": "code",
   "execution_count": 9,
   "metadata": {},
   "outputs": [
    {
     "data": {
      "text/html": [
       "<div>\n",
       "<style scoped>\n",
       "    .dataframe tbody tr th:only-of-type {\n",
       "        vertical-align: middle;\n",
       "    }\n",
       "\n",
       "    .dataframe tbody tr th {\n",
       "        vertical-align: top;\n",
       "    }\n",
       "\n",
       "    .dataframe thead th {\n",
       "        text-align: right;\n",
       "    }\n",
       "</style>\n",
       "<table border=\"1\" class=\"dataframe\">\n",
       "  <thead>\n",
       "    <tr style=\"text-align: right;\">\n",
       "      <th></th>\n",
       "      <th>AvgPower</th>\n",
       "      <th>ActPower</th>\n",
       "      <th>WindSpeed</th>\n",
       "      <th>NacelleDirection</th>\n",
       "      <th>GnDe_RMS_0</th>\n",
       "      <th>GnDe_RMS_1</th>\n",
       "      <th>GnDe_RMS_2</th>\n",
       "      <th>GnDe_RMS_3</th>\n",
       "      <th>GnDe_RMS_4</th>\n",
       "      <th>GnDe_RMS_5</th>\n",
       "      <th>...</th>\n",
       "      <th>GnDe_RMS_40</th>\n",
       "      <th>GnDe_RMS_41</th>\n",
       "      <th>GnDe_RMS_42</th>\n",
       "      <th>GnDe_RMS_43</th>\n",
       "      <th>GnDe_RMS_44</th>\n",
       "      <th>GnDe_RMS_45</th>\n",
       "      <th>GnDe_RMS_46</th>\n",
       "      <th>GnDe_RMS_47</th>\n",
       "      <th>GnDe_RMS_48</th>\n",
       "      <th>GnDe_RMS_49</th>\n",
       "    </tr>\n",
       "  </thead>\n",
       "  <tbody>\n",
       "    <tr>\n",
       "      <th>0</th>\n",
       "      <td>2953.059326</td>\n",
       "      <td>3062.600098</td>\n",
       "      <td>12.2</td>\n",
       "      <td>211.300003</td>\n",
       "      <td>0.300703</td>\n",
       "      <td>0.167599</td>\n",
       "      <td>0.080561</td>\n",
       "      <td>0.084499</td>\n",
       "      <td>0.121249</td>\n",
       "      <td>0.425802</td>\n",
       "      <td>...</td>\n",
       "      <td>0.164977</td>\n",
       "      <td>0.308687</td>\n",
       "      <td>0.150392</td>\n",
       "      <td>1.183420</td>\n",
       "      <td>2.292909</td>\n",
       "      <td>1.254640</td>\n",
       "      <td>1.781284</td>\n",
       "      <td>1.916941</td>\n",
       "      <td>1.222130</td>\n",
       "      <td>0.666716</td>\n",
       "    </tr>\n",
       "    <tr>\n",
       "      <th>1</th>\n",
       "      <td>2506.833740</td>\n",
       "      <td>2213.600098</td>\n",
       "      <td>9.8</td>\n",
       "      <td>210.300003</td>\n",
       "      <td>0.309377</td>\n",
       "      <td>0.232027</td>\n",
       "      <td>0.094280</td>\n",
       "      <td>0.094344</td>\n",
       "      <td>0.164666</td>\n",
       "      <td>0.303873</td>\n",
       "      <td>...</td>\n",
       "      <td>0.147899</td>\n",
       "      <td>0.184640</td>\n",
       "      <td>0.349825</td>\n",
       "      <td>1.127339</td>\n",
       "      <td>2.018184</td>\n",
       "      <td>1.615926</td>\n",
       "      <td>2.218490</td>\n",
       "      <td>2.089519</td>\n",
       "      <td>1.052369</td>\n",
       "      <td>0.651631</td>\n",
       "    </tr>\n",
       "    <tr>\n",
       "      <th>2</th>\n",
       "      <td>2638.403320</td>\n",
       "      <td>2538.399902</td>\n",
       "      <td>10.2</td>\n",
       "      <td>36.900002</td>\n",
       "      <td>0.278201</td>\n",
       "      <td>0.184347</td>\n",
       "      <td>0.078550</td>\n",
       "      <td>0.078943</td>\n",
       "      <td>0.150086</td>\n",
       "      <td>0.297047</td>\n",
       "      <td>...</td>\n",
       "      <td>0.277046</td>\n",
       "      <td>0.294337</td>\n",
       "      <td>0.325631</td>\n",
       "      <td>0.940822</td>\n",
       "      <td>1.858590</td>\n",
       "      <td>1.692963</td>\n",
       "      <td>1.860862</td>\n",
       "      <td>1.666716</td>\n",
       "      <td>1.469655</td>\n",
       "      <td>0.640885</td>\n",
       "    </tr>\n",
       "    <tr>\n",
       "      <th>3</th>\n",
       "      <td>2603.288818</td>\n",
       "      <td>2243.100098</td>\n",
       "      <td>9.9</td>\n",
       "      <td>110.800003</td>\n",
       "      <td>0.259520</td>\n",
       "      <td>0.205391</td>\n",
       "      <td>0.072722</td>\n",
       "      <td>0.077394</td>\n",
       "      <td>0.130983</td>\n",
       "      <td>0.273404</td>\n",
       "      <td>...</td>\n",
       "      <td>0.292905</td>\n",
       "      <td>0.287657</td>\n",
       "      <td>0.343236</td>\n",
       "      <td>0.813018</td>\n",
       "      <td>1.648452</td>\n",
       "      <td>1.683130</td>\n",
       "      <td>1.240347</td>\n",
       "      <td>1.144751</td>\n",
       "      <td>1.500817</td>\n",
       "      <td>0.621034</td>\n",
       "    </tr>\n",
       "    <tr>\n",
       "      <th>4</th>\n",
       "      <td>3289.359131</td>\n",
       "      <td>3477.300049</td>\n",
       "      <td>13.1</td>\n",
       "      <td>229.699997</td>\n",
       "      <td>0.318589</td>\n",
       "      <td>0.182687</td>\n",
       "      <td>0.067799</td>\n",
       "      <td>0.075636</td>\n",
       "      <td>0.138208</td>\n",
       "      <td>0.368046</td>\n",
       "      <td>...</td>\n",
       "      <td>0.117334</td>\n",
       "      <td>0.218183</td>\n",
       "      <td>0.168848</td>\n",
       "      <td>0.913204</td>\n",
       "      <td>0.795317</td>\n",
       "      <td>1.880269</td>\n",
       "      <td>2.054144</td>\n",
       "      <td>1.126004</td>\n",
       "      <td>1.443030</td>\n",
       "      <td>0.711852</td>\n",
       "    </tr>\n",
       "  </tbody>\n",
       "</table>\n",
       "<p>5 rows × 54 columns</p>\n",
       "</div>"
      ],
      "text/plain": [
       "      AvgPower     ActPower  WindSpeed  NacelleDirection  GnDe_RMS_0  \\\n",
       "0  2953.059326  3062.600098       12.2        211.300003    0.300703   \n",
       "1  2506.833740  2213.600098        9.8        210.300003    0.309377   \n",
       "2  2638.403320  2538.399902       10.2         36.900002    0.278201   \n",
       "3  2603.288818  2243.100098        9.9        110.800003    0.259520   \n",
       "4  3289.359131  3477.300049       13.1        229.699997    0.318589   \n",
       "\n",
       "   GnDe_RMS_1  GnDe_RMS_2  GnDe_RMS_3  GnDe_RMS_4  GnDe_RMS_5  ...  \\\n",
       "0    0.167599    0.080561    0.084499    0.121249    0.425802  ...   \n",
       "1    0.232027    0.094280    0.094344    0.164666    0.303873  ...   \n",
       "2    0.184347    0.078550    0.078943    0.150086    0.297047  ...   \n",
       "3    0.205391    0.072722    0.077394    0.130983    0.273404  ...   \n",
       "4    0.182687    0.067799    0.075636    0.138208    0.368046  ...   \n",
       "\n",
       "   GnDe_RMS_40  GnDe_RMS_41  GnDe_RMS_42  GnDe_RMS_43  GnDe_RMS_44  \\\n",
       "0     0.164977     0.308687     0.150392     1.183420     2.292909   \n",
       "1     0.147899     0.184640     0.349825     1.127339     2.018184   \n",
       "2     0.277046     0.294337     0.325631     0.940822     1.858590   \n",
       "3     0.292905     0.287657     0.343236     0.813018     1.648452   \n",
       "4     0.117334     0.218183     0.168848     0.913204     0.795317   \n",
       "\n",
       "   GnDe_RMS_45  GnDe_RMS_46  GnDe_RMS_47  GnDe_RMS_48  GnDe_RMS_49  \n",
       "0     1.254640     1.781284     1.916941     1.222130     0.666716  \n",
       "1     1.615926     2.218490     2.089519     1.052369     0.651631  \n",
       "2     1.692963     1.860862     1.666716     1.469655     0.640885  \n",
       "3     1.683130     1.240347     1.144751     1.500817     0.621034  \n",
       "4     1.880269     2.054144     1.126004     1.443030     0.711852  \n",
       "\n",
       "[5 rows x 54 columns]"
      ]
     },
     "execution_count": 9,
     "metadata": {},
     "output_type": "execute_result"
    }
   ],
   "source": [
    "path = '/Volumes/OsvikExtra/VibrationData/RMS_dataset/GnDe_RMS_power>2500_WTG03.csv'\n",
    "data = pd.read_csv(path)\n",
    "data.head()"
   ]
  },
  {
   "cell_type": "code",
   "execution_count": 10,
   "metadata": {},
   "outputs": [],
   "source": [
    "def train_test_split(df, percentage):\n",
    "    split_index = int(np.floor(df.shape[0]) * percentage)\n",
    "    train = df[:split_index]\n",
    "    test = df[split_index:].reset_index(drop=True)\n",
    "    return train, test\n",
    "\n",
    "train, test = train_test_split(data, 0.8)"
   ]
  },
  {
   "cell_type": "code",
   "execution_count": 11,
   "metadata": {},
   "outputs": [
    {
     "name": "stdout",
     "output_type": "stream",
     "text": [
      "(227, 54)\n",
      "(57, 54)\n"
     ]
    }
   ],
   "source": [
    "print(train.shape)\n",
    "print(test.shape)"
   ]
  },
  {
   "cell_type": "code",
   "execution_count": 12,
   "metadata": {},
   "outputs": [
    {
     "data": {
      "text/plain": [
       "-1000.0"
      ]
     },
     "execution_count": 12,
     "metadata": {},
     "output_type": "execute_result"
    }
   ],
   "source": [
    "min(data['ActPower'])"
   ]
  },
  {
   "cell_type": "markdown",
   "metadata": {},
   "source": [
    "## Loss function MAE (Mean Absolute Error)"
   ]
  },
  {
   "cell_type": "code",
   "execution_count": 41,
   "metadata": {},
   "outputs": [],
   "source": [
    "def custom_mae(y_true, y_pred):\n",
    "    return np.mean(np.abs(y_pred - y_true))"
   ]
  },
  {
   "cell_type": "markdown",
   "metadata": {},
   "source": [
    "## Scale with StandardScaler"
   ]
  },
  {
   "cell_type": "code",
   "execution_count": 20,
   "metadata": {},
   "outputs": [],
   "source": [
    "scaler = StandardScaler()\n",
    "train_scaled = scaler.fit_transform(train)\n",
    "test_scaled = scaler.transform(test)"
   ]
  },
  {
   "cell_type": "markdown",
   "metadata": {},
   "source": [
    "## PCA "
   ]
  },
  {
   "cell_type": "code",
   "execution_count": 109,
   "metadata": {},
   "outputs": [
    {
     "name": "stdout",
     "output_type": "stream",
     "text": [
      "The number of components is: 26\n"
     ]
    }
   ],
   "source": [
    "'''\n",
    "The number of components required to capture 90% of the variance \n",
    "will be used\n",
    "'''\n",
    "pca = PCA(0.95) \n",
    "pca.fit(train_scaled)\n",
    "print(f'The number of components is: {pca.n_components_}')"
   ]
  },
  {
   "cell_type": "code",
   "execution_count": 110,
   "metadata": {},
   "outputs": [
    {
     "name": "stdout",
     "output_type": "stream",
     "text": [
      "The training reonstruction variance is: 0.045689461151772436\n"
     ]
    }
   ],
   "source": [
    "train_pca = pca.transform(train_scaled)\n",
    "train_pca_reconstructed = pca.inverse_transform(train_pca)\n",
    "train_reconstruction_variance = np.var(train_scaled - pca.inverse_transform(train_pca))\n",
    "print(f'The training reonstruction variance is: {train_reconstruction_variance}')"
   ]
  },
  {
   "cell_type": "code",
   "execution_count": 111,
   "metadata": {},
   "outputs": [
    {
     "name": "stdout",
     "output_type": "stream",
     "text": [
      "The testing reonstruction variance is: 0.08720389829829704\n"
     ]
    }
   ],
   "source": [
    "test_pca = pca.transform(test_scaled)\n",
    "test_pca_reconstructed = pca.inverse_transform(test_pca)\n",
    "test_reconstruction_variance = np.var(test_scaled - pca.inverse_transform(test_pca))\n",
    "print(f'The testing reonstruction variance is: {test_reconstruction_variance}')"
   ]
  },
  {
   "cell_type": "code",
   "execution_count": 112,
   "metadata": {},
   "outputs": [
    {
     "name": "stdout",
     "output_type": "stream",
     "text": [
      "MAE loss on train data using pca: 0.16498336707746594\n"
     ]
    }
   ],
   "source": [
    "train_loss = custom_mae(train_scaled, train_pca_reconstructed)\n",
    "print(f'MAE loss on train data using pca: {train_loss}')"
   ]
  },
  {
   "cell_type": "code",
   "execution_count": 113,
   "metadata": {},
   "outputs": [
    {
     "name": "stdout",
     "output_type": "stream",
     "text": [
      "MAE loss on test data using pca: 0.22540199152569734\n"
     ]
    }
   ],
   "source": [
    "test_loss = custom_mae(test_scaled, test_pca_reconstructed)\n",
    "print(f'MAE loss on test data using pca: {test_loss}')"
   ]
  },
  {
   "cell_type": "code",
   "execution_count": null,
   "metadata": {},
   "outputs": [],
   "source": []
  }
 ],
 "metadata": {
  "kernelspec": {
   "display_name": "Python 3",
   "language": "python",
   "name": "python3"
  },
  "language_info": {
   "codemirror_mode": {
    "name": "ipython",
    "version": 3
   },
   "file_extension": ".py",
   "mimetype": "text/x-python",
   "name": "python",
   "nbconvert_exporter": "python",
   "pygments_lexer": "ipython3",
   "version": "3.7.1"
  }
 },
 "nbformat": 4,
 "nbformat_minor": 2
}
