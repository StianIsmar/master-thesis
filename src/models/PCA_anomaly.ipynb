{
 "cells": [
  {
   "cell_type": "code",
   "execution_count": 1,
   "metadata": {},
   "outputs": [],
   "source": [
    "%load_ext autoreload"
   ]
  },
  {
   "cell_type": "code",
   "execution_count": 2,
   "metadata": {},
   "outputs": [],
   "source": [
    "import sys\n",
    "import numpy as np\n",
    "import pandas as pd\n",
    "import seaborn as sns\n",
    "sns.set(color_codes=True)\n",
    "import matplotlib.pyplot as plt\n",
    "from sklearn.decomposition import PCA\n",
    "from sklearn.preprocessing import StandardScaler\n",
    "\n",
    "if not \"../data_processing\" in sys.path:\n",
    "    sys.path.append(\"../data_processing\")\n",
    "\n",
    "%autoreload\n",
    "import pca"
   ]
  },
  {
   "cell_type": "markdown",
   "metadata": {},
   "source": [
    "## TEST #1: Run PCA with 80% of WTG02 as training and 20% as testing"
   ]
  },
  {
   "cell_type": "code",
   "execution_count": 8,
   "metadata": {},
   "outputs": [
    {
     "data": {
      "text/html": [
       "<div>\n",
       "<style scoped>\n",
       "    .dataframe tbody tr th:only-of-type {\n",
       "        vertical-align: middle;\n",
       "    }\n",
       "\n",
       "    .dataframe tbody tr th {\n",
       "        vertical-align: top;\n",
       "    }\n",
       "\n",
       "    .dataframe thead th {\n",
       "        text-align: right;\n",
       "    }\n",
       "</style>\n",
       "<table border=\"1\" class=\"dataframe\">\n",
       "  <thead>\n",
       "    <tr style=\"text-align: right;\">\n",
       "      <th></th>\n",
       "      <th>AvgPower</th>\n",
       "      <th>ActPower</th>\n",
       "      <th>AvgRotSpeed</th>\n",
       "      <th>WindSpeed</th>\n",
       "      <th>NacelleDirection</th>\n",
       "      <th>GbxHssRr_RMS_0</th>\n",
       "      <th>GbxHssRr_RMS_1</th>\n",
       "      <th>GbxHssRr_RMS_2</th>\n",
       "      <th>GbxHssRr_RMS_3</th>\n",
       "      <th>GbxHssRr_RMS_4</th>\n",
       "      <th>...</th>\n",
       "      <th>GbxHssRr_RMS_40</th>\n",
       "      <th>GbxHssRr_RMS_41</th>\n",
       "      <th>GbxHssRr_RMS_42</th>\n",
       "      <th>GbxHssRr_RMS_43</th>\n",
       "      <th>GbxHssRr_RMS_44</th>\n",
       "      <th>GbxHssRr_RMS_45</th>\n",
       "      <th>GbxHssRr_RMS_46</th>\n",
       "      <th>GbxHssRr_RMS_47</th>\n",
       "      <th>GbxHssRr_RMS_48</th>\n",
       "      <th>GbxHssRr_RMS_49</th>\n",
       "    </tr>\n",
       "  </thead>\n",
       "  <tbody>\n",
       "    <tr>\n",
       "      <th>0</th>\n",
       "      <td>2818.207520</td>\n",
       "      <td>3291.300049</td>\n",
       "      <td>1487.871218</td>\n",
       "      <td>14.2</td>\n",
       "      <td>226.699997</td>\n",
       "      <td>0.404392</td>\n",
       "      <td>0.258909</td>\n",
       "      <td>0.811581</td>\n",
       "      <td>0.344739</td>\n",
       "      <td>1.497359</td>\n",
       "      <td>...</td>\n",
       "      <td>1.101426</td>\n",
       "      <td>1.969857</td>\n",
       "      <td>1.778854</td>\n",
       "      <td>2.673142</td>\n",
       "      <td>3.386242</td>\n",
       "      <td>2.750154</td>\n",
       "      <td>1.419267</td>\n",
       "      <td>0.809299</td>\n",
       "      <td>0.444020</td>\n",
       "      <td>0.272188</td>\n",
       "    </tr>\n",
       "    <tr>\n",
       "      <th>1</th>\n",
       "      <td>2528.062988</td>\n",
       "      <td>2454.500000</td>\n",
       "      <td>1471.267571</td>\n",
       "      <td>10.6</td>\n",
       "      <td>231.699997</td>\n",
       "      <td>0.532580</td>\n",
       "      <td>0.244108</td>\n",
       "      <td>1.221325</td>\n",
       "      <td>0.346431</td>\n",
       "      <td>1.477624</td>\n",
       "      <td>...</td>\n",
       "      <td>1.106000</td>\n",
       "      <td>2.131452</td>\n",
       "      <td>1.824046</td>\n",
       "      <td>2.082840</td>\n",
       "      <td>2.086788</td>\n",
       "      <td>1.563331</td>\n",
       "      <td>0.788437</td>\n",
       "      <td>0.436628</td>\n",
       "      <td>0.294574</td>\n",
       "      <td>0.181487</td>\n",
       "    </tr>\n",
       "    <tr>\n",
       "      <th>2</th>\n",
       "      <td>2500.473145</td>\n",
       "      <td>1772.500000</td>\n",
       "      <td>1432.996560</td>\n",
       "      <td>8.4</td>\n",
       "      <td>284.600006</td>\n",
       "      <td>0.478452</td>\n",
       "      <td>0.210531</td>\n",
       "      <td>1.090423</td>\n",
       "      <td>0.360744</td>\n",
       "      <td>0.946055</td>\n",
       "      <td>...</td>\n",
       "      <td>0.967446</td>\n",
       "      <td>1.962500</td>\n",
       "      <td>1.463750</td>\n",
       "      <td>1.369159</td>\n",
       "      <td>1.247210</td>\n",
       "      <td>1.092017</td>\n",
       "      <td>0.519553</td>\n",
       "      <td>0.320830</td>\n",
       "      <td>0.221710</td>\n",
       "      <td>0.146560</td>\n",
       "    </tr>\n",
       "    <tr>\n",
       "      <th>3</th>\n",
       "      <td>2555.221924</td>\n",
       "      <td>2492.899902</td>\n",
       "      <td>1465.589029</td>\n",
       "      <td>9.0</td>\n",
       "      <td>132.000000</td>\n",
       "      <td>0.512141</td>\n",
       "      <td>0.226217</td>\n",
       "      <td>1.160659</td>\n",
       "      <td>0.358593</td>\n",
       "      <td>0.996903</td>\n",
       "      <td>...</td>\n",
       "      <td>1.068143</td>\n",
       "      <td>2.376538</td>\n",
       "      <td>1.979047</td>\n",
       "      <td>2.345064</td>\n",
       "      <td>2.218439</td>\n",
       "      <td>1.995184</td>\n",
       "      <td>0.850978</td>\n",
       "      <td>0.474515</td>\n",
       "      <td>0.348262</td>\n",
       "      <td>0.198423</td>\n",
       "    </tr>\n",
       "    <tr>\n",
       "      <th>4</th>\n",
       "      <td>3065.522217</td>\n",
       "      <td>3304.800049</td>\n",
       "      <td>1476.364735</td>\n",
       "      <td>12.7</td>\n",
       "      <td>245.000000</td>\n",
       "      <td>0.386640</td>\n",
       "      <td>0.276154</td>\n",
       "      <td>1.027501</td>\n",
       "      <td>0.356752</td>\n",
       "      <td>1.272245</td>\n",
       "      <td>...</td>\n",
       "      <td>1.155076</td>\n",
       "      <td>1.865711</td>\n",
       "      <td>1.766413</td>\n",
       "      <td>2.519427</td>\n",
       "      <td>3.441490</td>\n",
       "      <td>2.888474</td>\n",
       "      <td>1.341962</td>\n",
       "      <td>0.759380</td>\n",
       "      <td>0.538935</td>\n",
       "      <td>0.295528</td>\n",
       "    </tr>\n",
       "  </tbody>\n",
       "</table>\n",
       "<p>5 rows × 55 columns</p>\n",
       "</div>"
      ],
      "text/plain": [
       "      AvgPower     ActPower  AvgRotSpeed  WindSpeed  NacelleDirection  \\\n",
       "0  2818.207520  3291.300049  1487.871218       14.2        226.699997   \n",
       "1  2528.062988  2454.500000  1471.267571       10.6        231.699997   \n",
       "2  2500.473145  1772.500000  1432.996560        8.4        284.600006   \n",
       "3  2555.221924  2492.899902  1465.589029        9.0        132.000000   \n",
       "4  3065.522217  3304.800049  1476.364735       12.7        245.000000   \n",
       "\n",
       "   GbxHssRr_RMS_0  GbxHssRr_RMS_1  GbxHssRr_RMS_2  GbxHssRr_RMS_3  \\\n",
       "0        0.404392        0.258909        0.811581        0.344739   \n",
       "1        0.532580        0.244108        1.221325        0.346431   \n",
       "2        0.478452        0.210531        1.090423        0.360744   \n",
       "3        0.512141        0.226217        1.160659        0.358593   \n",
       "4        0.386640        0.276154        1.027501        0.356752   \n",
       "\n",
       "   GbxHssRr_RMS_4  ...  GbxHssRr_RMS_40  GbxHssRr_RMS_41  GbxHssRr_RMS_42  \\\n",
       "0        1.497359  ...         1.101426         1.969857         1.778854   \n",
       "1        1.477624  ...         1.106000         2.131452         1.824046   \n",
       "2        0.946055  ...         0.967446         1.962500         1.463750   \n",
       "3        0.996903  ...         1.068143         2.376538         1.979047   \n",
       "4        1.272245  ...         1.155076         1.865711         1.766413   \n",
       "\n",
       "   GbxHssRr_RMS_43  GbxHssRr_RMS_44  GbxHssRr_RMS_45  GbxHssRr_RMS_46  \\\n",
       "0         2.673142         3.386242         2.750154         1.419267   \n",
       "1         2.082840         2.086788         1.563331         0.788437   \n",
       "2         1.369159         1.247210         1.092017         0.519553   \n",
       "3         2.345064         2.218439         1.995184         0.850978   \n",
       "4         2.519427         3.441490         2.888474         1.341962   \n",
       "\n",
       "   GbxHssRr_RMS_47  GbxHssRr_RMS_48  GbxHssRr_RMS_49  \n",
       "0         0.809299         0.444020         0.272188  \n",
       "1         0.436628         0.294574         0.181487  \n",
       "2         0.320830         0.221710         0.146560  \n",
       "3         0.474515         0.348262         0.198423  \n",
       "4         0.759380         0.538935         0.295528  \n",
       "\n",
       "[5 rows x 55 columns]"
      ]
     },
     "execution_count": 8,
     "metadata": {},
     "output_type": "execute_result"
    }
   ],
   "source": [
    "path = '/Volumes/OsvikExtra/VibrationData/RMS_dataset/GbxHssRr_RMS_power>2500_WTG02.csv'\n",
    "data = pd.read_csv(path)\n",
    "data.head()"
   ]
  },
  {
   "cell_type": "code",
   "execution_count": 9,
   "metadata": {},
   "outputs": [],
   "source": [
    "data = data.drop(columns=['ActPower'])\n",
    "def train_test_split(df, percentage):\n",
    "    split_index = int(np.floor(df.shape[0]) * percentage)\n",
    "    train = df[:split_index]\n",
    "    test = df[split_index:].reset_index(drop=True)\n",
    "    return train, test\n",
    "\n",
    "train, test = train_test_split(data, 0.8)"
   ]
  },
  {
   "cell_type": "code",
   "execution_count": 10,
   "metadata": {},
   "outputs": [
    {
     "name": "stdout",
     "output_type": "stream",
     "text": [
      "(228, 54)\n",
      "(58, 54)\n"
     ]
    }
   ],
   "source": [
    "print(train.shape)\n",
    "print(test.shape)"
   ]
  },
  {
   "cell_type": "markdown",
   "metadata": {},
   "source": [
    "## Scale with StandardScaler"
   ]
  },
  {
   "cell_type": "code",
   "execution_count": 11,
   "metadata": {},
   "outputs": [],
   "source": [
    "scaler = StandardScaler()\n",
    "train_scaled = scaler.fit_transform(train)\n",
    "test_scaled = scaler.transform(test)"
   ]
  },
  {
   "cell_type": "code",
   "execution_count": 12,
   "metadata": {},
   "outputs": [
    {
     "name": "stdout",
     "output_type": "stream",
     "text": [
      "The number of components is: 18\n",
      "The training reonstruction variance is: 0.046404543685996634\n",
      "The testing reonstruction variance is: 0.09852230121728728\n",
      "MAE loss on train data using pca: 0.16226539990476746\n",
      "MAE loss on test data using pca: 0.2171445650893616\n"
     ]
    }
   ],
   "source": [
    "test_pca_reconstructed, train_pca_reconstructed = pca.pca_calc(train_scaled, test_scaled, 0.95)"
   ]
  },
  {
   "cell_type": "markdown",
   "metadata": {},
   "source": [
    "## TEST #2: Run PCA with WTG02 as training set and WTG03 as test set\n",
    "Calculates mae in pca.py <br>\n",
    "Ovservations: <br>\n",
    "TEST #2 gives a higher training MAE Loss than TEST #1 but not as bad as TEST #4, #5 and #6"
   ]
  },
  {
   "cell_type": "code",
   "execution_count": 13,
   "metadata": {},
   "outputs": [
    {
     "name": "stdout",
     "output_type": "stream",
     "text": [
      "The number of components is: 19\n",
      "The training reonstruction variance is: 0.046779727255690434\n",
      "The testing reonstruction variance is: 1.5749871200020158\n",
      "MAE loss on train data using pca: 0.1612167038828315\n",
      "MAE loss on test data using pca: 0.9383249140495296\n"
     ]
    }
   ],
   "source": [
    "wtg02 = data\n",
    "wtg03_path = '/Volumes/OsvikExtra/VibrationData/RMS_dataset/GbxHssRr_RMS_power>2500_WTG03.csv' \n",
    "wtg03 = pd.read_csv(wtg03_path)\n",
    "wtg03 = wtg03.drop(columns=['ActPower'])\n",
    "\n",
    "#Scale with StandardScaler\n",
    "scaler = StandardScaler()\n",
    "wtg02_scaled = scaler.fit_transform(wtg02)\n",
    "wtg03_scaled = scaler.transform(wtg03)\n",
    "\n",
    "#PCA\n",
    "wtg02_pca_reconstructed, wtg03_pca_reconstructed = pca.pca_calc(wtg02_scaled, wtg03_scaled, 0.95)"
   ]
  },
  {
   "cell_type": "markdown",
   "metadata": {},
   "source": [
    "## TEST #3: Run PCA with WTG02 and 50% of WTG03 as training and the remaining as testing\n",
    "Calculates mae in pca.py <br>\n",
    "Ovservations: <br>\n",
    "TEST #3 gives a lower training MAE Loss than TEST #2 <br>\n",
    "TEST #3 gives about the same MAE training Loss as TEST #1\n"
   ]
  },
  {
   "cell_type": "code",
   "execution_count": 14,
   "metadata": {},
   "outputs": [
    {
     "name": "stdout",
     "output_type": "stream",
     "text": [
      "The number of components is: 19\n",
      "The training reonstruction variance is: 0.048583668826653575\n",
      "The testing reonstruction variance is: 0.08874307258757708\n",
      "MAE loss on train data using pca: 0.16388003203123022\n",
      "MAE loss on test data using pca: 0.22631195819395855\n"
     ]
    }
   ],
   "source": [
    "wtg03_train, wtg03_test = train_test_split(wtg03, 0.5)\n",
    "wtg02_train = wtg02.append(wtg03_train)\n",
    "\n",
    "scaler = StandardScaler()\n",
    "wtg02_train_scaled = scaler.fit_transform(wtg02_train)\n",
    "wtg03_test_scaled = scaler.transform(wtg03_test)\n",
    "\n",
    "wtg02_train_pca_reconstructed, wtg03_test_pca_reconstructed = pca.pca_calc(wtg02_train_scaled, \n",
    "                                                                           wtg03_test_scaled, \n",
    "                                                                           0.95)"
   ]
  },
  {
   "cell_type": "markdown",
   "metadata": {},
   "source": [
    "## TEST #4: Run PCA with WTG01 as training and WTG02 as testing\n",
    "Calculates mae in pca.py <br>\n",
    "Ovservations: <br>\n",
    "Training MAE Loss is incredibly bad\n"
   ]
  },
  {
   "cell_type": "code",
   "execution_count": null,
   "metadata": {},
   "outputs": [],
   "source": [
    "wtg01_path = '/Volumes/OsvikExtra/VibrationData/RMS_dataset/GbxHssRr_RMS_power>2500_WTG01.csv' \n",
    "wtg01 = pd.read_csv(wtg01_path)\n",
    "wtg01 = wtg01.drop(columns=['ActPower'])"
   ]
  },
  {
   "cell_type": "code",
   "execution_count": null,
   "metadata": {},
   "outputs": [],
   "source": [
    "scaler = StandardScaler()\n",
    "wtg01_scaled = scaler.fit_transform(wtg01)\n",
    "wtg02_scaled = scaler.transform(wtg02)\n",
    "wtg01_pca_reconstructed, wtg02_pca_reconstructed = pca.pca_calc(wtg01_scaled, \n",
    "                                                                wtg02_scaled, \n",
    "                                                                0.95)"
   ]
  },
  {
   "cell_type": "markdown",
   "metadata": {},
   "source": [
    "## TEST #5: Run PCA with WTG01 as training and WTG04 as testing\n",
    "Calculates mae in pca.py <br>\n",
    "Ovservations: <br>\n",
    "Training reconstruction is also incredibly bad - about the same as TEST #4"
   ]
  },
  {
   "cell_type": "code",
   "execution_count": null,
   "metadata": {},
   "outputs": [],
   "source": [
    "wtg04_path = '/Volumes/OsvikExtra/VibrationData/RMS_dataset/GbxHssRr_RMS_power>2500_WTG04.csv' \n",
    "wtg04 = pd.read_csv(wtg04_path)\n",
    "wtg04 = wtg04.drop(columns=['ActPower'])"
   ]
  },
  {
   "cell_type": "code",
   "execution_count": null,
   "metadata": {},
   "outputs": [],
   "source": [
    "scaler = StandardScaler()\n",
    "wtg01_scaled = scaler.fit_transform(wtg01)\n",
    "wtg04_scaled = scaler.transform(wtg04)\n",
    "wtg01_pca_reconstructed, wtg04_pca_reconstructed = pca.pca_calc(wtg01_scaled, \n",
    "                                                                wtg04_scaled, \n",
    "                                                                0.95)"
   ]
  },
  {
   "cell_type": "markdown",
   "metadata": {},
   "source": [
    "## TEST #6: Run PCA with WTG01 as training and WTG03 as testing\n",
    "Calculates mae in pca.py <br>\n",
    "Ovservations: <br>\n",
    "Training reconstruction is also incredibly bad - about the same as TEST #4 and TEST #5"
   ]
  },
  {
   "cell_type": "code",
   "execution_count": null,
   "metadata": {},
   "outputs": [],
   "source": [
    "scaler = StandardScaler()\n",
    "wtg01_scaled = scaler.fit_transform(wtg01)\n",
    "wtg03_scaled = scaler.transform(wtg03)\n",
    "wtg01_pca_reconstructed, wtg03_pca_reconstructed = pca.pca_calc(wtg01_scaled, \n",
    "                                                                wtg03_scaled, \n",
    "                                                                0.95)"
   ]
  },
  {
   "cell_type": "code",
   "execution_count": null,
   "metadata": {},
   "outputs": [],
   "source": []
  }
 ],
 "metadata": {
  "kernelspec": {
   "display_name": "Python 3",
   "language": "python",
   "name": "python3"
  },
  "language_info": {
   "codemirror_mode": {
    "name": "ipython",
    "version": 3
   },
   "file_extension": ".py",
   "mimetype": "text/x-python",
   "name": "python",
   "nbconvert_exporter": "python",
   "pygments_lexer": "ipython3",
   "version": "3.7.1"
  }
 },
 "nbformat": 4,
 "nbformat_minor": 2
}
