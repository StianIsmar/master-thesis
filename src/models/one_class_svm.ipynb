{
 "cells": [
  {
   "cell_type": "code",
   "execution_count": 1,
   "metadata": {},
   "outputs": [],
   "source": [
    "%load_ext autoreload"
   ]
  },
  {
   "cell_type": "code",
   "execution_count": 2,
   "metadata": {},
   "outputs": [
    {
     "name": "stdout",
     "output_type": "stream",
     "text": [
      "ROOT /Users/mortenolsenosvik/Documents/NTNU/Master/master-thesis/src\n",
      "appended\n",
      "/Users/mortenolsenosvik/Documents/NTNU/Master/master-thesis/src\n"
     ]
    }
   ],
   "source": [
    "import random\n",
    "import sys, os\n",
    "import numpy as np\n",
    "import pandas as pd\n",
    "import seaborn as sns\n",
    "sns.set(color_codes=True)\n",
    "import matplotlib.pyplot as plt\n",
    "\n",
    "from sklearn.svm import OneClassSVM\n",
    "\n",
    "if not \"../data_processing\" in sys.path:\n",
    "    sys.path.append(\"../data_processing\")\n",
    "\n",
    "%autoreload\n",
    "import build_dataset"
   ]
  },
  {
   "cell_type": "code",
   "execution_count": 3,
   "metadata": {},
   "outputs": [],
   "source": [
    "def train_test_split(df, percentage):\n",
    "    split_index = int(np.floor(df.shape[0]) * percentage)\n",
    "    train = df[:split_index]\n",
    "    test = df[split_index:].reset_index(drop=True)\n",
    "    return train, test"
   ]
  },
  {
   "cell_type": "markdown",
   "metadata": {},
   "source": [
    "### Load Datasets"
   ]
  },
  {
   "cell_type": "code",
   "execution_count": 4,
   "metadata": {},
   "outputs": [],
   "source": [
    "wt1_path = '/Volumes/OsvikExtra/VibrationData/RMS_dataset/GbxHssRr_RMS_WTG01.csv'\n",
    "wt1 = pd.read_csv(wt1_path)\n",
    "\n",
    "wt2_path = '/Volumes/OsvikExtra/VibrationData/RMS_dataset/GbxHssRr_RMS_WTG02.csv'\n",
    "wt2 = pd.read_csv(wt2_path)\n",
    "\n",
    "wt3_path = '/Volumes/OsvikExtra/VibrationData/RMS_dataset/GbxHssRr_RMS_WTG03.csv'\n",
    "wt3 = pd.read_csv(wt3_path)\n",
    "\n",
    "wt4_path = '/Volumes/OsvikExtra/VibrationData/RMS_dataset/GbxHssRr_RMS_WTG04.csv'\n",
    "wt4 = pd.read_csv(wt4_path)\n"
   ]
  },
  {
   "cell_type": "markdown",
   "metadata": {},
   "source": [
    "### Process data"
   ]
  },
  {
   "cell_type": "code",
   "execution_count": 5,
   "metadata": {},
   "outputs": [],
   "source": [
    "# Remove uninteresting columns\n",
    "wt1_mod = wt1.drop(columns=['ActPower','WindSpeed', 'NacelleDirection'])\n",
    "wt2_mod = wt2.drop(columns=['ActPower','WindSpeed', 'NacelleDirection','RMS_component_interval'])\n",
    "wt3_mod = wt3.drop(columns=['ActPower','WindSpeed', 'NacelleDirection'])\n",
    "wt4_mod = wt4.drop(columns=['ActPower','WindSpeed', 'NacelleDirection'])\n",
    "\n",
    "\n",
    "# Filter data sets IMPORTANT STEP\n",
    "wt1_mod = wt1_mod.drop(wt1_mod[wt1_mod.AvgRotSpeed < 1400].index)\n",
    "wt2_mod = wt2_mod.drop(wt2_mod[wt2_mod.AvgRotSpeed < 1400].index)\n",
    "wt3_mod = wt3_mod.drop(wt3_mod[wt3_mod.AvgRotSpeed < 1400].index)\n",
    "wt4_mod = wt4_mod.drop(wt4_mod[wt4_mod.AvgRotSpeed < 1400].index)\n",
    "\n",
    "\n",
    "# Add target to each data set. Turbine 2 and 3 have target = 0 as they are OK. Tubine 1 has target = 1 as it has \n",
    "# faulty behavior. Turbine 4 has target = 2 as it has the most faulty behavior.\n",
    "wt1_mod.insert(0, 'Target', np.ones(wt1_mod.shape[0]))\n",
    "wt2_mod.insert(0, 'Target', np.ones(wt2_mod.shape[0])*2)\n",
    "wt3_mod.insert(0, 'Target', np.ones(wt3_mod.shape[0])*3)\n",
    "wt4_mod.insert(0, 'Target', np.ones(wt4_mod.shape[0])*4)"
   ]
  },
  {
   "cell_type": "markdown",
   "metadata": {},
   "source": [
    "### Split into training and testing"
   ]
  },
  {
   "cell_type": "code",
   "execution_count": 6,
   "metadata": {},
   "outputs": [],
   "source": [
    "# Split each turbine data set into training and testing\n",
    "wt1_train, wt1_test = train_test_split(wt1_mod, 0.5)\n",
    "wt2_train, wt2_test = train_test_split(wt2_mod, 0.5)\n",
    "wt3_train, wt3_test = train_test_split(wt3_mod, 0.5)\n",
    "wt4_train, wt4_test = train_test_split(wt4_mod, 0.5)"
   ]
  },
  {
   "cell_type": "markdown",
   "metadata": {},
   "source": [
    "### Selecting GbxHssRr_RMS_13  and GbxHssRr_RMS_30  as features"
   ]
  },
  {
   "cell_type": "code",
   "execution_count": 7,
   "metadata": {
    "scrolled": true
   },
   "outputs": [],
   "source": [
    "# Separate features from target\n",
    "wt1_X_train_small = wt1_train.loc[:, ['GbxHssRr_RMS_13', 'GbxHssRr_RMS_30']]\n",
    "wt1_y_train       = wt1_train['Target']\n",
    "wt1_X_test_small  = wt1_test.loc[:, ['GbxHssRr_RMS_13', 'GbxHssRr_RMS_30']]\n",
    "wt1_y_test        = wt1_test['Target']\n",
    "\n",
    "wt2_X_train_small = wt2_train.loc[:, ['GbxHssRr_RMS_13', 'GbxHssRr_RMS_30']]\n",
    "wt2_y_train       = wt2_train['Target']\n",
    "wt2_X_test_small  = wt2_test.loc[:, ['GbxHssRr_RMS_13', 'GbxHssRr_RMS_30']]\n",
    "wt2_y_test        = wt2_test['Target']\n",
    "\n",
    "wt3_X_train_small = wt3_train.loc[:, ['GbxHssRr_RMS_13', 'GbxHssRr_RMS_30']]\n",
    "wt3_y_train       = wt3_train['Target']\n",
    "wt3_X_test_small  = wt3_test.loc[:, ['GbxHssRr_RMS_13', 'GbxHssRr_RMS_30']]\n",
    "wt3_y_test        = wt3_test['Target']\n",
    "\n",
    "wt4_X_train_small = wt4_train.loc[:, ['GbxHssRr_RMS_13', 'GbxHssRr_RMS_30']]\n",
    "wt4_y_train       = wt4_train['Target']\n",
    "wt4_X_test_small  = wt4_test.loc[:, ['GbxHssRr_RMS_13', 'GbxHssRr_RMS_30']]\n",
    "wt4_y_test        = wt4_test['Target']"
   ]
  },
  {
   "cell_type": "markdown",
   "metadata": {},
   "source": [
    "## One Class SVM for normal behavior (Turbine 2 and 3)"
   ]
  },
  {
   "cell_type": "code",
   "execution_count": 9,
   "metadata": {},
   "outputs": [
    {
     "data": {
      "text/plain": [
       "OneClassSVM(cache_size=200, coef0=0.0, degree=3, gamma='auto', kernel='rbf',\n",
       "      max_iter=-1, nu=0.01, random_state=None, shrinking=False, tol=0.001,\n",
       "      verbose=False)"
      ]
     },
     "execution_count": 9,
     "metadata": {},
     "output_type": "execute_result"
    }
   ],
   "source": [
    "clf = OneClassSVM(gamma='auto', shrinking=False, nu=0.01)\n",
    "clf.fit(wt2_X_train_small)"
   ]
  },
  {
   "cell_type": "code",
   "execution_count": 10,
   "metadata": {},
   "outputs": [
    {
     "data": {
      "text/plain": [
       "0.9875776397515528"
      ]
     },
     "execution_count": 10,
     "metadata": {},
     "output_type": "execute_result"
    }
   ],
   "source": [
    "pred = clf.predict(wt3_X_train_small)\n",
    "\n",
    "score = pred>0\n",
    "score.mean()"
   ]
  },
  {
   "cell_type": "code",
   "execution_count": 11,
   "metadata": {},
   "outputs": [],
   "source": [
    "z = np.linspace(0,2,200)"
   ]
  },
  {
   "cell_type": "code",
   "execution_count": 12,
   "metadata": {},
   "outputs": [
    {
     "data": {
      "text/html": [
       "<div>\n",
       "<style scoped>\n",
       "    .dataframe tbody tr th:only-of-type {\n",
       "        vertical-align: middle;\n",
       "    }\n",
       "\n",
       "    .dataframe tbody tr th {\n",
       "        vertical-align: top;\n",
       "    }\n",
       "\n",
       "    .dataframe thead th {\n",
       "        text-align: right;\n",
       "    }\n",
       "</style>\n",
       "<table border=\"1\" class=\"dataframe\">\n",
       "  <thead>\n",
       "    <tr style=\"text-align: right;\">\n",
       "      <th></th>\n",
       "      <th>GbxHssRr_RMS_13</th>\n",
       "      <th>GbxHssRr_RMS_30</th>\n",
       "      <th>y_hat</th>\n",
       "    </tr>\n",
       "  </thead>\n",
       "  <tbody>\n",
       "    <tr>\n",
       "      <th>0</th>\n",
       "      <td>0.000000</td>\n",
       "      <td>0.0</td>\n",
       "      <td>-1</td>\n",
       "    </tr>\n",
       "    <tr>\n",
       "      <th>1</th>\n",
       "      <td>0.010050</td>\n",
       "      <td>0.0</td>\n",
       "      <td>-1</td>\n",
       "    </tr>\n",
       "    <tr>\n",
       "      <th>2</th>\n",
       "      <td>0.020101</td>\n",
       "      <td>0.0</td>\n",
       "      <td>-1</td>\n",
       "    </tr>\n",
       "    <tr>\n",
       "      <th>3</th>\n",
       "      <td>0.030151</td>\n",
       "      <td>0.0</td>\n",
       "      <td>-1</td>\n",
       "    </tr>\n",
       "    <tr>\n",
       "      <th>4</th>\n",
       "      <td>0.040201</td>\n",
       "      <td>0.0</td>\n",
       "      <td>-1</td>\n",
       "    </tr>\n",
       "  </tbody>\n",
       "</table>\n",
       "</div>"
      ],
      "text/plain": [
       "   GbxHssRr_RMS_13  GbxHssRr_RMS_30  y_hat\n",
       "0         0.000000              0.0     -1\n",
       "1         0.010050              0.0     -1\n",
       "2         0.020101              0.0     -1\n",
       "3         0.030151              0.0     -1\n",
       "4         0.040201              0.0     -1"
      ]
     },
     "execution_count": 12,
     "metadata": {},
     "output_type": "execute_result"
    }
   ],
   "source": [
    "xx1, xx2 = np.meshgrid(z,z)\n",
    "df = pd.DataFrame()\n",
    "df['GbxHssRr_RMS_13'] = xx1.ravel()\n",
    "df['GbxHssRr_RMS_30'] = xx2.ravel()\n",
    "df['y_hat'] = clf.predict(df)\n",
    "df.head()"
   ]
  },
  {
   "cell_type": "code",
   "execution_count": 13,
   "metadata": {},
   "outputs": [
    {
     "data": {
      "text/plain": [
       "(0.0, 200.0)"
      ]
     },
     "execution_count": 13,
     "metadata": {},
     "output_type": "execute_result"
    },
    {
     "data": {
      "image/png": "[encoded data removed]",
      "text/plain": [
       "<Figure size 432x288 with 2 Axes>"
      ]
     },
     "metadata": {
      "needs_background": "light"
     },
     "output_type": "display_data"
    }
   ],
   "source": [
    "mat = df.y_hat.values.reshape(xx1.shape)\n",
    "mat = pd.DataFrame(mat, index=z.round(3), columns=z.round(3))\n",
    "ax = sns.heatmap(mat)\n",
    "ax.set_ylim(*reversed(ax.get_ylim()))"
   ]
  },
  {
   "cell_type": "code",
   "execution_count": 14,
   "metadata": {},
   "outputs": [
    {
     "data": {
      "text/plain": [
       "<matplotlib.axes._subplots.AxesSubplot at 0x11e01da20>"
      ]
     },
     "execution_count": 14,
     "metadata": {},
     "output_type": "execute_result"
    },
    {
     "data": {
      "image/png": "[encoded data removed]",
      "text/plain": [
       "<Figure size 432x288 with 2 Axes>"
      ]
     },
     "metadata": {
      "needs_background": "light"
     },
     "output_type": "display_data"
    }
   ],
   "source": [
    "df.plot.scatter(x='GbxHssRr_RMS_13', y='GbxHssRr_RMS_30', c='y_hat')"
   ]
  },
  {
   "cell_type": "code",
   "execution_count": null,
   "metadata": {},
   "outputs": [],
   "source": []
  },
  {
   "cell_type": "code",
   "execution_count": null,
   "metadata": {},
   "outputs": [],
   "source": []
  }
 ],
 "metadata": {
  "kernelspec": {
   "display_name": "Python 3",
   "language": "python",
   "name": "python3"
  },
  "language_info": {
   "codemirror_mode": {
    "name": "ipython",
    "version": 3
   },
   "file_extension": ".py",
   "mimetype": "text/x-python",
   "name": "python",
   "nbconvert_exporter": "python",
   "pygments_lexer": "ipython3",
   "version": "3.7.1"
  }
 },
 "nbformat": 4,
 "nbformat_minor": 2
}
