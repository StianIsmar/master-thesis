{
 "cells": [
  {
   "cell_type": "code",
   "execution_count": 1,
   "metadata": {},
   "outputs": [],
   "source": [
    "%load_ext autoreload"
   ]
  },
  {
   "cell_type": "code",
   "execution_count": 2,
   "metadata": {},
   "outputs": [
    {
     "name": "stdout",
     "output_type": "stream",
     "text": [
      "appended\n",
      "appended\n",
      "ROOT /Users/stianismar/Dropbox/gitProsjekter/master-thesis/src\n",
      "/Users/stianismar/Dropbox/gitProsjekter/master-thesis/src\n",
      "ROOT /Users/stianismar/Dropbox/gitProsjekter/master-thesis/src\n",
      "ROOT /Users/stianismar/Dropbox/gitProsjekter/master-thesis/src\n",
      "ROOT /Users/stianismar/Dropbox/gitProsjekter/master-thesis/src\n"
     ]
    }
   ],
   "source": [
    "import numpy as np\n",
    "import pandas as pd\n",
    "import matplotlib.pyplot as plt\n",
    "import sys, os,os.path\n",
    "ROOT_PATH = os.path.abspath(\"..\").split(\"data_processing\")[0]\n",
    "module_paths = []\n",
    "module_paths.append(os.path.abspath(os.path.join(ROOT_PATH+\"/data_processing/\")))\n",
    "module_paths.append(os.path.abspath(os.path.join(ROOT_PATH+\"/hybrid_analysis_process_functions/\")))\n",
    "module_paths.append(os.path.abspath(os.path.join(ROOT_PATH+\"/utils/\")))\n",
    "for module_path in module_paths:\n",
    "    if module_path not in sys.path:\n",
    "        print(\"appended\")\n",
    "        sys.path.append(module_path)\n",
    "%autoreload\n",
    "import functions as f\n",
    "import wt_data, ff_transform, explore_fft_time_data, envelope, build_dataset, load_raw_signals, envelope, envelope_emd,plotting_methods\n",
    "import resample_signals, filter_signals, plotting_methods,filters,correlation_coeff, feature_extraction"
   ]
  },
  {
   "cell_type": "code",
   "execution_count": 7,
   "metadata": {},
   "outputs": [
    {
     "name": "stdout",
     "output_type": "stream",
     "text": [
      "[[ 3.07617138e-03  4.99956963e-01 -5.32890518e-01 ...  2.58160229e-01\n",
      "  -2.47644378e-01  1.49803261e-01]\n",
      " [-2.50424624e-02 -3.28483931e-02  4.03481169e-02 ... -6.85989585e-03\n",
      "  -4.06814296e-02 -3.13722288e-02]\n",
      " [-1.16691569e-01 -1.28684077e-01 -1.46054834e-01 ... -6.49245062e-02\n",
      "  -9.58849394e-02 -1.11967273e-01]\n",
      " ...\n",
      " [-9.98238480e-04 -9.99452657e-04 -1.00066860e-03 ... -3.24535683e-03\n",
      "  -3.24498690e-03 -3.24461648e-03]\n",
      " [ 2.19553950e-04  2.20056741e-04  2.20559090e-04 ...  3.40908714e-03\n",
      "   3.40886514e-03  3.40864250e-03]\n",
      " [-3.30672282e-04 -3.30705485e-04 -3.30738611e-04 ... -3.61256216e-04\n",
      "  -3.61269409e-04 -3.61282567e-04]]\n",
      "[[-6.04686948e-01 -1.94530953e+00  2.12874322e+00 ...  2.23641181e+00\n",
      "  -6.25410215e-01 -2.33004336e+00]\n",
      " [ 4.13622172e-01  5.56233614e-01 -1.35686644e-01 ... -3.60080765e-01\n",
      "  -3.07537629e-01 -7.58111166e-02]\n",
      " [ 6.01173554e-02  4.01600160e-02 -1.01907157e-01 ...  6.35743940e-01\n",
      "   8.33895438e-01  8.91093262e-01]\n",
      " ...\n",
      " [-4.45148758e-04 -4.46281743e-04 -4.47410569e-04 ...  1.12641720e-02\n",
      "   1.12671386e-02  1.12700795e-02]\n",
      " [ 1.32713575e-03  1.32749658e-03  1.32785682e-03 ...  1.44045209e-03\n",
      "   1.44038262e-03  1.44031457e-03]\n",
      " [-1.85390164e-03 -1.85404890e-03 -1.85419608e-03 ...  1.00049691e-02\n",
      "   1.00036074e-02  1.00022452e-02]]\n",
      "[[-6.57529976e-01 -3.11505760e-02  5.98995082e-01 ... -4.10961659e+00\n",
      "   3.61304703e+00  2.14608472e+00]\n",
      " [ 3.80252630e-01  3.98105642e-01  1.80490652e-01 ...  1.17972383e-01\n",
      "   2.00909325e-01  1.62150023e-01]\n",
      " [-2.17172038e-01 -2.51331225e-01 -2.99502814e-01 ... -7.46085695e-01\n",
      "  -7.99497293e-01 -7.75214103e-01]\n",
      " ...\n",
      " [ 4.97929352e-03  4.98098621e-03  4.98267455e-03 ... -2.13710104e-03\n",
      "  -2.14356584e-03 -2.15001398e-03]\n",
      " [ 3.55075135e-03  3.55059735e-03  3.55044156e-03 ... -7.09115920e-03\n",
      "  -7.09070453e-03 -7.09024921e-03]\n",
      " [-8.98134491e-03 -8.98135665e-03 -8.98136813e-03 ...  1.00795193e-02\n",
      "   1.00799146e-02  1.00803098e-02]]\n",
      "[[ 1.16607137e+00  1.19473035e+00 -1.51103506e+00 ...  1.55987583e-01\n",
      "  -1.46911759e+00  8.33485351e-01]\n",
      " [-1.44826883e-01 -1.61182314e-01  7.17125061e-02 ...  6.59921600e-02\n",
      "   1.03209309e-01  7.23775134e-02]\n",
      " [-2.50527163e-01 -1.72089920e-01 -5.96548627e-02 ...  4.18601278e-02\n",
      "   7.14573830e-02  6.71785847e-02]\n",
      " ...\n",
      " [-3.65225454e-03 -3.65229938e-03 -3.65234605e-03 ... -2.87373365e-02\n",
      "  -2.87450298e-02 -2.87527080e-02]\n",
      " [-7.82989411e-03 -7.83071126e-03 -7.83152720e-03 ...  1.15507675e-03\n",
      "   1.15715163e-03  1.15922631e-03]\n",
      " [ 4.16514351e-03  4.16540415e-03  4.16566484e-03 ...  1.11215078e-02\n",
      "   1.11213922e-02  1.11212765e-02]]\n",
      "[[-5.28404171e-01 -2.33113818e+00  2.50929486e+00 ... -3.15208141e+00\n",
      "   4.50306869e-01  3.31115987e+00]\n",
      " [-7.77175447e-02 -1.23880991e-01 -3.27717689e-01 ... -9.56056304e-02\n",
      "  -3.42752877e-01 -4.92319405e-01]\n",
      " [-4.43699374e-01 -4.26455672e-01 -2.89708350e-01 ... -1.49888062e-01\n",
      "  -1.47397107e-01 -1.44614138e-01]\n",
      " ...\n",
      " [-1.01782346e-02 -1.01895538e-02 -1.02008263e-02 ...  1.24793155e-02\n",
      "   1.24782503e-02  1.24770412e-02]\n",
      " [-5.73710320e-04 -5.73716094e-04 -5.73721549e-04 ...  7.17866695e-03\n",
      "   7.18533320e-03  7.19199253e-03]\n",
      " [-1.57908460e-02 -1.57907925e-02 -1.57907389e-02 ...  1.95366565e-02\n",
      "   1.95388066e-02  1.95409555e-02]]\n",
      "[[ 1.10427888e-01 -8.29847687e-02 -3.58611085e-02 ...  2.40655805e-01\n",
      "   1.88502343e-01 -3.05882956e-01]\n",
      " [ 1.59090207e-02 -1.09137088e-02 -3.53579446e-02 ...  5.69881999e-02\n",
      "   9.66465013e-03 -6.25504702e-02]\n",
      " [ 3.99406949e-02  4.35834128e-02  3.83918145e-02 ...  3.38687378e-02\n",
      "   2.27832125e-02 -1.35384327e-04]\n",
      " ...\n",
      " [ 1.19525667e-03  1.19510129e-03  1.19494337e-03 ... -1.31480568e-03\n",
      "  -1.31377287e-03 -1.31273771e-03]\n",
      " [ 2.06029253e-03  2.06045864e-03  2.06062441e-03 ...  2.98696429e-04\n",
      "   2.98530256e-04  2.98364367e-04]\n",
      " [-3.58147174e-05 -3.58082793e-05 -3.58018421e-05 ... -4.78090828e-04\n",
      "  -4.78032694e-04 -4.77974545e-04]]\n"
     ]
    }
   ],
   "source": [
    "# Reading filtered from disk\n",
    "from numpy import genfromtxt\n",
    "filtered_path = '/Volumes/OsvikExtra/signal_data/raw_filtered_6000Hz/gearbox/wt04/eemd_signals/'\n",
    "\n",
    "num_csvs = len([f for f in os.listdir(filtered_path) \n",
    "     if f.endswith('.csv') and os.path.isfile(os.path.join(filtered_path, f)) and f[0]=='i'])\n",
    "\n",
    "eemds = []\n",
    "filtered_freqs = []\n",
    "columns = []\n",
    "\n",
    "for i in range(num_csvs):\n",
    "    vals = genfromtxt(filtered_path+'interval_number_'+str(i)+'.csv', delimiter=',')\n",
    "    print(vals)\n",
    "    # df=pd.read_csv(filtered_path+'interval_number_'+str(i)+'.csv')\n",
    "    eemds.append(vals)\n",
    "    if i == 5:\n",
    "        break"
   ]
  },
  {
   "cell_type": "code",
   "execution_count": 8,
   "metadata": {},
   "outputs": [
    {
     "data": {
      "text/plain": [
       "(13, 20000)"
      ]
     },
     "execution_count": 8,
     "metadata": {},
     "output_type": "execute_result"
    }
   ],
   "source": [
    "eemds[0].shape\n"
   ]
  },
  {
   "cell_type": "code",
   "execution_count": 9,
   "metadata": {},
   "outputs": [
    {
     "name": "stdout",
     "output_type": "stream",
     "text": [
      "File exist\n"
     ]
    }
   ],
   "source": [
    "_, times, _, _ = load_raw_signals.load_raw('gearbox','wt04')"
   ]
  },
  {
   "cell_type": "code",
   "execution_count": 10,
   "metadata": {},
   "outputs": [],
   "source": [
    "j = 0\n",
    "# Rectify\n",
    "selected_IMF_index = 1\n",
    "fs,_,_,_ =  envelope.get_sampling_freq(eemds[j][selected_IMF_index],times[j][0:20000])\n",
    "\n",
    "highut_lp = 2000\n",
    "rectified = abs(eemds[j][selected_IMF_index])**2\n",
    "bandpass_filtered_rect_lp = filters.butter_lp_filter(rectified, highut_lp, fs, order=5)"
   ]
  },
  {
   "cell_type": "markdown",
   "metadata": {},
   "source": [
    "## Kanskje fjerne de som er under 1400? Som gjøres i den andre notebooken\n",
    "# Frequency domain"
   ]
  },
  {
   "cell_type": "code",
   "execution_count": null,
   "metadata": {},
   "outputs": [],
   "source": []
  }
 ],
 "metadata": {
  "kernelspec": {
   "display_name": "master-thesis",
   "language": "python",
   "name": "master-thesis"
  },
  "language_info": {
   "codemirror_mode": {
    "name": "ipython",
    "version": 3
   },
   "file_extension": ".py",
   "mimetype": "text/x-python",
   "name": "python",
   "nbconvert_exporter": "python",
   "pygments_lexer": "ipython3",
   "version": "3.7.6"
  }
 },
 "nbformat": 4,
 "nbformat_minor": 4
}
